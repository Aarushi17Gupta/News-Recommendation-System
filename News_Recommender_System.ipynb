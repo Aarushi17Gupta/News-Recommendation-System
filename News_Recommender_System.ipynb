{
 "cells": [
  {
   "cell_type": "markdown",
   "id": "0bca21a8",
   "metadata": {},
   "source": [
    "# News Recommender System\n",
    "### By:- Aarushi Gupta\n",
    "\n",
    "iPrint was managing its customer base by only recommending the most popular and similar news articles to what the user has already read or watched. However, the recommended news articles were often not relevant to the majority of the users. It was not able to recommend any new content to its customers, and gradually, the company started losing such users, which eventually resulted in immense revenue loss.\n",
    "iPrint being a cutting-edge company, is trying to solve this issue of revenue leakage by personalising user tastes and introducing new content to its users at the start of the day on the home page of the application. iPrint is planning to assess these recommendations by tracking whether the user clicks on those items or not. "
   ]
  },
  {
   "cell_type": "markdown",
   "id": "07ade8d8",
   "metadata": {},
   "source": [
    "### Loading platform_content dataset for content based filtering"
   ]
  },
  {
   "cell_type": "code",
   "execution_count": 1,
   "id": "1408fcd2",
   "metadata": {},
   "outputs": [],
   "source": [
    "# importing relevent libraries\n",
    "import pandas as pd\n",
    "import numpy as np\n",
    "import warnings\n",
    "warnings.filterwarnings(\"ignore\")"
   ]
  },
  {
   "cell_type": "code",
   "execution_count": 2,
   "id": "d2e30daa",
   "metadata": {},
   "outputs": [],
   "source": [
    "# loading the dataset\n",
    "content_df = pd.read_csv('Dataset/data/platform_content.csv')"
   ]
  },
  {
   "cell_type": "code",
   "execution_count": 3,
   "id": "7dd55313",
   "metadata": {},
   "outputs": [
    {
     "data": {
      "text/html": [
       "<div>\n",
       "<style scoped>\n",
       "    .dataframe tbody tr th:only-of-type {\n",
       "        vertical-align: middle;\n",
       "    }\n",
       "\n",
       "    .dataframe tbody tr th {\n",
       "        vertical-align: top;\n",
       "    }\n",
       "\n",
       "    .dataframe thead th {\n",
       "        text-align: right;\n",
       "    }\n",
       "</style>\n",
       "<table border=\"1\" class=\"dataframe\">\n",
       "  <thead>\n",
       "    <tr style=\"text-align: right;\">\n",
       "      <th></th>\n",
       "      <th>event_timestamp</th>\n",
       "      <th>interaction_type</th>\n",
       "      <th>item_id</th>\n",
       "      <th>producer_id</th>\n",
       "      <th>producer_session_id</th>\n",
       "      <th>producer_device_info</th>\n",
       "      <th>producer_location</th>\n",
       "      <th>producer_country</th>\n",
       "      <th>item_type</th>\n",
       "      <th>item_url</th>\n",
       "      <th>title</th>\n",
       "      <th>text_description</th>\n",
       "      <th>language</th>\n",
       "    </tr>\n",
       "  </thead>\n",
       "  <tbody>\n",
       "    <tr>\n",
       "      <th>0</th>\n",
       "      <td>1459192779</td>\n",
       "      <td>content_pulled_out</td>\n",
       "      <td>-6451309518266745024</td>\n",
       "      <td>4340306774493623681</td>\n",
       "      <td>8940341205206233829</td>\n",
       "      <td>NaN</td>\n",
       "      <td>NaN</td>\n",
       "      <td>NaN</td>\n",
       "      <td>HTML</td>\n",
       "      <td>http://www.nytimes.com/2016/03/28/business/dea...</td>\n",
       "      <td>Ethereum, a Virtual Currency, Enables Transact...</td>\n",
       "      <td>All of this work is still very early. The firs...</td>\n",
       "      <td>en</td>\n",
       "    </tr>\n",
       "    <tr>\n",
       "      <th>1</th>\n",
       "      <td>1459193988</td>\n",
       "      <td>content_present</td>\n",
       "      <td>-4110354420726924665</td>\n",
       "      <td>4340306774493623681</td>\n",
       "      <td>8940341205206233829</td>\n",
       "      <td>NaN</td>\n",
       "      <td>NaN</td>\n",
       "      <td>NaN</td>\n",
       "      <td>HTML</td>\n",
       "      <td>http://www.nytimes.com/2016/03/28/business/dea...</td>\n",
       "      <td>Ethereum, a Virtual Currency, Enables Transact...</td>\n",
       "      <td>All of this work is still very early. The firs...</td>\n",
       "      <td>en</td>\n",
       "    </tr>\n",
       "    <tr>\n",
       "      <th>2</th>\n",
       "      <td>1459194146</td>\n",
       "      <td>content_present</td>\n",
       "      <td>-7292285110016212249</td>\n",
       "      <td>4340306774493623681</td>\n",
       "      <td>8940341205206233829</td>\n",
       "      <td>NaN</td>\n",
       "      <td>NaN</td>\n",
       "      <td>NaN</td>\n",
       "      <td>HTML</td>\n",
       "      <td>http://cointelegraph.com/news/bitcoin-future-w...</td>\n",
       "      <td>Bitcoin Future: When GBPcoin of Branson Wins O...</td>\n",
       "      <td>The alarm clock wakes me at 8:00 with stream o...</td>\n",
       "      <td>en</td>\n",
       "    </tr>\n",
       "    <tr>\n",
       "      <th>3</th>\n",
       "      <td>1459194474</td>\n",
       "      <td>content_present</td>\n",
       "      <td>-6151852268067518688</td>\n",
       "      <td>3891637997717104548</td>\n",
       "      <td>-1457532940883382585</td>\n",
       "      <td>NaN</td>\n",
       "      <td>NaN</td>\n",
       "      <td>NaN</td>\n",
       "      <td>HTML</td>\n",
       "      <td>https://cloudplatform.googleblog.com/2016/03/G...</td>\n",
       "      <td>Google Data Center 360° Tour</td>\n",
       "      <td>We're excited to share the Google Data Center ...</td>\n",
       "      <td>en</td>\n",
       "    </tr>\n",
       "    <tr>\n",
       "      <th>4</th>\n",
       "      <td>1459194497</td>\n",
       "      <td>content_present</td>\n",
       "      <td>2448026894306402386</td>\n",
       "      <td>4340306774493623681</td>\n",
       "      <td>8940341205206233829</td>\n",
       "      <td>NaN</td>\n",
       "      <td>NaN</td>\n",
       "      <td>NaN</td>\n",
       "      <td>HTML</td>\n",
       "      <td>https://bitcoinmagazine.com/articles/ibm-wants...</td>\n",
       "      <td>IBM Wants to \"Evolve the Internet\" With Blockc...</td>\n",
       "      <td>The Aite Group projects the blockchain market ...</td>\n",
       "      <td>en</td>\n",
       "    </tr>\n",
       "  </tbody>\n",
       "</table>\n",
       "</div>"
      ],
      "text/plain": [
       "   event_timestamp    interaction_type              item_id  \\\n",
       "0       1459192779  content_pulled_out -6451309518266745024   \n",
       "1       1459193988     content_present -4110354420726924665   \n",
       "2       1459194146     content_present -7292285110016212249   \n",
       "3       1459194474     content_present -6151852268067518688   \n",
       "4       1459194497     content_present  2448026894306402386   \n",
       "\n",
       "           producer_id  producer_session_id producer_device_info  \\\n",
       "0  4340306774493623681  8940341205206233829                  NaN   \n",
       "1  4340306774493623681  8940341205206233829                  NaN   \n",
       "2  4340306774493623681  8940341205206233829                  NaN   \n",
       "3  3891637997717104548 -1457532940883382585                  NaN   \n",
       "4  4340306774493623681  8940341205206233829                  NaN   \n",
       "\n",
       "  producer_location producer_country item_type  \\\n",
       "0               NaN              NaN      HTML   \n",
       "1               NaN              NaN      HTML   \n",
       "2               NaN              NaN      HTML   \n",
       "3               NaN              NaN      HTML   \n",
       "4               NaN              NaN      HTML   \n",
       "\n",
       "                                            item_url  \\\n",
       "0  http://www.nytimes.com/2016/03/28/business/dea...   \n",
       "1  http://www.nytimes.com/2016/03/28/business/dea...   \n",
       "2  http://cointelegraph.com/news/bitcoin-future-w...   \n",
       "3  https://cloudplatform.googleblog.com/2016/03/G...   \n",
       "4  https://bitcoinmagazine.com/articles/ibm-wants...   \n",
       "\n",
       "                                               title  \\\n",
       "0  Ethereum, a Virtual Currency, Enables Transact...   \n",
       "1  Ethereum, a Virtual Currency, Enables Transact...   \n",
       "2  Bitcoin Future: When GBPcoin of Branson Wins O...   \n",
       "3                       Google Data Center 360° Tour   \n",
       "4  IBM Wants to \"Evolve the Internet\" With Blockc...   \n",
       "\n",
       "                                    text_description language  \n",
       "0  All of this work is still very early. The firs...       en  \n",
       "1  All of this work is still very early. The firs...       en  \n",
       "2  The alarm clock wakes me at 8:00 with stream o...       en  \n",
       "3  We're excited to share the Google Data Center ...       en  \n",
       "4  The Aite Group projects the blockchain market ...       en  "
      ]
     },
     "execution_count": 3,
     "metadata": {},
     "output_type": "execute_result"
    }
   ],
   "source": [
    "# printing first few rows of the dataset\n",
    "content_df.head()"
   ]
  },
  {
   "cell_type": "code",
   "execution_count": 4,
   "id": "a1fa4ae4",
   "metadata": {},
   "outputs": [],
   "source": [
    "#Increase column width to see Keywords values properly\n",
    "pd.set_option('max_colwidth', None)"
   ]
  },
  {
   "cell_type": "code",
   "execution_count": 5,
   "id": "f88ee7c9",
   "metadata": {},
   "outputs": [
    {
     "data": {
      "text/plain": [
       "0        6543\n",
       "1        6543\n",
       "2        1993\n",
       "3        1520\n",
       "4        8093\n",
       "        ...  \n",
       "3117     2891\n",
       "3118     1703\n",
       "3119    16970\n",
       "3120     6530\n",
       "3121      346\n",
       "Name: text_description, Length: 3122, dtype: int64"
      ]
     },
     "execution_count": 5,
     "metadata": {},
     "output_type": "execute_result"
    }
   ],
   "source": [
    "#Analysis on Keywords Column\n",
    "content_df['text_description'].str.len()"
   ]
  },
  {
   "cell_type": "code",
   "execution_count": 6,
   "id": "de2089ab",
   "metadata": {},
   "outputs": [
    {
     "data": {
      "text/plain": [
       "5449.734144778988"
      ]
     },
     "execution_count": 6,
     "metadata": {},
     "output_type": "execute_result"
    }
   ],
   "source": [
    "# mean length of content columns\n",
    "np.mean(content_df['text_description'].str.len())"
   ]
  },
  {
   "cell_type": "code",
   "execution_count": 7,
   "id": "d36902a6",
   "metadata": {},
   "outputs": [],
   "source": [
    "#Number of Keywords:\n",
    "number_of_keywords = []\n",
    "for keywords in content_df['text_description']:\n",
    "    n_keywords = len(keywords.split())\n",
    "    number_of_keywords.append(n_keywords)"
   ]
  },
  {
   "cell_type": "code",
   "execution_count": 8,
   "id": "6ed441b7",
   "metadata": {},
   "outputs": [
    {
     "data": {
      "text/plain": [
       "2809750"
      ]
     },
     "execution_count": 8,
     "metadata": {},
     "output_type": "execute_result"
    }
   ],
   "source": [
    "sum(number_of_keywords)"
   ]
  },
  {
   "cell_type": "markdown",
   "id": "ca67c4af",
   "metadata": {},
   "source": [
    "## EDA and Plots"
   ]
  },
  {
   "cell_type": "code",
   "execution_count": 9,
   "id": "c55ab2b4",
   "metadata": {},
   "outputs": [],
   "source": [
    "# importing relevent libraries for exploratory data analysis\n",
    "import matplotlib.pyplot as plt\n",
    "import seaborn as sns\n",
    "sns.set()"
   ]
  },
  {
   "cell_type": "markdown",
   "id": "a5a7a0dc",
   "metadata": {},
   "source": [
    "#### Histogram to analyse distribution of words "
   ]
  },
  {
   "cell_type": "code",
   "execution_count": 10,
   "id": "c04edb9c",
   "metadata": {},
   "outputs": [
    {
     "data": {
      "image/png": "[encoded data removed]",
      "text/plain": [
       "<Figure size 432x288 with 1 Axes>"
      ]
     },
     "metadata": {
      "needs_background": "light"
     },
     "output_type": "display_data"
    }
   ],
   "source": [
    "plt.hist(number_of_keywords)\n",
    "plt.xlabel('distribution of number of words in article keywords column')\n",
    "plt.ylabel('number of articles')\n",
    "plt.show()"
   ]
  },
  {
   "cell_type": "markdown",
   "id": "1fe94308",
   "metadata": {},
   "source": [
    "#### Countplot for getting most common language in which articles are published"
   ]
  },
  {
   "cell_type": "code",
   "execution_count": 11,
   "id": "852a2f02",
   "metadata": {},
   "outputs": [
    {
     "data": {
      "text/plain": [
       "en    2264\n",
       "pt     850\n",
       "la       4\n",
       "es       2\n",
       "ja       2\n",
       "Name: language, dtype: int64"
      ]
     },
     "execution_count": 11,
     "metadata": {},
     "output_type": "execute_result"
    }
   ],
   "source": [
    "content_df[\"language\"].value_counts()"
   ]
  },
  {
   "cell_type": "code",
   "execution_count": 12,
   "id": "cd6d92e0",
   "metadata": {
    "scrolled": true
   },
   "outputs": [
    {
     "data": {
      "text/plain": [
       "<AxesSubplot:xlabel='language', ylabel='count'>"
      ]
     },
     "execution_count": 12,
     "metadata": {},
     "output_type": "execute_result"
    },
    {
     "data": {
      "image/png": "[encoded data removed]",
      "text/plain": [
       "<Figure size 432x288 with 1 Axes>"
      ]
     },
     "metadata": {
      "needs_background": "light"
     },
     "output_type": "display_data"
    }
   ],
   "source": [
    "sns.countplot(x=content_df[\"language\"])"
   ]
  },
  {
   "cell_type": "markdown",
   "id": "749fe5a9",
   "metadata": {},
   "source": [
    "- As can be seen the most common language for the content is ENGLISH"
   ]
  },
  {
   "cell_type": "markdown",
   "id": "0df65909",
   "metadata": {},
   "source": [
    "#### Countplot for getting most popular country from which articles are launched"
   ]
  },
  {
   "cell_type": "code",
   "execution_count": 13,
   "id": "bcac12cd",
   "metadata": {},
   "outputs": [
    {
     "data": {
      "text/plain": [
       "BR    613\n",
       "US     59\n",
       "CA      5\n",
       "AU      2\n",
       "PT      1\n",
       "Name: producer_country, dtype: int64"
      ]
     },
     "execution_count": 13,
     "metadata": {},
     "output_type": "execute_result"
    }
   ],
   "source": [
    "content_df[\"producer_country\"].value_counts()"
   ]
  },
  {
   "cell_type": "code",
   "execution_count": 14,
   "id": "fce7f0dc",
   "metadata": {
    "scrolled": true
   },
   "outputs": [
    {
     "data": {
      "text/plain": [
       "<AxesSubplot:xlabel='producer_country', ylabel='count'>"
      ]
     },
     "execution_count": 14,
     "metadata": {},
     "output_type": "execute_result"
    },
    {
     "data": {
      "image/png": "[encoded data removed]",
      "text/plain": [
       "<Figure size 432x288 with 1 Axes>"
      ]
     },
     "metadata": {
      "needs_background": "light"
     },
     "output_type": "display_data"
    }
   ],
   "source": [
    "sns.countplot(x=content_df[\"producer_country\"])"
   ]
  },
  {
   "cell_type": "markdown",
   "id": "200785b8",
   "metadata": {},
   "source": [
    "- As can be seen from countplot, the most popular country that consumes the articles on the platform is BRAZIL"
   ]
  },
  {
   "cell_type": "markdown",
   "id": "56d3a1d4",
   "metadata": {},
   "source": [
    "#### Countplot for getting type of item on the platform"
   ]
  },
  {
   "cell_type": "code",
   "execution_count": 15,
   "id": "a27c41cd",
   "metadata": {},
   "outputs": [
    {
     "data": {
      "text/plain": [
       "HTML     3101\n",
       "VIDEO      11\n",
       "RICH       10\n",
       "Name: item_type, dtype: int64"
      ]
     },
     "execution_count": 15,
     "metadata": {},
     "output_type": "execute_result"
    }
   ],
   "source": [
    "content_df[\"item_type\"].value_counts()"
   ]
  },
  {
   "cell_type": "code",
   "execution_count": 16,
   "id": "693ec558",
   "metadata": {},
   "outputs": [
    {
     "data": {
      "text/plain": [
       "<AxesSubplot:xlabel='item_type', ylabel='count'>"
      ]
     },
     "execution_count": 16,
     "metadata": {},
     "output_type": "execute_result"
    },
    {
     "data": {
      "image/png": "[encoded data removed]",
      "text/plain": [
       "<Figure size 432x288 with 1 Axes>"
      ]
     },
     "metadata": {
      "needs_background": "light"
     },
     "output_type": "display_data"
    }
   ],
   "source": [
    "sns.countplot(x=content_df[\"item_type\"])"
   ]
  },
  {
   "cell_type": "markdown",
   "id": "c4e8417f",
   "metadata": {},
   "source": [
    "- As can be seen from countplot, the most common item type on the platform is HTML"
   ]
  },
  {
   "cell_type": "markdown",
   "id": "9a4929b0",
   "metadata": {},
   "source": [
    "## Content Based Filtering"
   ]
  },
  {
   "cell_type": "code",
   "execution_count": 17,
   "id": "f0a1a603",
   "metadata": {},
   "outputs": [],
   "source": [
    "# creating first checkpoint for the dataframe\n",
    "contents = content_df.copy()"
   ]
  },
  {
   "cell_type": "code",
   "execution_count": 18,
   "id": "7605db33",
   "metadata": {},
   "outputs": [],
   "source": [
    "# importing relevent libraries for content based filtering\n",
    "from nltk.corpus import stopwords\n",
    "from gensim.corpora.dictionary import Dictionary\n",
    "from gensim.models.tfidfmodel import TfidfModel\n",
    "from gensim.similarities import MatrixSimilarity"
   ]
  },
  {
   "cell_type": "code",
   "execution_count": 19,
   "id": "40f62285",
   "metadata": {},
   "outputs": [],
   "source": [
    "# creating list of stopwords\n",
    "stop = stopwords.words('english')"
   ]
  },
  {
   "cell_type": "markdown",
   "id": "d24ef493",
   "metadata": {},
   "source": [
    "#### Preprocessing of text in the dataset"
   ]
  },
  {
   "cell_type": "code",
   "execution_count": 20,
   "id": "211c0ad5",
   "metadata": {},
   "outputs": [],
   "source": [
    "# removing all the stopwords from the text\n",
    "contents['text_cleaned'] = contents[\"text_description\"].apply(lambda words: ' '.join(word.lower() for word in words.split() if word not in stop))\n",
    "# removing all punctuations and numerical data from the text\n",
    "contents[\"text_cleaned\"] = contents['text_cleaned'].str.replace('[^A-Za-z\\s]','')\n",
    "# removing all the words with length less than and equal to 3 from the text\n",
    "contents[\"text_cleaned\"] = contents['text_cleaned'].str.replace(r'\\b(\\w{1,3})\\b', '')"
   ]
  },
  {
   "cell_type": "code",
   "execution_count": 21,
   "id": "cc45d39e",
   "metadata": {},
   "outputs": [],
   "source": [
    "# keeping only the relevent columns from the data which are required for content based filtering\n",
    "contents = contents[['title', 'text_cleaned']]"
   ]
  },
  {
   "cell_type": "code",
   "execution_count": 22,
   "id": "67b4c64f",
   "metadata": {
    "scrolled": true
   },
   "outputs": [
    {
     "data": {
      "text/html": [
       "<div>\n",
       "<style scoped>\n",
       "    .dataframe tbody tr th:only-of-type {\n",
       "        vertical-align: middle;\n",
       "    }\n",
       "\n",
       "    .dataframe tbody tr th {\n",
       "        vertical-align: top;\n",
       "    }\n",
       "\n",
       "    .dataframe thead th {\n",
       "        text-align: right;\n",
       "    }\n",
       "</style>\n",
       "<table border=\"1\" class=\"dataframe\">\n",
       "  <thead>\n",
       "    <tr style=\"text-align: right;\">\n",
       "      <th></th>\n",
       "      <th>title</th>\n",
       "      <th>text_cleaned</th>\n",
       "    </tr>\n",
       "  </thead>\n",
       "  <tbody>\n",
       "    <tr>\n",
       "      <th>0</th>\n",
       "      <td>Ethereum, a Virtual Currency, Enables Transactions That Rival Bitcoin's</td>\n",
       "      <td>work still early  first full public version ethereum software recently released system could face technical legal problems tarnished bitcoin many bitcoin advocates  ethereum face security problems bitcoin greater complexity software thus  ethereum faced much less testing many fewer attacks bitcoin  novel design ethereum  also invite intense scrutiny authorities given potentially fraudulent contracts like ponzi schemes written directly ethereum system  sophisticated capabilities system made fascinating executives corporate america  said last year experimenting ethereum  control real world objects socalled internet things microsoft working several projects make easier  ethereum computing cloud azure ethereum general platform solve problems many industries using fairly elegant solution  elegant solution seen date said marley gray director business development strategy microsoft  gray responsible microsofts work blockchains database concept bitcoin introduced blockchains designed store transactions data without requiring central authority repository blockchain ledgers generally maintained updated networks computers working together  somewhat similar  wikipedia updated maintained users many corporations though created ethereum networks private blockchains independent public system could ultimately detract value individual unit ethereum system  known ether  people recently buying  interest ethereum  sign corporate fascination blockchains most major banks expressed interest using make trading money transfer faster efficient  tuesday executives largest banks gather conference blockchain tapping   real potential  cutting through hype many banks recently looking version ethereum might   jpmorgan instance created specific tool masala allows internal databases interact ethereum blockchain michael novogratz former  executive private equity firm fortress investing group helped lead fortresss investment bitcoin looking ethereum since left fortress last fall  novogratz said made significant purchase ether january  also heard financial industrys chatter virtual currency evolved   established players thinking  still experiment  said  feels like last  three months experiment least getting  validation since beginning year value individual unit ether soared high  around  that brought value existing ether  billion times significantly virtual currency bitcoin  billion value outstanding last week since bitcoin invented many socalled altcoins tried improve bitcoin none following ethereum unlike bitcoin released  mysterious creator known satoshi nakamoto ethereum created transparent fashion yearold russiancanadian vitalik buterin dropped waterloo university ontario  basic  ethereum make possible program binding agreements blockchain  smart contract concept  people instance could program  sports game directly ethereum blockchain once final score came mutually agreed upon source    associated press  money would automatically transferred winning party ether used currency system ether also necessary  network power needed process   ethereum system sometimes described single shared computer  network users resources parceled paid ether  team seven cofounders helped  buterin write software released initial description system  buterins team raised  million  presale ether helped fund ethereum foundation supports softwares development like bitcoin ethereum succeeded attracting dedicated network followers helped support software partly hope ether increase value system succeeds last week  computers  nodes  helping support network around world  bitcoin network  nodes   buterins cofounders joseph lubin  consensys company based brooklyn hired  developers build applications ethereum system including  enables music distribution another allows  kind financial auditing  consensys offices  industrial building bushwick section brooklyn  office essentially  large room messy trademarks startup operation including white boards walls computer parts lying around  lubin said thrown ethereum starting think delivered failed promise bitcoin especially came allowing  kinds online contracts markets bitcoin presented broad strokes vision ethereum presented crystallization deliver vision said joseph bonneau computer science researcher stanford studies socalled cryptocurrencies said ethereum first system really caught interest since bitcoin   sure thing cautioned bitcoin still probably safest  ethereum certainly   folks  likely around  years  bonneau said  depend real markets develop around   actual application</td>\n",
       "    </tr>\n",
       "    <tr>\n",
       "      <th>1</th>\n",
       "      <td>Ethereum, a Virtual Currency, Enables Transactions That Rival Bitcoin's</td>\n",
       "      <td>work still early  first full public version ethereum software recently released system could face technical legal problems tarnished bitcoin many bitcoin advocates  ethereum face security problems bitcoin greater complexity software thus  ethereum faced much less testing many fewer attacks bitcoin  novel design ethereum  also invite intense scrutiny authorities given potentially fraudulent contracts like ponzi schemes written directly ethereum system  sophisticated capabilities system made fascinating executives corporate america  said last year experimenting ethereum  control real world objects socalled internet things microsoft working several projects make easier  ethereum computing cloud azure ethereum general platform solve problems many industries using fairly elegant solution  elegant solution seen date said marley gray director business development strategy microsoft  gray responsible microsofts work blockchains database concept bitcoin introduced blockchains designed store transactions data without requiring central authority repository blockchain ledgers generally maintained updated networks computers working together  somewhat similar  wikipedia updated maintained users many corporations though created ethereum networks private blockchains independent public system could ultimately detract value individual unit ethereum system  known ether  people recently buying  interest ethereum  sign corporate fascination blockchains most major banks expressed interest using make trading money transfer faster efficient  tuesday executives largest banks gather conference blockchain tapping   real potential  cutting through hype many banks recently looking version ethereum might   jpmorgan instance created specific tool masala allows internal databases interact ethereum blockchain michael novogratz former  executive private equity firm fortress investing group helped lead fortresss investment bitcoin looking ethereum since left fortress last fall  novogratz said made significant purchase ether january  also heard financial industrys chatter virtual currency evolved   established players thinking  still experiment  said  feels like last  three months experiment least getting  validation since beginning year value individual unit ether soared high  around  that brought value existing ether  billion times significantly virtual currency bitcoin  billion value outstanding last week since bitcoin invented many socalled altcoins tried improve bitcoin none following ethereum unlike bitcoin released  mysterious creator known satoshi nakamoto ethereum created transparent fashion yearold russiancanadian vitalik buterin dropped waterloo university ontario  basic  ethereum make possible program binding agreements blockchain  smart contract concept  people instance could program  sports game directly ethereum blockchain once final score came mutually agreed upon source    associated press  money would automatically transferred winning party ether used currency system ether also necessary  network power needed process   ethereum system sometimes described single shared computer  network users resources parceled paid ether  team seven cofounders helped  buterin write software released initial description system  buterins team raised  million  presale ether helped fund ethereum foundation supports softwares development like bitcoin ethereum succeeded attracting dedicated network followers helped support software partly hope ether increase value system succeeds last week  computers  nodes  helping support network around world  bitcoin network  nodes   buterins cofounders joseph lubin  consensys company based brooklyn hired  developers build applications ethereum system including  enables music distribution another allows  kind financial auditing  consensys offices  industrial building bushwick section brooklyn  office essentially  large room messy trademarks startup operation including white boards walls computer parts lying around  lubin said thrown ethereum starting think delivered failed promise bitcoin especially came allowing  kinds online contracts markets bitcoin presented broad strokes vision ethereum presented crystallization deliver vision said joseph bonneau computer science researcher stanford studies socalled cryptocurrencies said ethereum first system really caught interest since bitcoin   sure thing cautioned bitcoin still probably safest  ethereum certainly   folks  likely around  years  bonneau said  depend real markets develop around   actual application</td>\n",
       "    </tr>\n",
       "  </tbody>\n",
       "</table>\n",
       "</div>"
      ],
      "text/plain": [
       "                                                                     title  \\\n",
       "0  Ethereum, a Virtual Currency, Enables Transactions That Rival Bitcoin's   \n",
       "1  Ethereum, a Virtual Currency, Enables Transactions That Rival Bitcoin's   \n",
       "\n",
       "                                                                                                                                                                                                                                                                                                                                                                                                                                                                                                                                                                                                                                                                                                                                                                                                                                                                                                                                                                                                                                                                                                                                                                                                                                                                                                                                                                                                                                                                                                                                                                                                                                                                                                                                                                                                                                                                                                                                                                                                                                                                                                                                                                                                                                                                                                                                                                                                                                                                                                                                                                                                                                                                                                                                                                                                                                                                                                                                                                                                                                                                                                                                                                                                                                                                                                                                                                                                                                                                                                                                                                                                                                                                                                                                                                                                                                                                                                                                                                                                                                                                                                                                                                                                                                                                                                                                                                                                                                                                                                                                                                                                                                                                                                              text_cleaned  \n",
       "0   work still early  first full public version ethereum software recently released system could face technical legal problems tarnished bitcoin many bitcoin advocates  ethereum face security problems bitcoin greater complexity software thus  ethereum faced much less testing many fewer attacks bitcoin  novel design ethereum  also invite intense scrutiny authorities given potentially fraudulent contracts like ponzi schemes written directly ethereum system  sophisticated capabilities system made fascinating executives corporate america  said last year experimenting ethereum  control real world objects socalled internet things microsoft working several projects make easier  ethereum computing cloud azure ethereum general platform solve problems many industries using fairly elegant solution  elegant solution seen date said marley gray director business development strategy microsoft  gray responsible microsofts work blockchains database concept bitcoin introduced blockchains designed store transactions data without requiring central authority repository blockchain ledgers generally maintained updated networks computers working together  somewhat similar  wikipedia updated maintained users many corporations though created ethereum networks private blockchains independent public system could ultimately detract value individual unit ethereum system  known ether  people recently buying  interest ethereum  sign corporate fascination blockchains most major banks expressed interest using make trading money transfer faster efficient  tuesday executives largest banks gather conference blockchain tapping   real potential  cutting through hype many banks recently looking version ethereum might   jpmorgan instance created specific tool masala allows internal databases interact ethereum blockchain michael novogratz former  executive private equity firm fortress investing group helped lead fortresss investment bitcoin looking ethereum since left fortress last fall  novogratz said made significant purchase ether january  also heard financial industrys chatter virtual currency evolved   established players thinking  still experiment  said  feels like last  three months experiment least getting  validation since beginning year value individual unit ether soared high  around  that brought value existing ether  billion times significantly virtual currency bitcoin  billion value outstanding last week since bitcoin invented many socalled altcoins tried improve bitcoin none following ethereum unlike bitcoin released  mysterious creator known satoshi nakamoto ethereum created transparent fashion yearold russiancanadian vitalik buterin dropped waterloo university ontario  basic  ethereum make possible program binding agreements blockchain  smart contract concept  people instance could program  sports game directly ethereum blockchain once final score came mutually agreed upon source    associated press  money would automatically transferred winning party ether used currency system ether also necessary  network power needed process   ethereum system sometimes described single shared computer  network users resources parceled paid ether  team seven cofounders helped  buterin write software released initial description system  buterins team raised  million  presale ether helped fund ethereum foundation supports softwares development like bitcoin ethereum succeeded attracting dedicated network followers helped support software partly hope ether increase value system succeeds last week  computers  nodes  helping support network around world  bitcoin network  nodes   buterins cofounders joseph lubin  consensys company based brooklyn hired  developers build applications ethereum system including  enables music distribution another allows  kind financial auditing  consensys offices  industrial building bushwick section brooklyn  office essentially  large room messy trademarks startup operation including white boards walls computer parts lying around  lubin said thrown ethereum starting think delivered failed promise bitcoin especially came allowing  kinds online contracts markets bitcoin presented broad strokes vision ethereum presented crystallization deliver vision said joseph bonneau computer science researcher stanford studies socalled cryptocurrencies said ethereum first system really caught interest since bitcoin   sure thing cautioned bitcoin still probably safest  ethereum certainly   folks  likely around  years  bonneau said  depend real markets develop around   actual application  \n",
       "1   work still early  first full public version ethereum software recently released system could face technical legal problems tarnished bitcoin many bitcoin advocates  ethereum face security problems bitcoin greater complexity software thus  ethereum faced much less testing many fewer attacks bitcoin  novel design ethereum  also invite intense scrutiny authorities given potentially fraudulent contracts like ponzi schemes written directly ethereum system  sophisticated capabilities system made fascinating executives corporate america  said last year experimenting ethereum  control real world objects socalled internet things microsoft working several projects make easier  ethereum computing cloud azure ethereum general platform solve problems many industries using fairly elegant solution  elegant solution seen date said marley gray director business development strategy microsoft  gray responsible microsofts work blockchains database concept bitcoin introduced blockchains designed store transactions data without requiring central authority repository blockchain ledgers generally maintained updated networks computers working together  somewhat similar  wikipedia updated maintained users many corporations though created ethereum networks private blockchains independent public system could ultimately detract value individual unit ethereum system  known ether  people recently buying  interest ethereum  sign corporate fascination blockchains most major banks expressed interest using make trading money transfer faster efficient  tuesday executives largest banks gather conference blockchain tapping   real potential  cutting through hype many banks recently looking version ethereum might   jpmorgan instance created specific tool masala allows internal databases interact ethereum blockchain michael novogratz former  executive private equity firm fortress investing group helped lead fortresss investment bitcoin looking ethereum since left fortress last fall  novogratz said made significant purchase ether january  also heard financial industrys chatter virtual currency evolved   established players thinking  still experiment  said  feels like last  three months experiment least getting  validation since beginning year value individual unit ether soared high  around  that brought value existing ether  billion times significantly virtual currency bitcoin  billion value outstanding last week since bitcoin invented many socalled altcoins tried improve bitcoin none following ethereum unlike bitcoin released  mysterious creator known satoshi nakamoto ethereum created transparent fashion yearold russiancanadian vitalik buterin dropped waterloo university ontario  basic  ethereum make possible program binding agreements blockchain  smart contract concept  people instance could program  sports game directly ethereum blockchain once final score came mutually agreed upon source    associated press  money would automatically transferred winning party ether used currency system ether also necessary  network power needed process   ethereum system sometimes described single shared computer  network users resources parceled paid ether  team seven cofounders helped  buterin write software released initial description system  buterins team raised  million  presale ether helped fund ethereum foundation supports softwares development like bitcoin ethereum succeeded attracting dedicated network followers helped support software partly hope ether increase value system succeeds last week  computers  nodes  helping support network around world  bitcoin network  nodes   buterins cofounders joseph lubin  consensys company based brooklyn hired  developers build applications ethereum system including  enables music distribution another allows  kind financial auditing  consensys offices  industrial building bushwick section brooklyn  office essentially  large room messy trademarks startup operation including white boards walls computer parts lying around  lubin said thrown ethereum starting think delivered failed promise bitcoin especially came allowing  kinds online contracts markets bitcoin presented broad strokes vision ethereum presented crystallization deliver vision said joseph bonneau computer science researcher stanford studies socalled cryptocurrencies said ethereum first system really caught interest since bitcoin   sure thing cautioned bitcoin still probably safest  ethereum certainly   folks  likely around  years  bonneau said  depend real markets develop around   actual application  "
      ]
     },
     "execution_count": 22,
     "metadata": {},
     "output_type": "execute_result"
    }
   ],
   "source": [
    "contents.head(2)"
   ]
  },
  {
   "cell_type": "code",
   "execution_count": 23,
   "id": "537efe54",
   "metadata": {},
   "outputs": [],
   "source": [
    "#Create numpy array from keywords column\n",
    "keywords_array = contents['text_cleaned'].to_numpy()"
   ]
  },
  {
   "cell_type": "code",
   "execution_count": 24,
   "id": "13bc53a0",
   "metadata": {
    "scrolled": true
   },
   "outputs": [
    {
     "data": {
      "text/plain": [
       "' work still early  first full public version ethereum software recently released system could face technical legal problems tarnished bitcoin many bitcoin advocates  ethereum face security problems bitcoin greater complexity software thus  ethereum faced much less testing many fewer attacks bitcoin  novel design ethereum  also invite intense scrutiny authorities given potentially fraudulent contracts like ponzi schemes written directly ethereum system  sophisticated capabilities system made fascinating executives corporate america  said last year experimenting ethereum  control real world objects socalled internet things microsoft working several projects make easier  ethereum computing cloud azure ethereum general platform solve problems many industries using fairly elegant solution  elegant solution seen date said marley gray director business development strategy microsoft  gray responsible microsofts work blockchains database concept bitcoin introduced blockchains designed store transactions data without requiring central authority repository blockchain ledgers generally maintained updated networks computers working together  somewhat similar  wikipedia updated maintained users many corporations though created ethereum networks private blockchains independent public system could ultimately detract value individual unit ethereum system  known ether  people recently buying  interest ethereum  sign corporate fascination blockchains most major banks expressed interest using make trading money transfer faster efficient  tuesday executives largest banks gather conference blockchain tapping   real potential  cutting through hype many banks recently looking version ethereum might   jpmorgan instance created specific tool masala allows internal databases interact ethereum blockchain michael novogratz former  executive private equity firm fortress investing group helped lead fortresss investment bitcoin looking ethereum since left fortress last fall  novogratz said made significant purchase ether january  also heard financial industrys chatter virtual currency evolved   established players thinking  still experiment  said  feels like last  three months experiment least getting  validation since beginning year value individual unit ether soared high  around  that brought value existing ether  billion times significantly virtual currency bitcoin  billion value outstanding last week since bitcoin invented many socalled altcoins tried improve bitcoin none following ethereum unlike bitcoin released  mysterious creator known satoshi nakamoto ethereum created transparent fashion yearold russiancanadian vitalik buterin dropped waterloo university ontario  basic  ethereum make possible program binding agreements blockchain  smart contract concept  people instance could program  sports game directly ethereum blockchain once final score came mutually agreed upon source    associated press  money would automatically transferred winning party ether used currency system ether also necessary  network power needed process   ethereum system sometimes described single shared computer  network users resources parceled paid ether  team seven cofounders helped  buterin write software released initial description system  buterins team raised  million  presale ether helped fund ethereum foundation supports softwares development like bitcoin ethereum succeeded attracting dedicated network followers helped support software partly hope ether increase value system succeeds last week  computers  nodes  helping support network around world  bitcoin network  nodes   buterins cofounders joseph lubin  consensys company based brooklyn hired  developers build applications ethereum system including  enables music distribution another allows  kind financial auditing  consensys offices  industrial building bushwick section brooklyn  office essentially  large room messy trademarks startup operation including white boards walls computer parts lying around  lubin said thrown ethereum starting think delivered failed promise bitcoin especially came allowing  kinds online contracts markets bitcoin presented broad strokes vision ethereum presented crystallization deliver vision said joseph bonneau computer science researcher stanford studies socalled cryptocurrencies said ethereum first system really caught interest since bitcoin   sure thing cautioned bitcoin still probably safest  ethereum certainly   folks  likely around  years  bonneau said  depend real markets develop around   actual application'"
      ]
     },
     "execution_count": 24,
     "metadata": {},
     "output_type": "execute_result"
    }
   ],
   "source": [
    "keywords_array[0]"
   ]
  },
  {
   "cell_type": "code",
   "execution_count": 25,
   "id": "b86a60d4",
   "metadata": {},
   "outputs": [],
   "source": [
    "#Generate Words from Keywords Array by Splitting\n",
    "words_list = []\n",
    "for keyword in keywords_array:\n",
    "    splitted_words = keyword.lower().split()\n",
    "    words_list.append(splitted_words)"
   ]
  },
  {
   "cell_type": "code",
   "execution_count": 26,
   "id": "fca5e7dd",
   "metadata": {},
   "outputs": [
    {
     "data": {
      "text/plain": [
       "(3122, 558, 558)"
      ]
     },
     "execution_count": 26,
     "metadata": {},
     "output_type": "execute_result"
    }
   ],
   "source": [
    "# printing length of all word lists, word list for each article\n",
    "len(words_list), len(words_list[0]), len(words_list[1])"
   ]
  },
  {
   "cell_type": "code",
   "execution_count": 27,
   "id": "34386c72",
   "metadata": {},
   "outputs": [],
   "source": [
    "## create dictionary\n",
    "dictionary = Dictionary(words_list) "
   ]
  },
  {
   "cell_type": "code",
   "execution_count": 28,
   "id": "102245a9",
   "metadata": {},
   "outputs": [
    {
     "data": {
      "text/plain": [
       "<gensim.corpora.dictionary.Dictionary at 0x13a44946fa0>"
      ]
     },
     "execution_count": 28,
     "metadata": {},
     "output_type": "execute_result"
    }
   ],
   "source": [
    "dictionary"
   ]
  },
  {
   "cell_type": "code",
   "execution_count": 29,
   "id": "08869c96",
   "metadata": {},
   "outputs": [
    {
     "data": {
      "text/plain": [
       "79715"
      ]
     },
     "execution_count": 29,
     "metadata": {},
     "output_type": "execute_result"
    }
   ],
   "source": [
    "# length of dictionary\n",
    "len(dictionary)"
   ]
  },
  {
   "cell_type": "code",
   "execution_count": 30,
   "id": "7a55f7b3",
   "metadata": {},
   "outputs": [],
   "source": [
    "#Total number of words in the words_list\n",
    "number_words = 0\n",
    "for word in words_list:\n",
    "    number_words = number_words + len(word)"
   ]
  },
  {
   "cell_type": "code",
   "execution_count": 31,
   "id": "ed5a86f8",
   "metadata": {},
   "outputs": [
    {
     "data": {
      "text/plain": [
       "1486709"
      ]
     },
     "execution_count": 31,
     "metadata": {},
     "output_type": "execute_result"
    }
   ],
   "source": [
    "number_words"
   ]
  },
  {
   "cell_type": "code",
   "execution_count": 32,
   "id": "38004a1b",
   "metadata": {},
   "outputs": [
    {
     "data": {
      "text/plain": [
       "('actual', 'advocates', 'ether')"
      ]
     },
     "execution_count": 32,
     "metadata": {},
     "output_type": "execute_result"
    }
   ],
   "source": [
    "dictionary.get(0), dictionary.get(1), dictionary.get(100)"
   ]
  },
  {
   "cell_type": "code",
   "execution_count": 33,
   "id": "775144de",
   "metadata": {},
   "outputs": [],
   "source": [
    "## generate bag of words for just one document\n",
    "bow = dictionary.doc2bow(words_list[0])"
   ]
  },
  {
   "cell_type": "code",
   "execution_count": 34,
   "id": "5032fbef",
   "metadata": {},
   "outputs": [
    {
     "data": {
      "text/plain": [
       "(558, 368)"
      ]
     },
     "execution_count": 34,
     "metadata": {},
     "output_type": "execute_result"
    }
   ],
   "source": [
    "len(words_list[0]), len(bow)"
   ]
  },
  {
   "cell_type": "markdown",
   "id": "931b83b8",
   "metadata": {},
   "source": [
    "#### Generate Corpus by creating BOW of each document\n",
    "doc2bow = Document to BOW[Bag of word]"
   ]
  },
  {
   "cell_type": "code",
   "execution_count": 35,
   "id": "adc3de10",
   "metadata": {},
   "outputs": [],
   "source": [
    "corpus = [dictionary.doc2bow(doc) for doc in words_list] "
   ]
  },
  {
   "cell_type": "code",
   "execution_count": 36,
   "id": "ce0b552e",
   "metadata": {},
   "outputs": [
    {
     "data": {
      "text/plain": [
       "(3122, 368, 368)"
      ]
     },
     "execution_count": 36,
     "metadata": {},
     "output_type": "execute_result"
    }
   ],
   "source": [
    "len(corpus), len(corpus[0]), len(corpus[1])"
   ]
  },
  {
   "cell_type": "code",
   "execution_count": 37,
   "id": "7e67372d",
   "metadata": {},
   "outputs": [
    {
     "data": {
      "text/plain": [
       "(3122, 558)"
      ]
     },
     "execution_count": 37,
     "metadata": {},
     "output_type": "execute_result"
    }
   ],
   "source": [
    "len(words_list), len(words_list[0])"
   ]
  },
  {
   "cell_type": "markdown",
   "id": "66fa268a",
   "metadata": {},
   "source": [
    "#### TF-IDF Model\n",
    "TF = Term frequency -> count/no.\n",
    "IDF = Inverse doc freq. -> log(N/n)"
   ]
  },
  {
   "cell_type": "code",
   "execution_count": 38,
   "id": "3559d8ef",
   "metadata": {},
   "outputs": [],
   "source": [
    "tfidf = TfidfModel(corpus)"
   ]
  },
  {
   "cell_type": "code",
   "execution_count": 39,
   "id": "337d28b9",
   "metadata": {},
   "outputs": [
    {
     "data": {
      "text/plain": [
       "[(0, 0.016546289549304028),\n",
       " (1, 0.03212591960897094),\n",
       " (2, 0.02386075262474484),\n",
       " (3, 0.029507519057591063),\n",
       " (4, 0.0166044280578457),\n",
       " (5, 0.023873824842188487),\n",
       " (6, 0.012696783152082274),\n",
       " (7, 0.03854402095733749),\n",
       " (8, 0.021587309834987932),\n",
       " (9, 0.008329832245131032),\n",
       " (10, 0.01249558231256016),\n",
       " (11, 0.011412115828808248),\n",
       " (12, 0.04134558063215152),\n",
       " (13, 0.019221110801214795),\n",
       " (14, 0.0264070747380978),\n",
       " (15, 0.03000079314534766),\n",
       " (16, 0.03177367309877653),\n",
       " (17, 0.03539598847705732),\n",
       " (18, 0.025355571750409967),\n",
       " (19, 0.014354020859829687),\n",
       " (20, 0.022581146759072572),\n",
       " (21, 0.05876741615624977),\n",
       " (22, 0.009614133452896165),\n",
       " (23, 0.014994316265126215),\n",
       " (24, 0.01748181477939552),\n",
       " (25, 0.031069252849186248),\n",
       " (26, 0.029274939146210478),\n",
       " (27, 0.3392959077155402),\n",
       " (28, 0.10226405712333342),\n",
       " (29, 0.12000317258139064),\n",
       " (30, 0.02281669018875926),\n",
       " (31, 0.08563126972666482),\n",
       " (32, 0.020846904149753577),\n",
       " (33, 0.06854481410268515),\n",
       " (34, 0.0201339832848464),\n",
       " (35, 0.008863278866940985),\n",
       " (36, 0.0102571723191287),\n",
       " (37, 0.04281563486333241),\n",
       " (38, 0.008805335587971521),\n",
       " (39, 0.07518809279553769),\n",
       " (40, 0.08563126972666482),\n",
       " (41, 0.02096429124560123),\n",
       " (42, 0.030493649156131564),\n",
       " (43, 0.01536511297354192),\n",
       " (44, 0.024457602868235),\n",
       " (45, 0.03677114100390863),\n",
       " (46, 0.017348563399961357),\n",
       " (47, 0.018008856821223124),\n",
       " (48, 0.03249952709791371),\n",
       " (49, 0.012202765420161191),\n",
       " (50, 0.061647397078415746),\n",
       " (51, 0.008375765149940708),\n",
       " (52, 0.019311077890986187),\n",
       " (53, 0.04088450058207749),\n",
       " (54, 0.03565624279763601),\n",
       " (55, 0.01637509420195168),\n",
       " (56, 0.03275018840390336),\n",
       " (57, 0.016046342330198294),\n",
       " (58, 0.06755826592717196),\n",
       " (59, 0.02386075262474484),\n",
       " (60, 0.04772150524948968),\n",
       " (61, 0.013159893359753896),\n",
       " (62, 0.038177151764843764),\n",
       " (63, 0.02803827865432283),\n",
       " (64, 0.021103547050299702),\n",
       " (65, 0.033936941613390136),\n",
       " (66, 0.026265398700893967),\n",
       " (67, 0.03212591960897094),\n",
       " (68, 0.04281563486333241),\n",
       " (69, 0.0682115135970903),\n",
       " (70, 0.026700589076875832),\n",
       " (71, 0.006445468173495788),\n",
       " (72, 0.016782208738034692),\n",
       " (73, 0.02206421568948645),\n",
       " (74, 0.01637509420195168),\n",
       " (75, 0.019176615039689277),\n",
       " (76, 0.015413071473934047),\n",
       " (77, 0.02073171133422064),\n",
       " (78, 0.023766664748327913),\n",
       " (79, 0.018119898315481688),\n",
       " (80, 0.02096429124560123),\n",
       " (81, 0.010940162409647977),\n",
       " (82, 0.014115437405647196),\n",
       " (83, 0.03966760238305224),\n",
       " (84, 0.015389045571382525),\n",
       " (85, 0.010469332210777529),\n",
       " (86, 0.02055612526266414),\n",
       " (87, 0.02645412344334301),\n",
       " (88, 0.018195053346903554),\n",
       " (89, 0.019589138718749927),\n",
       " (90, 0.02415195496342118),\n",
       " (91, 0.012376780827273245),\n",
       " (92, 0.01234743488515894),\n",
       " (93, 0.016291247518084855),\n",
       " (94, 0.05570861140595205),\n",
       " (95, 0.018119898315481688),\n",
       " (96, 0.029050818585779008),\n",
       " (97, 0.013450556982909213),\n",
       " (98, 0.01827113624164614),\n",
       " (99, 0.020452811424666685),\n",
       " (100, 0.28596305788898874),\n",
       " (101, 0.6865839431905428),\n",
       " (102, 0.02323044528678669),\n",
       " (103, 0.019636726879536836),\n",
       " (104, 0.04357439327892289),\n",
       " (105, 0.012376780827273245),\n",
       " (106, 0.03871311761473867),\n",
       " (107, 0.02395629928592388),\n",
       " (108, 0.025858923740982847),\n",
       " (109, 0.033150580487517324),\n",
       " (110, 0.024354026712501437),\n",
       " (111, 0.021205994232221262),\n",
       " (112, 0.020344692226929535),\n",
       " (113, 0.018585223891849),\n",
       " (114, 0.027675666058927705),\n",
       " (115, 0.037594046397768845),\n",
       " (116, 0.02314544206051265),\n",
       " (117, 0.013520987877496619),\n",
       " (118, 0.021393703246852414),\n",
       " (119, 0.02018598896224008),\n",
       " (120, 0.013520987877496619),\n",
       " (121, 0.031217454302862695),\n",
       " (122, 0.02018598896224008),\n",
       " (123, 0.012192062324829795),\n",
       " (124, 0.02235427563568593),\n",
       " (125, 0.031124374571062405),\n",
       " (126, 0.012362090388376901),\n",
       " (127, 0.019980548731961572),\n",
       " (128, 0.07933520476610448),\n",
       " (129, 0.04531436881589847),\n",
       " (130, 0.019495050842333),\n",
       " (131, 0.033322432491773926),\n",
       " (132, 0.01134955045692072),\n",
       " (133, 0.024252162637956487),\n",
       " (134, 0.016575290243758662),\n",
       " (135, 0.024670128625248387),\n",
       " (136, 0.013415641103679115),\n",
       " (137, 0.017058882261654473),\n",
       " (138, 0.011081567531973268),\n",
       " (139, 0.011991936324124536),\n",
       " (140, 0.05901503811518213),\n",
       " (141, 0.017652535840666225),\n",
       " (142, 0.01234743488515894),\n",
       " (143, 0.018585223891849),\n",
       " (144, 0.072629445059544),\n",
       " (145, 0.01620852632708916),\n",
       " (146, 0.012678192301123848),\n",
       " (147, 0.02523590515159615),\n",
       " (148, 0.016319069850663538),\n",
       " (149, 0.024053350680646905),\n",
       " (150, 0.012480606275545371),\n",
       " (151, 0.019023306783849437),\n",
       " (152, 0.01490500113369436),\n",
       " (153, 0.0201339832848464),\n",
       " (154, 0.02874865220910962),\n",
       " (155, 0.021924149746661147),\n",
       " (156, 0.019448540159684814),\n",
       " (157, 0.029050818585779008),\n",
       " (158, 0.017283002822085936),\n",
       " (159, 0.029331712992096994),\n",
       " (160, 0.0264070747380978),\n",
       " (161, 0.01775728572008656),\n",
       " (162, 0.04904105508615847),\n",
       " (163, 0.016488694399256664),\n",
       " (164, 0.011105453748694063),\n",
       " (165, 0.01797228320527858),\n",
       " (166, 0.02500332524021556),\n",
       " (167, 0.021787196639461444),\n",
       " (168, 0.01709040476618387),\n",
       " (169, 0.025118518055748495),\n",
       " (170, 0.021993784794899048),\n",
       " (171, 0.06107402521377776),\n",
       " (172, 0.03177367309877653),\n",
       " (173, 0.013027713789740021),\n",
       " (174, 0.018232977381654587),\n",
       " (175, 0.02834844586875213),\n",
       " (176, 0.010986937861525591),\n",
       " (177, 0.018082661729691012),\n",
       " (178, 0.04537391682918697),\n",
       " (179, 0.014233574624580038),\n",
       " (180, 0.012005769407820001),\n",
       " (181, 0.03144047648380935),\n",
       " (182, 0.01565862731231995),\n",
       " (183, 0.020238437246464045),\n",
       " (184, 0.010288534403093505),\n",
       " (185, 0.013750061758902374),\n",
       " (186, 0.01182831690273553),\n",
       " (187, 0.022258865816252894),\n",
       " (188, 0.07518809279553769),\n",
       " (189, 0.03539598847705732),\n",
       " (190, 0.01820131742658679),\n",
       " (191, 0.05607655730864566),\n",
       " (192, 0.012787268355659558),\n",
       " (193, 0.016498522728871836),\n",
       " (194, 0.03708930281933583),\n",
       " (195, 0.03709015256552869),\n",
       " (196, 0.037594046397768845),\n",
       " (197, 0.04281563486333241),\n",
       " (198, 0.030823698539207873),\n",
       " (199, 0.02281669018875926),\n",
       " (200, 0.02784687888181727),\n",
       " (201, 0.021587309834987932),\n",
       " (202, 0.009161460409306378),\n",
       " (203, 0.012724702983772027),\n",
       " (204, 0.028387886774080526),\n",
       " (205, 0.013093449199134041),\n",
       " (206, 0.0139423722859037),\n",
       " (207, 0.00699139861260329),\n",
       " (208, 0.0201339832848464),\n",
       " (209, 0.034272407051342574),\n",
       " (210, 0.03539598847705732),\n",
       " (211, 0.03966760238305224),\n",
       " (212, 0.015810798900511604),\n",
       " (213, 0.013227061721671506),\n",
       " (214, 0.06255297416019888),\n",
       " (215, 0.03116785555424993),\n",
       " (216, 0.04579449734363904),\n",
       " (217, 0.020344692226929535),\n",
       " (218, 0.02599145865977576),\n",
       " (219, 0.08563126972666482),\n",
       " (220, 0.018008856821223124),\n",
       " (221, 0.015246824578065782),\n",
       " (222, 0.026552084633212958),\n",
       " (223, 0.013450556982909213),\n",
       " (224, 0.010940162409647977),\n",
       " (225, 0.03966760238305224),\n",
       " (226, 0.021205994232221262),\n",
       " (227, 0.029050818585779008),\n",
       " (228, 0.02061863226804774),\n",
       " (229, 0.04531436881589847),\n",
       " (230, 0.027333209282640738),\n",
       " (231, 0.015683729734803167),\n",
       " (232, 0.020291335736057587),\n",
       " (233, 0.013836356622557838),\n",
       " (234, 0.01006216839312043),\n",
       " (235, 0.019221110801214795),\n",
       " (236, 0.04104275490990355),\n",
       " (237, 0.010133296063806576),\n",
       " (238, 0.013574344368368569),\n",
       " (239, 0.019176615039689277),\n",
       " (240, 0.012787268355659558),\n",
       " (241, 0.04104275490990355),\n",
       " (242, 0.040582671472115174),\n",
       " (243, 0.020789038595976597),\n",
       " (244, 0.03544434177780826),\n",
       " (245, 0.012930406986011061),\n",
       " (246, 0.03682402692992733),\n",
       " (247, 0.009824352279034651),\n",
       " (248, 0.02967770827029323),\n",
       " (249, 0.013260922445313246),\n",
       " (250, 0.020398514719253465),\n",
       " (251, 0.02784687888181727),\n",
       " (252, 0.020238437246464045),\n",
       " (253, 0.020846904149753577),\n",
       " (254, 0.02856269897857165),\n",
       " (255, 0.009632950677283562),\n",
       " (256, 0.03883955538712259),\n",
       " (257, 0.04879065069035835),\n",
       " (258, 0.02073171133422064),\n",
       " (259, 0.02281669018875926),\n",
       " (260, 0.023766664748327913),\n",
       " (261, 0.013811047823696099),\n",
       " (262, 0.02018598896224008),\n",
       " (263, 0.01793592536413488),\n",
       " (264, 0.04531436881589847),\n",
       " (265, 0.03966760238305224),\n",
       " (266, 0.08155938351484006),\n",
       " (267, 0.03604528700477144),\n",
       " (268, 0.030823698539207873),\n",
       " (269, 0.015810798900511604),\n",
       " (270, 0.022658665217637028),\n",
       " (271, 0.029274939146210478),\n",
       " (272, 0.018387051311642113),\n",
       " (273, 0.014313609985854084),\n",
       " (274, 0.0129626721707027),\n",
       " (275, 0.021787196639461444),\n",
       " (276, 0.012075404456057908),\n",
       " (277, 0.015461406123268752),\n",
       " (278, 0.017583678853940465),\n",
       " (279, 0.014456222807463278),\n",
       " (280, 0.017652535840666225),\n",
       " (281, 0.011312313871130046),\n",
       " (282, 0.03696210385581356),\n",
       " (283, 0.011010459402289655),\n",
       " (284, 0.01386698741685831),\n",
       " (285, 0.03966760238305224),\n",
       " (286, 0.07500997572064667),\n",
       " (287, 0.03551973860235935),\n",
       " (288, 0.026700589076875832),\n",
       " (289, 0.026761843869342616),\n",
       " (290, 0.0157596563978793),\n",
       " (291, 0.015317524812755006),\n",
       " (292, 0.020846904149753577),\n",
       " (293, 0.02061863226804774),\n",
       " (294, 0.011424705488342584),\n",
       " (295, 0.01226022631383195),\n",
       " (296, 0.025729179239352744),\n",
       " (297, 0.02500332524021556),\n",
       " (298, 0.01386698741685831),\n",
       " (299, 0.013848284409486772),\n",
       " (300, 0.02330662401249867),\n",
       " (301, 0.0137925135655188),\n",
       " (302, 0.015246824578065782),\n",
       " (303, 0.03604528700477144),\n",
       " (304, 0.021653221010855126),\n",
       " (305, 0.03053701260688888),\n",
       " (306, 0.03249952709791371),\n",
       " (307, 0.0205143446382574),\n",
       " (308, 0.017315695928993017),\n",
       " (309, 0.011022253924930565),\n",
       " (310, 0.09925691973703449),\n",
       " (311, 0.026126906665930302),\n",
       " (312, 0.04281563486333241),\n",
       " (313, 0.018894630138917266),\n",
       " (314, 0.014816961976426965),\n",
       " (315, 0.01396136347565967),\n",
       " (316, 0.007860070723854695),\n",
       " (317, 0.01099868740979167),\n",
       " (318, 0.008134653275133392),\n",
       " (319, 0.00913532905058209),\n",
       " (320, 0.014456222807463278),\n",
       " (321, 0.011708391549016508),\n",
       " (322, 0.010600224979790405),\n",
       " (323, 0.02145756533335783),\n",
       " (324, 0.03000079314534766),\n",
       " (325, 0.01754953673780998),\n",
       " (326, 0.011362012819507036),\n",
       " (327, 0.011577822338626557),\n",
       " (328, 0.013700669299283664),\n",
       " (329, 0.03677114100390863),\n",
       " (330, 0.024779204679784093),\n",
       " (331, 0.019589138718749927),\n",
       " (332, 0.022504591287649506),\n",
       " (333, 0.030823698539207873),\n",
       " (334, 0.024562949642052506),\n",
       " (335, 0.018348170197187527),\n",
       " (336, 0.028227913191918794),\n",
       " (337, 0.01887382815451773),\n",
       " (338, 0.03853186034224226),\n",
       " (339, 0.017058882261654473),\n",
       " (340, 0.01895883138079178),\n",
       " (341, 0.03661906570615531),\n",
       " (342, 0.01850518853057495),\n",
       " (343, 0.007267571088521771),\n",
       " (344, 0.01618095296476397),\n",
       " (345, 0.01232011825490019),\n",
       " (346, 0.023673991780928515),\n",
       " (347, 0.0545845357555653),\n",
       " (348, 0.023522807600408462),\n",
       " (349, 0.02989899379043975),\n",
       " (350, 0.033564417476069384),\n",
       " (351, 0.037594046397768845),\n",
       " (352, 0.029050818585779008),\n",
       " (353, 0.03966760238305224),\n",
       " (354, 0.02830913077194788),\n",
       " (355, 0.019980548731961572),\n",
       " (356, 0.027333209282640738),\n",
       " (357, 0.025355571750409967),\n",
       " (358, 0.00840657839512893),\n",
       " (359, 0.012646202681146147),\n",
       " (360, 0.019041799319047766),\n",
       " (361, 0.016644419871871426),\n",
       " (362, 0.006762457158124713),\n",
       " (363, 0.013485671814091642),\n",
       " (364, 0.014233574624580038),\n",
       " (365, 0.01945581685931262),\n",
       " (366, 0.026552084633212958),\n",
       " (367, 0.008507798953127713)]"
      ]
     },
     "execution_count": 39,
     "metadata": {},
     "output_type": "execute_result"
    }
   ],
   "source": [
    "# printing tfidf scores for first article\n",
    "tfidf[corpus[0]]"
   ]
  },
  {
   "cell_type": "markdown",
   "id": "67f3325b",
   "metadata": {},
   "source": [
    "#### Generate Similarity Matrix"
   ]
  },
  {
   "cell_type": "code",
   "execution_count": 40,
   "id": "de13b578",
   "metadata": {},
   "outputs": [],
   "source": [
    "sims = MatrixSimilarity(tfidf[corpus], num_features=len(dictionary))"
   ]
  },
  {
   "cell_type": "code",
   "execution_count": 41,
   "id": "12df79dd",
   "metadata": {},
   "outputs": [
    {
     "data": {
      "text/plain": [
       "<gensim.similarities.docsim.MatrixSimilarity at 0x13a51df50d0>"
      ]
     },
     "execution_count": 41,
     "metadata": {},
     "output_type": "execute_result"
    }
   ],
   "source": [
    "sims"
   ]
  },
  {
   "cell_type": "code",
   "execution_count": 42,
   "id": "158a89aa",
   "metadata": {},
   "outputs": [
    {
     "data": {
      "text/plain": [
       "3122"
      ]
     },
     "execution_count": 42,
     "metadata": {},
     "output_type": "execute_result"
    }
   ],
   "source": [
    "len(sims[corpus[0]])"
   ]
  },
  {
   "cell_type": "markdown",
   "id": "85964e8a",
   "metadata": {},
   "source": [
    "#### Make Recommendations"
   ]
  },
  {
   "cell_type": "code",
   "execution_count": 43,
   "id": "c9259fc8",
   "metadata": {},
   "outputs": [],
   "source": [
    "# title of article for which recommendations are needed\n",
    "article_title = 'IBM Wants to \"Evolve the Internet\" With Blockchain Technology'"
   ]
  },
  {
   "cell_type": "code",
   "execution_count": 44,
   "id": "7764c57c",
   "metadata": {},
   "outputs": [],
   "source": [
    "# number of similar articles to be recommended\n",
    "n = 5"
   ]
  },
  {
   "cell_type": "code",
   "execution_count": 45,
   "id": "b59266b3",
   "metadata": {},
   "outputs": [],
   "source": [
    "#Get the article row\n",
    "article = contents.loc[contents.title == article_title]"
   ]
  },
  {
   "cell_type": "code",
   "execution_count": 46,
   "id": "77d7dfc9",
   "metadata": {
    "scrolled": true
   },
   "outputs": [
    {
     "data": {
      "text/html": [
       "<div>\n",
       "<style scoped>\n",
       "    .dataframe tbody tr th:only-of-type {\n",
       "        vertical-align: middle;\n",
       "    }\n",
       "\n",
       "    .dataframe tbody tr th {\n",
       "        vertical-align: top;\n",
       "    }\n",
       "\n",
       "    .dataframe thead th {\n",
       "        text-align: right;\n",
       "    }\n",
       "</style>\n",
       "<table border=\"1\" class=\"dataframe\">\n",
       "  <thead>\n",
       "    <tr style=\"text-align: right;\">\n",
       "      <th></th>\n",
       "      <th>title</th>\n",
       "      <th>text_cleaned</th>\n",
       "    </tr>\n",
       "  </thead>\n",
       "  <tbody>\n",
       "    <tr>\n",
       "      <th>4</th>\n",
       "      <td>IBM Wants to \"Evolve the Internet\" With Blockchain Technology</td>\n",
       "      <td>aite group projects blockchain market could valued  million   reason biggest names banking industry technology entered space evaluate technology could change financial world  linux instance brought together brightest minds industry technology work blockchain technology hyperledger project  hyperledger project umbrella linux foundation seeks incorporate findings blockchain projects blockstream ripple digital asset holdings others order make blockchain technology useful worlds biggest corporations  also contributed code project according john wolpert ibms global blockchain offering director  linux began working together blockchain project linux made clear wanted disrupt disruption part findings well data gathered projects ripple ethereum others exploring blockchain  linux foundation announced hyperledger project december   just   later  companies requested join  secondlargest open source foundation history open source  inquiries  either going holy mess going change world wolpert said  blockchain conference  francisco presented lighthouse partners  wolford puts  team ibmers  quest understand  something important blockchain technology  know     back cool were kind stodgy  experience wolpert founded taxi service flywheel explained were original crazy people  craziest people guys     imagine   wildeyed revolutionaries although image  markets work quantum computing quantum teleportation neuro semantic chips count among cool stuff  does says wolpert  also approaches projects spirit open innovation proprietarily  method operations open often  back notourthing said  since  wolpert cites java  project  would know java today   pretty young dude wolpert room  made billiondollar decision back linux technology  also cites ibms work  example ibms dedication open innovation currently  employees working cryptosecurity distributed systems working consensus algorithms entire careers  years theyre crazy smart were planetary weve gone couple guys canoe platoon approaching army people working blockchain wolpert said  feels  like first   making java real business this    friends contact multinational technology consulting corporation banks calling  constantly  saying whats view blockchain  lets project together blockchain wolpert said weve crazy projects blockchain every kind blockchain learning  couple years really started accelerate last year today whole unit dedicated blockchain technology linux foundation  went allin blockchain explained whats wolpert  evolving internet bitcoin important moving money around without single authority bitcoin solution problem specific problem people need move money around environments trust government wolpert said  think agree approaching   single authority manages trust gets compensated risk   wolperts view finance need  todays system trust  consumers trust institutions handle money   complete trustlessness like bitcoin system protocol centralized authority manages movement value  follow  single trust authority trustlessness everything said there false dichotomy notion trust trustlessness walled garden  side bitcoin other  compare bitcoin internet saying thats wrong analogy    internet like bitcoin internet  perspective bitcoin permissioned walled garden said ever heard icann  permissive permissioned bitcoin ripple ethereum iteration  blockchain technology three time ibmer told audience wolpert thinks blockchain technology soon evolve iteration   problem   internet constrained wolpert said  fabric allows lots competition platforms huge amounts competition solutions applications   need evolve internet become economically aware internet going application going fabric lots applications  that this mean blockchain  technologies blockstream ethereum ripple lost causes must completely retool  linux foundation fact works ethereum ripple employees with blockchain projects  focused moving cryptocurrency lots banks   lots money like that want radically improve them wolpert explained bankers gonna  like heck radically improve going ahead disruption disrupt will  look things like overstocks  thats happening might happen bitcoin protocol might  theres plenty ways solve  commit   sure bitcoin woken banks this  disrupting thinking maybe necessary wolpert wonders aloud speech world would itunes napster netflix bittorrent  former head products ibms watson ecosystem says  currently boomtown giant numbers people  everywhere else investigating blockchain problem distributed technology made useful industry  details oftentimes  tinkers open innovations make technology ready industry thats route taken bitcoin that bitcoin network  ireland energy consumption mining consortiums could eventually dictate market scares firm away dealing directly bitcoin what  want  want  world full companies  know  identify spread  like internet said wolpert cites arab spring role internet played uprising permissioned  permissive structure functions websites albeit technology permissioned icann remained online protests played major role whats risk experimenting blockchain  risk  crazy unruly mess wolpert warned  linux foundation weve movie before while theres  really smart guys working bitcoin startups weve  equally amount people also   years experience open source open innovation  think good shot maintaining restraints keeping scoped down keeping simple getting something useful</td>\n",
       "    </tr>\n",
       "  </tbody>\n",
       "</table>\n",
       "</div>"
      ],
      "text/plain": [
       "                                                           title  \\\n",
       "4  IBM Wants to \"Evolve the Internet\" With Blockchain Technology   \n",
       "\n",
       "                                                                                                                                                                                                                                                                                                                                                                                                                                                                                                                                                                                                                                                                                                                                                                                                                                                                                                                                                                                                                                                                                                                                                                                                                                                                                                                                                                                                                                                                                                                                                                                                                                                                                                                                                                                                                                                                                                                                                                                                                                                                                                                                                                                                                                                                                                                                                                                                                                                                                                                                                                                                                                                                                                                                                                                                                                                                                                                                                                                                                                                                                                                                                                                                                                                                                                                                                                                                                                                                                                                                                                                                                                                                                                                                                                                                                                                                                                                                                                                                                                                                                                                                                                                                                                                                                                                                                                                                                                                                                                                                                                                                                                                                                                                                                                                                                                                                                                                                                                                                                                                                                                                                                                                                                                                                                                                                                                                                                                                                                                                                                         text_cleaned  \n",
       "4   aite group projects blockchain market could valued  million   reason biggest names banking industry technology entered space evaluate technology could change financial world  linux instance brought together brightest minds industry technology work blockchain technology hyperledger project  hyperledger project umbrella linux foundation seeks incorporate findings blockchain projects blockstream ripple digital asset holdings others order make blockchain technology useful worlds biggest corporations  also contributed code project according john wolpert ibms global blockchain offering director  linux began working together blockchain project linux made clear wanted disrupt disruption part findings well data gathered projects ripple ethereum others exploring blockchain  linux foundation announced hyperledger project december   just   later  companies requested join  secondlargest open source foundation history open source  inquiries  either going holy mess going change world wolpert said  blockchain conference  francisco presented lighthouse partners  wolford puts  team ibmers  quest understand  something important blockchain technology  know     back cool were kind stodgy  experience wolpert founded taxi service flywheel explained were original crazy people  craziest people guys     imagine   wildeyed revolutionaries although image  markets work quantum computing quantum teleportation neuro semantic chips count among cool stuff  does says wolpert  also approaches projects spirit open innovation proprietarily  method operations open often  back notourthing said  since  wolpert cites java  project  would know java today   pretty young dude wolpert room  made billiondollar decision back linux technology  also cites ibms work  example ibms dedication open innovation currently  employees working cryptosecurity distributed systems working consensus algorithms entire careers  years theyre crazy smart were planetary weve gone couple guys canoe platoon approaching army people working blockchain wolpert said  feels  like first   making java real business this    friends contact multinational technology consulting corporation banks calling  constantly  saying whats view blockchain  lets project together blockchain wolpert said weve crazy projects blockchain every kind blockchain learning  couple years really started accelerate last year today whole unit dedicated blockchain technology linux foundation  went allin blockchain explained whats wolpert  evolving internet bitcoin important moving money around without single authority bitcoin solution problem specific problem people need move money around environments trust government wolpert said  think agree approaching   single authority manages trust gets compensated risk   wolperts view finance need  todays system trust  consumers trust institutions handle money   complete trustlessness like bitcoin system protocol centralized authority manages movement value  follow  single trust authority trustlessness everything said there false dichotomy notion trust trustlessness walled garden  side bitcoin other  compare bitcoin internet saying thats wrong analogy    internet like bitcoin internet  perspective bitcoin permissioned walled garden said ever heard icann  permissive permissioned bitcoin ripple ethereum iteration  blockchain technology three time ibmer told audience wolpert thinks blockchain technology soon evolve iteration   problem   internet constrained wolpert said  fabric allows lots competition platforms huge amounts competition solutions applications   need evolve internet become economically aware internet going application going fabric lots applications  that this mean blockchain  technologies blockstream ethereum ripple lost causes must completely retool  linux foundation fact works ethereum ripple employees with blockchain projects  focused moving cryptocurrency lots banks   lots money like that want radically improve them wolpert explained bankers gonna  like heck radically improve going ahead disruption disrupt will  look things like overstocks  thats happening might happen bitcoin protocol might  theres plenty ways solve  commit   sure bitcoin woken banks this  disrupting thinking maybe necessary wolpert wonders aloud speech world would itunes napster netflix bittorrent  former head products ibms watson ecosystem says  currently boomtown giant numbers people  everywhere else investigating blockchain problem distributed technology made useful industry  details oftentimes  tinkers open innovations make technology ready industry thats route taken bitcoin that bitcoin network  ireland energy consumption mining consortiums could eventually dictate market scares firm away dealing directly bitcoin what  want  want  world full companies  know  identify spread  like internet said wolpert cites arab spring role internet played uprising permissioned  permissive structure functions websites albeit technology permissioned icann remained online protests played major role whats risk experimenting blockchain  risk  crazy unruly mess wolpert warned  linux foundation weve movie before while theres  really smart guys working bitcoin startups weve  equally amount people also   years experience open source open innovation  think good shot maintaining restraints keeping scoped down keeping simple getting something useful  "
      ]
     },
     "execution_count": 46,
     "metadata": {},
     "output_type": "execute_result"
    }
   ],
   "source": [
    "article"
   ]
  },
  {
   "cell_type": "code",
   "execution_count": 47,
   "id": "9f92a036",
   "metadata": {},
   "outputs": [],
   "source": [
    "#Generate words_list by splitting the keywords column for the query article\n",
    "words_list = article['text_cleaned'].iloc[0].split()"
   ]
  },
  {
   "cell_type": "code",
   "execution_count": 48,
   "id": "7acbe3ef",
   "metadata": {},
   "outputs": [],
   "source": [
    "#set the query_doc to the words_list\n",
    "query_doc = words_list"
   ]
  },
  {
   "cell_type": "code",
   "execution_count": 49,
   "id": "8eb731ba",
   "metadata": {},
   "outputs": [],
   "source": [
    "#get bag of words from the query_doc\n",
    "query_doc_bow = dictionary.doc2bow(query_doc)"
   ]
  },
  {
   "cell_type": "code",
   "execution_count": 50,
   "id": "b468c0af",
   "metadata": {},
   "outputs": [],
   "source": [
    "query_doc_tfidf = tfidf[query_doc_bow]"
   ]
  },
  {
   "cell_type": "code",
   "execution_count": 51,
   "id": "3568f247",
   "metadata": {},
   "outputs": [
    {
     "data": {
      "text/plain": [
       "[(5, 0.010086608921768292),\n",
       " (6, 0.014304925953128574),\n",
       " (10, 0.010558681138837208),\n",
       " (11, 0.019286318819210783),\n",
       " (12, 0.013974692542536742),\n",
       " (18, 0.08570113517203029),\n",
       " (21, 0.04965806258772577),\n",
       " (27, 0.2508648704966499),\n",
       " (28, 0.3802146706034286),\n",
       " (34, 0.01701307744143179),\n",
       " (38, 0.007440448029412261),\n",
       " (55, 0.013836842011199172),\n",
       " (57, 0.013559048939951041),\n",
       " (63, 0.023692152681454717),\n",
       " (64, 0.01783235215685674),\n",
       " (71, 0.00544637628980749),\n",
       " (75, 0.016204107856804956),\n",
       " (87, 0.011176776210138397),\n",
       " (88, 0.015374694975277681),\n",
       " (101, 0.08925518635134047),\n",
       " (107, 0.02024290818142741),\n",
       " (118, 0.01807753214793073),\n",
       " (121, 0.013189267122782672),\n",
       " (122, 0.017057021881256507),\n",
       " (123, 0.005151104418051437),\n",
       " (127, 0.016883426299206705),\n",
       " (130, 0.09883910352351072),\n",
       " (132, 0.009590292100538158),\n",
       " (138, 0.009363848371514907),\n",
       " (142, 0.01043349758129334),\n",
       " (143, 0.015704386403079678),\n",
       " (150, 0.021092052981059463),\n",
       " (159, 0.012392547901834717),\n",
       " (164, 0.08445628854369597),\n",
       " (173, 0.022016657156606622),\n",
       " (178, 0.0076681295490797574),\n",
       " (185, 0.027110317839808475),\n",
       " (190, 0.023069982119310575),\n",
       " (192, 0.01080515383972446),\n",
       " (193, 0.009294092178530066),\n",
       " (195, 0.015670461949444135),\n",
       " (202, 0.015482742109699715),\n",
       " (203, 0.010752286530657223),\n",
       " (204, 0.04797513827773238),\n",
       " (212, 0.013360016361380452),\n",
       " (214, 0.010571366614576623),\n",
       " (224, 0.009244362015402454),\n",
       " (233, 0.035074878636262845),\n",
       " (242, 0.017146039180804536),\n",
       " (249, 0.06723232973280668),\n",
       " (254, 0.008045094749904431),\n",
       " (255, 0.0162795541789751),\n",
       " (263, 0.015155733611512),\n",
       " (266, 0.07753175808310968),\n",
       " (282, 0.007808180904899341),\n",
       " (283, 0.027911287472541034),\n",
       " (284, 0.023435018045329662),\n",
       " (289, 0.011306787032233942),\n",
       " (290, 0.013316801298294208),\n",
       " (294, 0.02896139275604936),\n",
       " (295, 0.010359806938137825),\n",
       " (309, 0.009313728781383548),\n",
       " (310, 0.015249348131227384),\n",
       " (313, 0.007982916277241332),\n",
       " (316, 0.019925117155637526),\n",
       " (318, 0.006873726086442259),\n",
       " (319, 0.015438580472795928),\n",
       " (320, 0.012215408876348508),\n",
       " (322, 0.008957117224464293),\n",
       " (327, 0.02934954081318468),\n",
       " (338, 0.016279578528765104),\n",
       " (347, 0.009224711481835518),\n",
       " (358, 0.0071035009431759805),\n",
       " (359, 0.01602893147201868),\n",
       " (360, 0.04022547374952216),\n",
       " (361, 0.02812884070098353),\n",
       " (362, 0.011428459604625938),\n",
       " (365, 0.008220015737346056),\n",
       " (367, 0.021567094856182845),\n",
       " (368, 0.010872001807979334),\n",
       " (413, 0.011277613929514558),\n",
       " (424, 0.011176776210138397),\n",
       " (427, 0.01771468195936099),\n",
       " (445, 0.021168166136619038),\n",
       " (451, 0.027392186604406187),\n",
       " (454, 0.01425761973497718),\n",
       " (465, 0.06289597367154748),\n",
       " (488, 0.011515707294751763),\n",
       " (489, 0.01771468195936099),\n",
       " (512, 0.010967054503184087),\n",
       " (518, 0.024365007941674136),\n",
       " (521, 0.015766866891854168),\n",
       " (524, 0.023309158260678465),\n",
       " (533, 0.015586520040293853),\n",
       " (540, 0.013403593060996989),\n",
       " (549, 0.007202315771890453),\n",
       " (554, 0.010495713198491387),\n",
       " (570, 0.006725988937649091),\n",
       " (575, 0.02249720670377472),\n",
       " (576, 0.01827736735204113),\n",
       " (577, 0.009146842588375255),\n",
       " (578, 0.02502822188728281),\n",
       " (581, 0.019212753330302694),\n",
       " (582, 0.017867104115411984),\n",
       " (583, 0.0144949593788948),\n",
       " (584, 0.04189981446403622),\n",
       " (585, 0.026045813332604643),\n",
       " (586, 0.014468047767495927),\n",
       " (587, 0.032569432693673524),\n",
       " (588, 0.02990936689261275),\n",
       " (589, 0.012446886327576987),\n",
       " (590, 0.01174926146992235),\n",
       " (591, 0.012044097861471438),\n",
       " (592, 0.017146039180804536),\n",
       " (593, 0.02684853530374563),\n",
       " (594, 0.012670094148330304),\n",
       " (595, 0.01647318392058512),\n",
       " (596, 0.049095483923325876),\n",
       " (597, 0.03468084570316662),\n",
       " (598, 0.023385747531543873),\n",
       " (599, 0.02008266830101992),\n",
       " (600, 0.016356159103263868),\n",
       " (601, 0.016756924891070214),\n",
       " (602, 0.022113875492587236),\n",
       " (603, 0.028157226342097736),\n",
       " (604, 0.01737547652026713),\n",
       " (605, 0.009032179932680275),\n",
       " (606, 0.011515707294751763),\n",
       " (607, 0.01577290561817711),\n",
       " (608, 0.02576692387320988),\n",
       " (609, 0.031071361322731812),\n",
       " (610, 0.03468084570316662),\n",
       " (611, 0.06936169140633323),\n",
       " (612, 0.04189981446403622),\n",
       " (613, 0.02990936689261275),\n",
       " (614, 0.016633423800992614),\n",
       " (615, 0.04189981446403622),\n",
       " (616, 0.02008266830101992),\n",
       " (617, 0.02256181418600009),\n",
       " (618, 0.022690398131743148),\n",
       " (619, 0.08562940530199617),\n",
       " (620, 0.010898983138890267),\n",
       " (621, 0.008519564552868354),\n",
       " (622, 0.019557739401127067),\n",
       " (623, 0.016216049284460063),\n",
       " (624, 0.016674266247348208),\n",
       " (625, 0.032569432693673524),\n",
       " (626, 0.03161501262339237),\n",
       " (627, 0.012232854069266634),\n",
       " (628, 0.013650009946444044),\n",
       " (629, 0.022436328952169845),\n",
       " (630, 0.03829033008360142),\n",
       " (631, 0.016633423800992614),\n",
       " (632, 0.02629988251217795),\n",
       " (633, 0.021425283793007573),\n",
       " (634, 0.014231904200170458),\n",
       " (635, 0.020938257581228137),\n",
       " (636, 0.01723660468467966),\n",
       " (637, 0.019702398292560163),\n",
       " (638, 0.03240821571360991),\n",
       " (639, 0.022957502074607557),\n",
       " (640, 0.019016224904324638),\n",
       " (641, 0.02772134895883089),\n",
       " (642, 0.03829033008360142),\n",
       " (643, 0.0731872914966367),\n",
       " (644, 0.024188469502684856),\n",
       " (645, 0.04189981446403622),\n",
       " (646, 0.018186023264053688),\n",
       " (647, 0.020004360280754505),\n",
       " (648, 0.014576538883618885),\n",
       " (649, 0.03176671072253254),\n",
       " (650, 0.011277613929514558),\n",
       " (651, 0.03617891707410832),\n",
       " (652, 0.027146181182935467),\n",
       " (653, 0.008919987760811033),\n",
       " (654, 0.045380796263486296),\n",
       " (655, 0.026566986455042352),\n",
       " (656, 0.046478101846621656),\n",
       " (657, 0.02872354182218405),\n",
       " (658, 0.01497511254964341),\n",
       " (659, 0.015603268949867894),\n",
       " (660, 0.03351885127304755),\n",
       " (661, 0.03176671072253254),\n",
       " (662, 0.014549203465384805),\n",
       " (663, 0.010778653094408975),\n",
       " (664, 0.01276599713912071),\n",
       " (665, 0.02995022509928682),\n",
       " (666, 0.01723660468467966),\n",
       " (667, 0.0228222377107375),\n",
       " (668, 0.011894593280554651),\n",
       " (669, 0.016798751503217472),\n",
       " (670, 0.020492910679641506),\n",
       " (671, 0.019927212422065865),\n",
       " (672, 0.015125191675186566),\n",
       " (673, 0.007019352427439839),\n",
       " (674, 0.009696568956942063),\n",
       " (675, 0.017518153533382933),\n",
       " (676, 0.03842550666060539),\n",
       " (677, 0.02040823588365227),\n",
       " (678, 0.006594149358654744),\n",
       " (679, 0.05039625450965241),\n",
       " (680, 0.019080913751308347),\n",
       " (681, 0.052091626665209285),\n",
       " (682, 0.010029068168173044),\n",
       " (683, 0.020162171909676722),\n",
       " (684, 0.01846757211275696),\n",
       " (685, 0.04081647176730454),\n",
       " (686, 0.04189981446403622),\n",
       " (687, 0.012727423738923323),\n",
       " (688, 0.011733361044695688),\n",
       " (689, 0.018952329805565292),\n",
       " (690, 0.016592899197907227),\n",
       " (691, 0.014743635098414936),\n",
       " (692, 0.013860674479415445),\n",
       " (693, 0.05708627020133078),\n",
       " (694, 0.022313796587835118),\n",
       " (695, 0.012575925484231283),\n",
       " (696, 0.017867104115411984),\n",
       " (697, 0.03987597956137599),\n",
       " (698, 0.01692628567872901),\n",
       " (699, 0.025803565690947813),\n",
       " (700, 0.007574430124468852),\n",
       " (701, 0.06555183829250552),\n",
       " (702, 0.014055365761181177),\n",
       " (703, 0.012983414817472427),\n",
       " (704, 0.015738533313737955),\n",
       " (705, 0.02684853530374563),\n",
       " (706, 0.014604018552748857),\n",
       " (707, 0.025803565690947813),\n",
       " (708, 0.028157226342097736),\n",
       " (709, 0.01226792076889062),\n",
       " (710, 0.08562940530199617),\n",
       " (711, 0.04189981446403622),\n",
       " (712, 0.03829033008360142),\n",
       " (713, 0.09414678721000268),\n",
       " (714, 0.08379962892807244),\n",
       " (715, 0.013447537500821704),\n",
       " (716, 0.010520809079428747),\n",
       " (717, 0.013295327514396745),\n",
       " (718, 0.015106089057688017),\n",
       " (719, 0.020666506261691305),\n",
       " (720, 0.04436748523765467),\n",
       " (721, 0.040408948719539525),\n",
       " (722, 0.018704312207400323),\n",
       " (723, 0.029413050071382615),\n",
       " (724, 0.019702398292560163),\n",
       " (725, 0.02684853530374563),\n",
       " (726, 0.027797953883119654),\n",
       " (727, 0.04048581636285482),\n",
       " (728, 0.024547741961662938),\n",
       " (729, 0.04701138584833241),\n",
       " (730, 0.017867104115411984),\n",
       " (731, 0.015155733611512),\n",
       " (732, 0.012215408876348508),\n",
       " (733, 0.03107386387074113),\n",
       " (734, 0.02021442460230003),\n",
       " (735, 0.010495713198491387),\n",
       " (736, 0.009041639308970478),\n",
       " (737, 0.00911793935848852),\n",
       " (738, 0.03617891707410832),\n",
       " (739, 0.15156825116464975),\n",
       " (740, 0.01587740514932542),\n",
       " (741, 0.05978243548705365),\n",
       " (742, 0.019146416315805364),\n",
       " (743, 0.0076681295490797574),\n",
       " (744, 0.041876515162456274),\n",
       " (745, 0.013884616522583394),\n",
       " (746, 0.01174926146992235),\n",
       " (747, 0.044388162621026024),\n",
       " (748, 0.013957110294969613),\n",
       " (749, 0.02174097955236912),\n",
       " (750, 0.024365007941674136),\n",
       " (751, 0.019416990692130986),\n",
       " (752, 0.018353119478849732),\n",
       " (753, 0.031071361322731812),\n",
       " (754, 0.010898983138890267),\n",
       " (755, 0.01647318392058512),\n",
       " (756, 0.03468084570316662),\n",
       " (757, 0.016268086656736423),\n",
       " (758, 0.018131495171934322),\n",
       " (759, 0.04189981446403622),\n",
       " (760, 0.02152840370162408),\n",
       " (761, 0.04189981446403622),\n",
       " (762, 0.014231904200170458),\n",
       " (763, 0.008792080640909857),\n",
       " (764, 0.02990936689261275),\n",
       " (765, 0.06761194550859627),\n",
       " (766, 0.013126652518095187),\n",
       " (767, 0.009761392016614493),\n",
       " (768, 0.012538729717401055),\n",
       " (769, 0.011592400657676135),\n",
       " (770, 0.01958821736112437),\n",
       " (771, 0.03829033008360142),\n",
       " (772, 0.00742654312070752),\n",
       " (773, 0.01534284542513049),\n",
       " (774, 0.12706684289013015),\n",
       " (775, 0.06936169140633323),\n",
       " (776, 0.016394875900319704),\n",
       " (777, 0.03468084570316662),\n",
       " (778, 0.012303225210666164),\n",
       " (779, 0.04189981446403622),\n",
       " (780, 0.04081647176730454),\n",
       " (781, 0.016969500741815254),\n",
       " (782, 0.011654579130339232),\n",
       " (783, 0.03631859835519607),\n",
       " (784, 0.009794108680562186),\n",
       " (785, 0.04189981446403622),\n",
       " (786, 0.03829033008360142),\n",
       " (787, 0.037778418423867074),\n",
       " (788, 0.018826844571735044),\n",
       " (789, 0.05882610014276523),\n",
       " (790, 0.02493365072023059),\n",
       " (791, 0.04707339360500134),\n",
       " (792, 0.013252643790040193),\n",
       " (793, 0.01167024045106394),\n",
       " (794, 0.02353669680250067),\n",
       " (795, 0.022077056493191763),\n",
       " (796, 0.03829033008360142),\n",
       " (797, 0.03617891707410832),\n",
       " (798, 0.04189981446403622),\n",
       " (799, 0.14954683446306374),\n",
       " (800, 0.04165384956775019),\n",
       " (801, 0.026807186121993978),\n",
       " (802, 0.019851190849791443),\n",
       " (803, 0.029374676987448754),\n",
       " (804, 0.02086699516258668),\n",
       " (805, 0.03829033008360142),\n",
       " (806, 0.03176671072253254),\n",
       " (807, 0.04189981446403622),\n",
       " (808, 0.023692152681454717),\n",
       " (809, 0.022957502074607557),\n",
       " (810, 0.008334468371253281),\n",
       " (811, 0.021324166339795787),\n",
       " (812, 0.012651123689405278),\n",
       " (813, 0.00863211425044312),\n",
       " (814, 0.012303225210666164),\n",
       " (815, 0.015423901442273387),\n",
       " (816, 0.011292180051503894),\n",
       " (817, 0.024017720264087074),\n",
       " (818, 0.019016224904324638),\n",
       " (819, 0.02040823588365227),\n",
       " (820, 0.009205134822629264),\n",
       " (821, 0.012746674722829065),\n",
       " (822, 0.04189981446403622),\n",
       " (823, 0.013210307091671527),\n",
       " (824, 0.015279724831498738),\n",
       " (825, 0.00950680517858698),\n",
       " (826, 0.013813118119524345),\n",
       " (827, 0.025572088239719338),\n",
       " (828, 0.012338770640257466),\n",
       " (829, 0.1120860480178306),\n",
       " (830, 0.03829033008360142),\n",
       " (831, 0.022113875492587236),\n",
       " (832, 0.008392652051599865),\n",
       " (833, 0.01800780893674329),\n",
       " (834, 0.010980776211297213),\n",
       " (835, 0.01824112838373371),\n",
       " (836, 0.011671431811936476),\n",
       " (837, 0.004018797156896299),\n",
       " (838, 0.04189981446403622),\n",
       " (839, 0.01569134248234439),\n",
       " (840, 0.014829237878941208),\n",
       " (841, 0.013908669152948132),\n",
       " (842, 0.0981369546195832),\n",
       " (843, 0.12569944339210867),\n",
       " (844, 0.026045813332604643),\n",
       " (845, 0.009070120976413298),\n",
       " (846, 0.03468084570316662),\n",
       " (847, 0.03829033008360142),\n",
       " (848, 0.03249537041794208),\n",
       " (849, 0.024365007941674136),\n",
       " (850, 0.0670377025460951),\n",
       " (851, 0.012844011859928681),\n",
       " (852, 0.02629988251217795),\n",
       " (853, 0.021127637913817734),\n",
       " (854, 0.01602008216244123),\n",
       " (855, 0.005173579140965116),\n",
       " (856, 0.014604018552748857),\n",
       " (857, 0.03979825823806496),\n",
       " (858, 0.007913841621185589),\n",
       " (859, 0.032099851680959045),\n",
       " (860, 0.00894781000980467),\n",
       " (861, 0.011440127082414531),\n",
       " (862, 0.04189981446403622),\n",
       " (863, 0.015636757073098403),\n",
       " (864, 0.007235675176276405),\n",
       " (865, 0.03351885127304755),\n",
       " (866, 0.04189981446403622),\n",
       " (867, 0.6126452813376227),\n",
       " (868, 0.04189981446403622),\n",
       " (869, 0.02895994831323872),\n",
       " (870, 0.009728879620370275),\n",
       " (871, 0.014522010791499519),\n",
       " (872, 0.013581640668295869),\n",
       " (873, 0.01756659467540441)]"
      ]
     },
     "execution_count": 51,
     "metadata": {},
     "output_type": "execute_result"
    }
   ],
   "source": [
    "query_doc_tfidf"
   ]
  },
  {
   "cell_type": "code",
   "execution_count": 52,
   "id": "6259a9a7",
   "metadata": {},
   "outputs": [],
   "source": [
    "similarity_array = sims[query_doc_tfidf]"
   ]
  },
  {
   "cell_type": "code",
   "execution_count": 53,
   "id": "316e1739",
   "metadata": {},
   "outputs": [
    {
     "data": {
      "text/plain": [
       "3122"
      ]
     },
     "execution_count": 53,
     "metadata": {},
     "output_type": "execute_result"
    }
   ],
   "source": [
    "len(similarity_array)"
   ]
  },
  {
   "cell_type": "code",
   "execution_count": 54,
   "id": "9592cd4e",
   "metadata": {},
   "outputs": [],
   "source": [
    "#Create a Series to Visualize Similarity Score along with article Names\n",
    "similarity_series = pd.Series(similarity_array.tolist(), index=contents.title.values)"
   ]
  },
  {
   "cell_type": "code",
   "execution_count": 55,
   "id": "47ec1318",
   "metadata": {},
   "outputs": [
    {
     "data": {
      "text/plain": [
       "Ethereum, a Virtual Currency, Enables Transactions That Rival Bitcoin's                                      0.222332\n",
       "Ethereum, a Virtual Currency, Enables Transactions That Rival Bitcoin's                                      0.222332\n",
       "Bitcoin Future: When GBPcoin of Branson Wins Over USDcoin of Trump                                           0.027681\n",
       "Google Data Center 360° Tour                                                                                 0.015793\n",
       "IBM Wants to \"Evolve the Internet\" With Blockchain Technology                                                1.000000\n",
       "                                                                                                               ...   \n",
       "Conheça a Liga IoT, plataforma de inovação aberta que irá acelerar projetos ligados a Internet das Coisas    0.010276\n",
       "Amazon takes on Skype and GoToMeeting with its Chime video conferencing app                                  0.013012\n",
       "Code.org 2016 Annual Report                                                                                  0.022002\n",
       "JPMorgan Software Does in Seconds What Took Lawyers 360,000 Hours                                            0.071914\n",
       "The 2017 Acquia Partners of the Year                                                                         0.009904\n",
       "Length: 3122, dtype: float64"
      ]
     },
     "execution_count": 55,
     "metadata": {},
     "output_type": "execute_result"
    }
   ],
   "source": [
    "similarity_series"
   ]
  },
  {
   "cell_type": "code",
   "execution_count": 56,
   "id": "b2105d3e",
   "metadata": {},
   "outputs": [],
   "source": [
    "#Sort the series to get Top Recommended articles\n",
    "recommended_articles = similarity_series.sort_values(ascending=False)[1:n+1]"
   ]
  },
  {
   "cell_type": "code",
   "execution_count": 57,
   "id": "6c09810a",
   "metadata": {},
   "outputs": [
    {
     "data": {
      "text/plain": [
       "Are you a bitcoin denialist? - Chris Skinner's blog            0.354054\n",
       "Venture Capitalists Inject Nearly Half a Billion in Bitcoin    0.301252\n",
       "Blockchain won't kill banks: Bitcoin pioneer                   0.285944\n",
       "Red Hat OpenShift Blockchain Initiative Focuses On Ethereum    0.282205\n",
       "Confused by blockchains? Revolution vs Evolution               0.269431\n",
       "dtype: float64"
      ]
     },
     "execution_count": 57,
     "metadata": {},
     "output_type": "execute_result"
    }
   ],
   "source": [
    "recommended_articles"
   ]
  },
  {
   "cell_type": "code",
   "execution_count": 58,
   "id": "98891e83",
   "metadata": {},
   "outputs": [],
   "source": [
    "#Get highest TF-IDF values words for the query articles which influenced the Recommendations\n",
    "sorted_tfidf_weights = sorted(tfidf[corpus[article.index.values.tolist()[0]]], key=lambda w: w[1], reverse=True)"
   ]
  },
  {
   "cell_type": "code",
   "execution_count": 59,
   "id": "5af652db",
   "metadata": {},
   "outputs": [
    {
     "name": "stdout",
     "output_type": "stream",
     "text": [
      "Top words associated with this new article by tf-idf are: \n",
      " 'wolpert' 0.61265\n",
      " 'blockchain' 0.38021\n",
      " 'bitcoin' 0.25086\n",
      " 'linux' 0.15157\n",
      " 'ripple' 0.14955\n"
     ]
    }
   ],
   "source": [
    "print('Top words associated with this new article by tf-idf are: ')\n",
    "for term_id, weight in sorted_tfidf_weights[:5]:\n",
    "    print(\" '%s' %.5f\" %(dictionary.get(term_id), weight))"
   ]
  },
  {
   "cell_type": "markdown",
   "id": "c5eb0789",
   "metadata": {},
   "source": [
    "#### Creating a Modular code by creating a function for Query Movie Input"
   ]
  },
  {
   "cell_type": "code",
   "execution_count": 60,
   "id": "f7a7a8c9",
   "metadata": {},
   "outputs": [],
   "source": [
    "def news_recommendation(article_title):\n",
    "    article = contents.loc[contents.title == article_title] # get the article row\n",
    "    keywords = article['text_cleaned'].iloc[0].split() #get the keywords as a Series (article['text_description_cleaned']),\n",
    "    # get just the keywords string ([0]), and then convert to a list of keywords (.split() )\n",
    "    query_doc = keywords #set the query_doc to the list of keywords\n",
    "    \n",
    "    query_doc_bow = dictionary.doc2bow(query_doc) # get a bag of words from the query_doc\n",
    "    query_doc_tfidf = tfidf[query_doc_bow] #convert the regular bag of words model to a tf-idf model where we have tuples\n",
    "\n",
    "    similarity_array = sims[query_doc_tfidf] # get the array of similarity values between our article and every other article. \n",
    "    #So the length is the number of articles we have. To do this, we pass our list of tf-idf tuples to sims.\n",
    "\n",
    "    similarity_series = pd.Series(similarity_array.tolist(), index=contents.title.values) #Convert to a Series\n",
    "    recommended_articles = similarity_series.sort_values(ascending=False)\n",
    "    #get the top matching results, i.e. most similar articles; start from index 1 because every article is most similar to itself\n",
    "    #print(\"Top Recommended News articles along with Similarity Score: \")\n",
    "    return recommended_articles"
   ]
  },
  {
   "cell_type": "code",
   "execution_count": 61,
   "id": "f4f71ecc",
   "metadata": {},
   "outputs": [
    {
     "data": {
      "text/plain": [
       "IBM Wants to \"Evolve the Internet\" With Blockchain Technology        1.000000\n",
       "Are you a bitcoin denialist? - Chris Skinner's blog                  0.354054\n",
       "Venture Capitalists Inject Nearly Half a Billion in Bitcoin          0.301252\n",
       "Blockchain won't kill banks: Bitcoin pioneer                         0.285944\n",
       "Red Hat OpenShift Blockchain Initiative Focuses On Ethereum          0.282205\n",
       "                                                                       ...   \n",
       "O que é capitalização?                                               0.000000\n",
       "Microsseguro                                                         0.000000\n",
       "Irresistível: cebola recheada com carne moída e enrolada no bacon    0.000000\n",
       "Steak Tartare com Salada Verde                                       0.000000\n",
       "SOA com microserviços - Sensedia                                     0.000000\n",
       "Length: 3122, dtype: float64"
      ]
     },
     "execution_count": 61,
     "metadata": {},
     "output_type": "execute_result"
    }
   ],
   "source": [
    "news_recommendation('IBM Wants to \"Evolve the Internet\" With Blockchain Technology')"
   ]
  },
  {
   "cell_type": "code",
   "execution_count": 62,
   "id": "99e35f0f",
   "metadata": {},
   "outputs": [
    {
     "data": {
      "text/plain": [
       "Google Data Center 360° Tour                                                1.000000\n",
       "YouTube's New Messenger Means You'll Never Have to Leave YouTube            0.245944\n",
       "Google shares data center security and design best practices                0.227117\n",
       "This year's Founders' Letter                                                0.225985\n",
       "[Tools] How to Record your Desktop Screen with YouTube                      0.192810\n",
       "                                                                              ...   \n",
       "Squads não-suicidas - Hipsters #08                                          0.000000\n",
       "Sem Parar vs Conectcar - DanBP.org                                          0.000000\n",
       "Startup usa algoritmo e rede social para aprovar empréstimos | EXAME.com    0.000000\n",
       "DBA BRASIL no INTEROPMIX 2016                                               0.000000\n",
       "The 2017 Acquia Partners of the Year                                        0.000000\n",
       "Length: 3122, dtype: float64"
      ]
     },
     "execution_count": 62,
     "metadata": {},
     "output_type": "execute_result"
    }
   ],
   "source": [
    "news_recommendation('Google Data Center 360° Tour')"
   ]
  },
  {
   "cell_type": "code",
   "execution_count": null,
   "id": "d6e5cbf8",
   "metadata": {},
   "outputs": [],
   "source": []
  },
  {
   "cell_type": "markdown",
   "id": "53145df6",
   "metadata": {},
   "source": [
    "### Loading platform_content and consumer_transactions dataset for item and user based collaborative filtering"
   ]
  },
  {
   "cell_type": "code",
   "execution_count": 63,
   "id": "59e0d3bc",
   "metadata": {},
   "outputs": [],
   "source": [
    "## load content data\n",
    "content_df = pd.read_csv('Dataset/data/platform_content.csv')"
   ]
  },
  {
   "cell_type": "code",
   "execution_count": 64,
   "id": "5cf6d295",
   "metadata": {},
   "outputs": [
    {
     "data": {
      "text/plain": [
       "(3122, 13)"
      ]
     },
     "execution_count": 64,
     "metadata": {},
     "output_type": "execute_result"
    }
   ],
   "source": [
    "# shape of content dataset\n",
    "content_df.shape"
   ]
  },
  {
   "cell_type": "code",
   "execution_count": 65,
   "id": "0a0be24d",
   "metadata": {},
   "outputs": [
    {
     "data": {
      "text/plain": [
       "Index(['event_timestamp', 'interaction_type', 'item_id', 'producer_id',\n",
       "       'producer_session_id', 'producer_device_info', 'producer_location',\n",
       "       'producer_country', 'item_type', 'item_url', 'title',\n",
       "       'text_description', 'language'],\n",
       "      dtype='object')"
      ]
     },
     "execution_count": 65,
     "metadata": {},
     "output_type": "execute_result"
    }
   ],
   "source": [
    "# columns in content dataset\n",
    "content_df.columns"
   ]
  },
  {
   "cell_type": "code",
   "execution_count": 66,
   "id": "08242a4c",
   "metadata": {},
   "outputs": [],
   "source": [
    "## loading ratings/user dataset\n",
    "consumer_df = pd.read_csv('Dataset/data/consumer_transanctions.csv')"
   ]
  },
  {
   "cell_type": "code",
   "execution_count": 67,
   "id": "05d67cc4",
   "metadata": {},
   "outputs": [
    {
     "data": {
      "text/html": [
       "<div>\n",
       "<style scoped>\n",
       "    .dataframe tbody tr th:only-of-type {\n",
       "        vertical-align: middle;\n",
       "    }\n",
       "\n",
       "    .dataframe tbody tr th {\n",
       "        vertical-align: top;\n",
       "    }\n",
       "\n",
       "    .dataframe thead th {\n",
       "        text-align: right;\n",
       "    }\n",
       "</style>\n",
       "<table border=\"1\" class=\"dataframe\">\n",
       "  <thead>\n",
       "    <tr style=\"text-align: right;\">\n",
       "      <th></th>\n",
       "      <th>event_timestamp</th>\n",
       "      <th>interaction_type</th>\n",
       "      <th>item_id</th>\n",
       "      <th>consumer_id</th>\n",
       "      <th>consumer_session_id</th>\n",
       "      <th>consumer_device_info</th>\n",
       "      <th>consumer_location</th>\n",
       "      <th>country</th>\n",
       "    </tr>\n",
       "  </thead>\n",
       "  <tbody>\n",
       "    <tr>\n",
       "      <th>0</th>\n",
       "      <td>1465413032</td>\n",
       "      <td>content_watched</td>\n",
       "      <td>-3499919498720038879</td>\n",
       "      <td>-8845298781299428018</td>\n",
       "      <td>1264196770339959068</td>\n",
       "      <td>NaN</td>\n",
       "      <td>NaN</td>\n",
       "      <td>NaN</td>\n",
       "    </tr>\n",
       "    <tr>\n",
       "      <th>1</th>\n",
       "      <td>1465412560</td>\n",
       "      <td>content_watched</td>\n",
       "      <td>8890720798209849691</td>\n",
       "      <td>-1032019229384696495</td>\n",
       "      <td>3621737643587579081</td>\n",
       "      <td>Mozilla/5.0 (Macintosh; Intel Mac OS X 10_11_2) AppleWebKit/537.36 (KHTML, like Gecko) Chrome/52.0.2743.24 Safari/537.36</td>\n",
       "      <td>NY</td>\n",
       "      <td>US</td>\n",
       "    </tr>\n",
       "    <tr>\n",
       "      <th>2</th>\n",
       "      <td>1465416190</td>\n",
       "      <td>content_watched</td>\n",
       "      <td>310515487419366995</td>\n",
       "      <td>-1130272294246983140</td>\n",
       "      <td>2631864456530402479</td>\n",
       "      <td>NaN</td>\n",
       "      <td>NaN</td>\n",
       "      <td>NaN</td>\n",
       "    </tr>\n",
       "  </tbody>\n",
       "</table>\n",
       "</div>"
      ],
      "text/plain": [
       "   event_timestamp interaction_type              item_id          consumer_id  \\\n",
       "0       1465413032  content_watched -3499919498720038879 -8845298781299428018   \n",
       "1       1465412560  content_watched  8890720798209849691 -1032019229384696495   \n",
       "2       1465416190  content_watched   310515487419366995 -1130272294246983140   \n",
       "\n",
       "   consumer_session_id  \\\n",
       "0  1264196770339959068   \n",
       "1  3621737643587579081   \n",
       "2  2631864456530402479   \n",
       "\n",
       "                                                                                                       consumer_device_info  \\\n",
       "0                                                                                                                       NaN   \n",
       "1  Mozilla/5.0 (Macintosh; Intel Mac OS X 10_11_2) AppleWebKit/537.36 (KHTML, like Gecko) Chrome/52.0.2743.24 Safari/537.36   \n",
       "2                                                                                                                       NaN   \n",
       "\n",
       "  consumer_location country  \n",
       "0               NaN     NaN  \n",
       "1                NY      US  \n",
       "2               NaN     NaN  "
      ]
     },
     "execution_count": 67,
     "metadata": {},
     "output_type": "execute_result"
    }
   ],
   "source": [
    "# printing first 3 rows for user dataset\n",
    "consumer_df.head(3)"
   ]
  },
  {
   "cell_type": "code",
   "execution_count": 68,
   "id": "d0154463",
   "metadata": {},
   "outputs": [
    {
     "data": {
      "text/plain": [
       "(72312, 8)"
      ]
     },
     "execution_count": 68,
     "metadata": {},
     "output_type": "execute_result"
    }
   ],
   "source": [
    "consumer_df.shape"
   ]
  },
  {
   "cell_type": "code",
   "execution_count": 69,
   "id": "da461679",
   "metadata": {
    "scrolled": true
   },
   "outputs": [
    {
     "data": {
      "text/plain": [
       "content_watched         61086\n",
       "content_liked            5745\n",
       "content_saved            2463\n",
       "content_commented_on     1611\n",
       "content_followed         1407\n",
       "Name: interaction_type, dtype: int64"
      ]
     },
     "execution_count": 69,
     "metadata": {},
     "output_type": "execute_result"
    }
   ],
   "source": [
    "consumer_df['interaction_type'].value_counts()"
   ]
  },
  {
   "cell_type": "code",
   "execution_count": 70,
   "id": "2016388d",
   "metadata": {},
   "outputs": [],
   "source": [
    "# mapping interaction type to respective ratings value for further analysis\n",
    "consumer_df['ratings'] = consumer_df['interaction_type'].map({'content_followed': 5, 'content_commented_on': 4,\n",
    "                                                             'content_saved': 3, 'content_liked': 2, 'content_watched': 1})"
   ]
  },
  {
   "cell_type": "code",
   "execution_count": 71,
   "id": "19737b73",
   "metadata": {},
   "outputs": [
    {
     "data": {
      "text/html": [
       "<div>\n",
       "<style scoped>\n",
       "    .dataframe tbody tr th:only-of-type {\n",
       "        vertical-align: middle;\n",
       "    }\n",
       "\n",
       "    .dataframe tbody tr th {\n",
       "        vertical-align: top;\n",
       "    }\n",
       "\n",
       "    .dataframe thead th {\n",
       "        text-align: right;\n",
       "    }\n",
       "</style>\n",
       "<table border=\"1\" class=\"dataframe\">\n",
       "  <thead>\n",
       "    <tr style=\"text-align: right;\">\n",
       "      <th></th>\n",
       "      <th>event_timestamp</th>\n",
       "      <th>interaction_type</th>\n",
       "      <th>item_id</th>\n",
       "      <th>consumer_id</th>\n",
       "      <th>consumer_session_id</th>\n",
       "      <th>consumer_device_info</th>\n",
       "      <th>consumer_location</th>\n",
       "      <th>country</th>\n",
       "      <th>ratings</th>\n",
       "    </tr>\n",
       "  </thead>\n",
       "  <tbody>\n",
       "    <tr>\n",
       "      <th>0</th>\n",
       "      <td>1465413032</td>\n",
       "      <td>content_watched</td>\n",
       "      <td>-3499919498720038879</td>\n",
       "      <td>-8845298781299428018</td>\n",
       "      <td>1264196770339959068</td>\n",
       "      <td>NaN</td>\n",
       "      <td>NaN</td>\n",
       "      <td>NaN</td>\n",
       "      <td>1</td>\n",
       "    </tr>\n",
       "    <tr>\n",
       "      <th>1</th>\n",
       "      <td>1465412560</td>\n",
       "      <td>content_watched</td>\n",
       "      <td>8890720798209849691</td>\n",
       "      <td>-1032019229384696495</td>\n",
       "      <td>3621737643587579081</td>\n",
       "      <td>Mozilla/5.0 (Macintosh; Intel Mac OS X 10_11_2) AppleWebKit/537.36 (KHTML, like Gecko) Chrome/52.0.2743.24 Safari/537.36</td>\n",
       "      <td>NY</td>\n",
       "      <td>US</td>\n",
       "      <td>1</td>\n",
       "    </tr>\n",
       "    <tr>\n",
       "      <th>2</th>\n",
       "      <td>1465416190</td>\n",
       "      <td>content_watched</td>\n",
       "      <td>310515487419366995</td>\n",
       "      <td>-1130272294246983140</td>\n",
       "      <td>2631864456530402479</td>\n",
       "      <td>NaN</td>\n",
       "      <td>NaN</td>\n",
       "      <td>NaN</td>\n",
       "      <td>1</td>\n",
       "    </tr>\n",
       "    <tr>\n",
       "      <th>3</th>\n",
       "      <td>1465413895</td>\n",
       "      <td>content_followed</td>\n",
       "      <td>310515487419366995</td>\n",
       "      <td>344280948527967603</td>\n",
       "      <td>-3167637573980064150</td>\n",
       "      <td>NaN</td>\n",
       "      <td>NaN</td>\n",
       "      <td>NaN</td>\n",
       "      <td>5</td>\n",
       "    </tr>\n",
       "    <tr>\n",
       "      <th>4</th>\n",
       "      <td>1465412290</td>\n",
       "      <td>content_watched</td>\n",
       "      <td>-7820640624231356730</td>\n",
       "      <td>-445337111692715325</td>\n",
       "      <td>561148 1178424124714</td>\n",
       "      <td>NaN</td>\n",
       "      <td>NaN</td>\n",
       "      <td>NaN</td>\n",
       "      <td>1</td>\n",
       "    </tr>\n",
       "  </tbody>\n",
       "</table>\n",
       "</div>"
      ],
      "text/plain": [
       "   event_timestamp  interaction_type              item_id  \\\n",
       "0       1465413032   content_watched -3499919498720038879   \n",
       "1       1465412560   content_watched  8890720798209849691   \n",
       "2       1465416190   content_watched   310515487419366995   \n",
       "3       1465413895  content_followed   310515487419366995   \n",
       "4       1465412290   content_watched -7820640624231356730   \n",
       "\n",
       "           consumer_id   consumer_session_id  \\\n",
       "0 -8845298781299428018   1264196770339959068   \n",
       "1 -1032019229384696495   3621737643587579081   \n",
       "2 -1130272294246983140   2631864456530402479   \n",
       "3   344280948527967603  -3167637573980064150   \n",
       "4  -445337111692715325  561148 1178424124714   \n",
       "\n",
       "                                                                                                       consumer_device_info  \\\n",
       "0                                                                                                                       NaN   \n",
       "1  Mozilla/5.0 (Macintosh; Intel Mac OS X 10_11_2) AppleWebKit/537.36 (KHTML, like Gecko) Chrome/52.0.2743.24 Safari/537.36   \n",
       "2                                                                                                                       NaN   \n",
       "3                                                                                                                       NaN   \n",
       "4                                                                                                                       NaN   \n",
       "\n",
       "  consumer_location country  ratings  \n",
       "0               NaN     NaN        1  \n",
       "1                NY      US        1  \n",
       "2               NaN     NaN        1  \n",
       "3               NaN     NaN        5  \n",
       "4               NaN     NaN        1  "
      ]
     },
     "execution_count": 71,
     "metadata": {},
     "output_type": "execute_result"
    }
   ],
   "source": [
    "consumer_df.head()"
   ]
  },
  {
   "cell_type": "code",
   "execution_count": 72,
   "id": "ce9aae78",
   "metadata": {},
   "outputs": [],
   "source": [
    "# keeping only the relevent columns for both the content dataset and user dataset\n",
    "ratings_df = consumer_df[['consumer_id', 'item_id', 'ratings']]\n",
    "news_df = content_df[['item_id', 'title']]"
   ]
  },
  {
   "cell_type": "code",
   "execution_count": 73,
   "id": "98bde258",
   "metadata": {},
   "outputs": [
    {
     "data": {
      "text/html": [
       "<div>\n",
       "<style scoped>\n",
       "    .dataframe tbody tr th:only-of-type {\n",
       "        vertical-align: middle;\n",
       "    }\n",
       "\n",
       "    .dataframe tbody tr th {\n",
       "        vertical-align: top;\n",
       "    }\n",
       "\n",
       "    .dataframe thead th {\n",
       "        text-align: right;\n",
       "    }\n",
       "</style>\n",
       "<table border=\"1\" class=\"dataframe\">\n",
       "  <thead>\n",
       "    <tr style=\"text-align: right;\">\n",
       "      <th></th>\n",
       "      <th>consumer_id</th>\n",
       "      <th>item_id</th>\n",
       "      <th>ratings</th>\n",
       "    </tr>\n",
       "  </thead>\n",
       "  <tbody>\n",
       "    <tr>\n",
       "      <th>0</th>\n",
       "      <td>-8845298781299428018</td>\n",
       "      <td>-3499919498720038879</td>\n",
       "      <td>1</td>\n",
       "    </tr>\n",
       "    <tr>\n",
       "      <th>1</th>\n",
       "      <td>-1032019229384696495</td>\n",
       "      <td>8890720798209849691</td>\n",
       "      <td>1</td>\n",
       "    </tr>\n",
       "    <tr>\n",
       "      <th>2</th>\n",
       "      <td>-1130272294246983140</td>\n",
       "      <td>310515487419366995</td>\n",
       "      <td>1</td>\n",
       "    </tr>\n",
       "    <tr>\n",
       "      <th>3</th>\n",
       "      <td>344280948527967603</td>\n",
       "      <td>310515487419366995</td>\n",
       "      <td>5</td>\n",
       "    </tr>\n",
       "    <tr>\n",
       "      <th>4</th>\n",
       "      <td>-445337111692715325</td>\n",
       "      <td>-7820640624231356730</td>\n",
       "      <td>1</td>\n",
       "    </tr>\n",
       "  </tbody>\n",
       "</table>\n",
       "</div>"
      ],
      "text/plain": [
       "           consumer_id              item_id  ratings\n",
       "0 -8845298781299428018 -3499919498720038879        1\n",
       "1 -1032019229384696495  8890720798209849691        1\n",
       "2 -1130272294246983140   310515487419366995        1\n",
       "3   344280948527967603   310515487419366995        5\n",
       "4  -445337111692715325 -7820640624231356730        1"
      ]
     },
     "execution_count": 73,
     "metadata": {},
     "output_type": "execute_result"
    }
   ],
   "source": [
    "ratings_df.head()"
   ]
  },
  {
   "cell_type": "code",
   "execution_count": 74,
   "id": "f4323053",
   "metadata": {},
   "outputs": [
    {
     "data": {
      "text/html": [
       "<div>\n",
       "<style scoped>\n",
       "    .dataframe tbody tr th:only-of-type {\n",
       "        vertical-align: middle;\n",
       "    }\n",
       "\n",
       "    .dataframe tbody tr th {\n",
       "        vertical-align: top;\n",
       "    }\n",
       "\n",
       "    .dataframe thead th {\n",
       "        text-align: right;\n",
       "    }\n",
       "</style>\n",
       "<table border=\"1\" class=\"dataframe\">\n",
       "  <thead>\n",
       "    <tr style=\"text-align: right;\">\n",
       "      <th></th>\n",
       "      <th>item_id</th>\n",
       "      <th>title</th>\n",
       "    </tr>\n",
       "  </thead>\n",
       "  <tbody>\n",
       "    <tr>\n",
       "      <th>0</th>\n",
       "      <td>-6451309518266745024</td>\n",
       "      <td>Ethereum, a Virtual Currency, Enables Transactions That Rival Bitcoin's</td>\n",
       "    </tr>\n",
       "    <tr>\n",
       "      <th>1</th>\n",
       "      <td>-4110354420726924665</td>\n",
       "      <td>Ethereum, a Virtual Currency, Enables Transactions That Rival Bitcoin's</td>\n",
       "    </tr>\n",
       "    <tr>\n",
       "      <th>2</th>\n",
       "      <td>-7292285110016212249</td>\n",
       "      <td>Bitcoin Future: When GBPcoin of Branson Wins Over USDcoin of Trump</td>\n",
       "    </tr>\n",
       "    <tr>\n",
       "      <th>3</th>\n",
       "      <td>-6151852268067518688</td>\n",
       "      <td>Google Data Center 360° Tour</td>\n",
       "    </tr>\n",
       "    <tr>\n",
       "      <th>4</th>\n",
       "      <td>2448026894306402386</td>\n",
       "      <td>IBM Wants to \"Evolve the Internet\" With Blockchain Technology</td>\n",
       "    </tr>\n",
       "  </tbody>\n",
       "</table>\n",
       "</div>"
      ],
      "text/plain": [
       "               item_id  \\\n",
       "0 -6451309518266745024   \n",
       "1 -4110354420726924665   \n",
       "2 -7292285110016212249   \n",
       "3 -6151852268067518688   \n",
       "4  2448026894306402386   \n",
       "\n",
       "                                                                     title  \n",
       "0  Ethereum, a Virtual Currency, Enables Transactions That Rival Bitcoin's  \n",
       "1  Ethereum, a Virtual Currency, Enables Transactions That Rival Bitcoin's  \n",
       "2       Bitcoin Future: When GBPcoin of Branson Wins Over USDcoin of Trump  \n",
       "3                                             Google Data Center 360° Tour  \n",
       "4            IBM Wants to \"Evolve the Internet\" With Blockchain Technology  "
      ]
     },
     "execution_count": 74,
     "metadata": {},
     "output_type": "execute_result"
    }
   ],
   "source": [
    "news_df.head()"
   ]
  },
  {
   "cell_type": "code",
   "execution_count": 75,
   "id": "51c995f1",
   "metadata": {},
   "outputs": [
    {
     "name": "stdout",
     "output_type": "stream",
     "text": [
      "Unique number of users are: 1895\n",
      "Unique number of articles are: 2987\n"
     ]
    }
   ],
   "source": [
    "# unique number of users \n",
    "n_users = ratings_df.consumer_id.nunique()\n",
    "# unique number of articles\n",
    "n_items = ratings_df.item_id.nunique()\n",
    "print(\"Unique number of users are:\", n_users)\n",
    "print(\"Unique number of articles are:\", n_items)"
   ]
  },
  {
   "cell_type": "markdown",
   "id": "afb20e5b",
   "metadata": {},
   "source": [
    "### Dividing the dataset into train and test"
   ]
  },
  {
   "cell_type": "code",
   "execution_count": 76,
   "id": "57b83b18",
   "metadata": {},
   "outputs": [],
   "source": [
    "from sklearn.model_selection import train_test_split\n",
    "train, test = train_test_split(ratings_df, test_size=0.20, random_state=31)"
   ]
  },
  {
   "cell_type": "code",
   "execution_count": 77,
   "id": "850dce6d",
   "metadata": {},
   "outputs": [
    {
     "name": "stdout",
     "output_type": "stream",
     "text": [
      "(57849, 3)\n",
      "(14463, 3)\n"
     ]
    }
   ],
   "source": [
    "print(train.shape)\n",
    "print(test.shape)"
   ]
  },
  {
   "cell_type": "code",
   "execution_count": 78,
   "id": "4713274b",
   "metadata": {},
   "outputs": [
    {
     "data": {
      "text/html": [
       "<div>\n",
       "<style scoped>\n",
       "    .dataframe tbody tr th:only-of-type {\n",
       "        vertical-align: middle;\n",
       "    }\n",
       "\n",
       "    .dataframe tbody tr th {\n",
       "        vertical-align: top;\n",
       "    }\n",
       "\n",
       "    .dataframe thead th {\n",
       "        text-align: right;\n",
       "    }\n",
       "</style>\n",
       "<table border=\"1\" class=\"dataframe\">\n",
       "  <thead>\n",
       "    <tr style=\"text-align: right;\">\n",
       "      <th></th>\n",
       "      <th>consumer_id</th>\n",
       "      <th>item_id</th>\n",
       "      <th>ratings</th>\n",
       "    </tr>\n",
       "  </thead>\n",
       "  <tbody>\n",
       "    <tr>\n",
       "      <th>9257</th>\n",
       "      <td>7167124757087633794</td>\n",
       "      <td>764116021156146784</td>\n",
       "      <td>2</td>\n",
       "    </tr>\n",
       "    <tr>\n",
       "      <th>71686</th>\n",
       "      <td>-2772844562500836582</td>\n",
       "      <td>3099207916247126790</td>\n",
       "      <td>1</td>\n",
       "    </tr>\n",
       "    <tr>\n",
       "      <th>23556</th>\n",
       "      <td>-2626634673110551643</td>\n",
       "      <td>6090517797383271316</td>\n",
       "      <td>1</td>\n",
       "    </tr>\n",
       "    <tr>\n",
       "      <th>51229</th>\n",
       "      <td>3061273947166110301</td>\n",
       "      <td>-1119244241345534741</td>\n",
       "      <td>5</td>\n",
       "    </tr>\n",
       "    <tr>\n",
       "      <th>9583</th>\n",
       "      <td>692689608292948411</td>\n",
       "      <td>2280365999288629014</td>\n",
       "      <td>1</td>\n",
       "    </tr>\n",
       "  </tbody>\n",
       "</table>\n",
       "</div>"
      ],
      "text/plain": [
       "               consumer_id              item_id  ratings\n",
       "9257   7167124757087633794   764116021156146784        2\n",
       "71686 -2772844562500836582  3099207916247126790        1\n",
       "23556 -2626634673110551643  6090517797383271316        1\n",
       "51229  3061273947166110301 -1119244241345534741        5\n",
       "9583    692689608292948411  2280365999288629014        1"
      ]
     },
     "execution_count": 78,
     "metadata": {},
     "output_type": "execute_result"
    }
   ],
   "source": [
    "train.head()"
   ]
  },
  {
   "cell_type": "markdown",
   "id": "29c52fad",
   "metadata": {},
   "source": [
    "### Creating user*article Train matrix with rating values"
   ]
  },
  {
   "cell_type": "code",
   "execution_count": 79,
   "id": "ed1346af",
   "metadata": {},
   "outputs": [],
   "source": [
    "data_matrix = train.pivot_table(\n",
    "    index='consumer_id',\n",
    "    columns='item_id',\n",
    "    values='ratings', aggfunc='mean').fillna(0)"
   ]
  },
  {
   "cell_type": "code",
   "execution_count": 80,
   "id": "6f59d121",
   "metadata": {},
   "outputs": [
    {
     "data": {
      "text/html": [
       "<div>\n",
       "<style scoped>\n",
       "    .dataframe tbody tr th:only-of-type {\n",
       "        vertical-align: middle;\n",
       "    }\n",
       "\n",
       "    .dataframe tbody tr th {\n",
       "        vertical-align: top;\n",
       "    }\n",
       "\n",
       "    .dataframe thead th {\n",
       "        text-align: right;\n",
       "    }\n",
       "</style>\n",
       "<table border=\"1\" class=\"dataframe\">\n",
       "  <thead>\n",
       "    <tr style=\"text-align: right;\">\n",
       "      <th>item_id</th>\n",
       "      <th>-9222795471790223670</th>\n",
       "      <th>-9216926795620865886</th>\n",
       "      <th>-9194572880052200111</th>\n",
       "      <th>-9192549002213406534</th>\n",
       "      <th>-9190737901804729417</th>\n",
       "      <th>-9189659052158407108</th>\n",
       "      <th>-9184137057748005562</th>\n",
       "      <th>-9176143510534135851</th>\n",
       "      <th>-9172673334835262304</th>\n",
       "      <th>-9171475473795142532</th>\n",
       "      <th>...</th>\n",
       "      <th>9191014301634017491</th>\n",
       "      <th>9207286802575546269</th>\n",
       "      <th>9208127165664287660</th>\n",
       "      <th>9209629151177723638</th>\n",
       "      <th>9209886322932807692</th>\n",
       "      <th>9213260650272029784</th>\n",
       "      <th>9215261273565326920</th>\n",
       "      <th>9217155070834564627</th>\n",
       "      <th>9220445660318725468</th>\n",
       "      <th>9222265156747237864</th>\n",
       "    </tr>\n",
       "    <tr>\n",
       "      <th>consumer_id</th>\n",
       "      <th></th>\n",
       "      <th></th>\n",
       "      <th></th>\n",
       "      <th></th>\n",
       "      <th></th>\n",
       "      <th></th>\n",
       "      <th></th>\n",
       "      <th></th>\n",
       "      <th></th>\n",
       "      <th></th>\n",
       "      <th></th>\n",
       "      <th></th>\n",
       "      <th></th>\n",
       "      <th></th>\n",
       "      <th></th>\n",
       "      <th></th>\n",
       "      <th></th>\n",
       "      <th></th>\n",
       "      <th></th>\n",
       "      <th></th>\n",
       "      <th></th>\n",
       "    </tr>\n",
       "  </thead>\n",
       "  <tbody>\n",
       "    <tr>\n",
       "      <th>-9223121837663643404</th>\n",
       "      <td>0.0</td>\n",
       "      <td>0.0</td>\n",
       "      <td>0.0</td>\n",
       "      <td>0.0</td>\n",
       "      <td>0.0</td>\n",
       "      <td>0.0</td>\n",
       "      <td>0.0</td>\n",
       "      <td>0.0</td>\n",
       "      <td>0.0</td>\n",
       "      <td>0.0</td>\n",
       "      <td>...</td>\n",
       "      <td>0.0</td>\n",
       "      <td>0.0</td>\n",
       "      <td>0.0</td>\n",
       "      <td>0.0</td>\n",
       "      <td>0.0</td>\n",
       "      <td>0.0</td>\n",
       "      <td>0.0</td>\n",
       "      <td>0.0</td>\n",
       "      <td>0.0</td>\n",
       "      <td>0.0</td>\n",
       "    </tr>\n",
       "    <tr>\n",
       "      <th>-9212075797126931087</th>\n",
       "      <td>0.0</td>\n",
       "      <td>0.0</td>\n",
       "      <td>0.0</td>\n",
       "      <td>0.0</td>\n",
       "      <td>0.0</td>\n",
       "      <td>0.0</td>\n",
       "      <td>0.0</td>\n",
       "      <td>0.0</td>\n",
       "      <td>0.0</td>\n",
       "      <td>0.0</td>\n",
       "      <td>...</td>\n",
       "      <td>0.0</td>\n",
       "      <td>0.0</td>\n",
       "      <td>0.0</td>\n",
       "      <td>0.0</td>\n",
       "      <td>0.0</td>\n",
       "      <td>0.0</td>\n",
       "      <td>0.0</td>\n",
       "      <td>0.0</td>\n",
       "      <td>0.0</td>\n",
       "      <td>0.0</td>\n",
       "    </tr>\n",
       "    <tr>\n",
       "      <th>-9207251133131336884</th>\n",
       "      <td>0.0</td>\n",
       "      <td>1.0</td>\n",
       "      <td>0.0</td>\n",
       "      <td>0.0</td>\n",
       "      <td>0.0</td>\n",
       "      <td>0.0</td>\n",
       "      <td>0.0</td>\n",
       "      <td>0.0</td>\n",
       "      <td>0.0</td>\n",
       "      <td>0.0</td>\n",
       "      <td>...</td>\n",
       "      <td>0.0</td>\n",
       "      <td>0.0</td>\n",
       "      <td>0.0</td>\n",
       "      <td>0.0</td>\n",
       "      <td>0.0</td>\n",
       "      <td>0.0</td>\n",
       "      <td>0.0</td>\n",
       "      <td>0.0</td>\n",
       "      <td>0.0</td>\n",
       "      <td>0.0</td>\n",
       "    </tr>\n",
       "    <tr>\n",
       "      <th>-9199575329909162940</th>\n",
       "      <td>0.0</td>\n",
       "      <td>0.0</td>\n",
       "      <td>0.0</td>\n",
       "      <td>0.0</td>\n",
       "      <td>0.0</td>\n",
       "      <td>0.0</td>\n",
       "      <td>0.0</td>\n",
       "      <td>0.0</td>\n",
       "      <td>0.0</td>\n",
       "      <td>0.0</td>\n",
       "      <td>...</td>\n",
       "      <td>0.0</td>\n",
       "      <td>0.0</td>\n",
       "      <td>0.0</td>\n",
       "      <td>0.0</td>\n",
       "      <td>0.0</td>\n",
       "      <td>0.0</td>\n",
       "      <td>0.0</td>\n",
       "      <td>0.0</td>\n",
       "      <td>0.0</td>\n",
       "      <td>0.0</td>\n",
       "    </tr>\n",
       "    <tr>\n",
       "      <th>-9196668942822132778</th>\n",
       "      <td>0.0</td>\n",
       "      <td>0.0</td>\n",
       "      <td>0.0</td>\n",
       "      <td>0.0</td>\n",
       "      <td>0.0</td>\n",
       "      <td>0.0</td>\n",
       "      <td>0.0</td>\n",
       "      <td>0.0</td>\n",
       "      <td>0.0</td>\n",
       "      <td>0.0</td>\n",
       "      <td>...</td>\n",
       "      <td>0.0</td>\n",
       "      <td>0.0</td>\n",
       "      <td>0.0</td>\n",
       "      <td>0.0</td>\n",
       "      <td>0.0</td>\n",
       "      <td>0.0</td>\n",
       "      <td>0.0</td>\n",
       "      <td>0.0</td>\n",
       "      <td>0.0</td>\n",
       "      <td>0.0</td>\n",
       "    </tr>\n",
       "  </tbody>\n",
       "</table>\n",
       "<p>5 rows × 2944 columns</p>\n",
       "</div>"
      ],
      "text/plain": [
       "item_id               -9222795471790223670  -9216926795620865886  \\\n",
       "consumer_id                                                        \n",
       "-9223121837663643404                   0.0                   0.0   \n",
       "-9212075797126931087                   0.0                   0.0   \n",
       "-9207251133131336884                   0.0                   1.0   \n",
       "-9199575329909162940                   0.0                   0.0   \n",
       "-9196668942822132778                   0.0                   0.0   \n",
       "\n",
       "item_id               -9194572880052200111  -9192549002213406534  \\\n",
       "consumer_id                                                        \n",
       "-9223121837663643404                   0.0                   0.0   \n",
       "-9212075797126931087                   0.0                   0.0   \n",
       "-9207251133131336884                   0.0                   0.0   \n",
       "-9199575329909162940                   0.0                   0.0   \n",
       "-9196668942822132778                   0.0                   0.0   \n",
       "\n",
       "item_id               -9190737901804729417  -9189659052158407108  \\\n",
       "consumer_id                                                        \n",
       "-9223121837663643404                   0.0                   0.0   \n",
       "-9212075797126931087                   0.0                   0.0   \n",
       "-9207251133131336884                   0.0                   0.0   \n",
       "-9199575329909162940                   0.0                   0.0   \n",
       "-9196668942822132778                   0.0                   0.0   \n",
       "\n",
       "item_id               -9184137057748005562  -9176143510534135851  \\\n",
       "consumer_id                                                        \n",
       "-9223121837663643404                   0.0                   0.0   \n",
       "-9212075797126931087                   0.0                   0.0   \n",
       "-9207251133131336884                   0.0                   0.0   \n",
       "-9199575329909162940                   0.0                   0.0   \n",
       "-9196668942822132778                   0.0                   0.0   \n",
       "\n",
       "item_id               -9172673334835262304  -9171475473795142532  ...  \\\n",
       "consumer_id                                                       ...   \n",
       "-9223121837663643404                   0.0                   0.0  ...   \n",
       "-9212075797126931087                   0.0                   0.0  ...   \n",
       "-9207251133131336884                   0.0                   0.0  ...   \n",
       "-9199575329909162940                   0.0                   0.0  ...   \n",
       "-9196668942822132778                   0.0                   0.0  ...   \n",
       "\n",
       "item_id                9191014301634017491   9207286802575546269  \\\n",
       "consumer_id                                                        \n",
       "-9223121837663643404                   0.0                   0.0   \n",
       "-9212075797126931087                   0.0                   0.0   \n",
       "-9207251133131336884                   0.0                   0.0   \n",
       "-9199575329909162940                   0.0                   0.0   \n",
       "-9196668942822132778                   0.0                   0.0   \n",
       "\n",
       "item_id                9208127165664287660   9209629151177723638  \\\n",
       "consumer_id                                                        \n",
       "-9223121837663643404                   0.0                   0.0   \n",
       "-9212075797126931087                   0.0                   0.0   \n",
       "-9207251133131336884                   0.0                   0.0   \n",
       "-9199575329909162940                   0.0                   0.0   \n",
       "-9196668942822132778                   0.0                   0.0   \n",
       "\n",
       "item_id                9209886322932807692   9213260650272029784  \\\n",
       "consumer_id                                                        \n",
       "-9223121837663643404                   0.0                   0.0   \n",
       "-9212075797126931087                   0.0                   0.0   \n",
       "-9207251133131336884                   0.0                   0.0   \n",
       "-9199575329909162940                   0.0                   0.0   \n",
       "-9196668942822132778                   0.0                   0.0   \n",
       "\n",
       "item_id                9215261273565326920   9217155070834564627  \\\n",
       "consumer_id                                                        \n",
       "-9223121837663643404                   0.0                   0.0   \n",
       "-9212075797126931087                   0.0                   0.0   \n",
       "-9207251133131336884                   0.0                   0.0   \n",
       "-9199575329909162940                   0.0                   0.0   \n",
       "-9196668942822132778                   0.0                   0.0   \n",
       "\n",
       "item_id                9220445660318725468   9222265156747237864  \n",
       "consumer_id                                                       \n",
       "-9223121837663643404                   0.0                   0.0  \n",
       "-9212075797126931087                   0.0                   0.0  \n",
       "-9207251133131336884                   0.0                   0.0  \n",
       "-9199575329909162940                   0.0                   0.0  \n",
       "-9196668942822132778                   0.0                   0.0  \n",
       "\n",
       "[5 rows x 2944 columns]"
      ]
     },
     "execution_count": 80,
     "metadata": {},
     "output_type": "execute_result"
    }
   ],
   "source": [
    "data_matrix.head()"
   ]
  },
  {
   "cell_type": "code",
   "execution_count": 81,
   "id": "33cf7047",
   "metadata": {},
   "outputs": [
    {
     "data": {
      "text/plain": [
       "(1846, 2944)"
      ]
     },
     "execution_count": 81,
     "metadata": {},
     "output_type": "execute_result"
    }
   ],
   "source": [
    "data_matrix.shape"
   ]
  },
  {
   "cell_type": "markdown",
   "id": "bcac04d4",
   "metadata": {},
   "source": [
    "### Creating user*article Test matrix with rating values"
   ]
  },
  {
   "cell_type": "code",
   "execution_count": 82,
   "id": "5aae2e3e",
   "metadata": {},
   "outputs": [],
   "source": [
    "data_matrix_test = test.pivot_table(\n",
    "    index='consumer_id',\n",
    "    columns='item_id',\n",
    "    values='ratings', aggfunc='mean').fillna(0)"
   ]
  },
  {
   "cell_type": "code",
   "execution_count": 83,
   "id": "4ff55e4f",
   "metadata": {},
   "outputs": [
    {
     "data": {
      "text/plain": [
       "(1445, 2491)"
      ]
     },
     "execution_count": 83,
     "metadata": {},
     "output_type": "execute_result"
    }
   ],
   "source": [
    "data_matrix_test.shape"
   ]
  },
  {
   "cell_type": "markdown",
   "id": "6fb4a23c",
   "metadata": {},
   "source": [
    "### Creating user*article full matrix with rating values"
   ]
  },
  {
   "cell_type": "code",
   "execution_count": 84,
   "id": "3e221485",
   "metadata": {},
   "outputs": [],
   "source": [
    "data_matrix_full = ratings_df.pivot_table(\n",
    "    index='consumer_id',\n",
    "    columns='item_id',\n",
    "    values='ratings', aggfunc='mean').fillna(0)"
   ]
  },
  {
   "cell_type": "code",
   "execution_count": 85,
   "id": "0f928bef",
   "metadata": {},
   "outputs": [
    {
     "data": {
      "text/plain": [
       "(1895, 2987)"
      ]
     },
     "execution_count": 85,
     "metadata": {},
     "output_type": "execute_result"
    }
   ],
   "source": [
    "data_matrix_full.shape"
   ]
  },
  {
   "cell_type": "code",
   "execution_count": 86,
   "id": "1a48b2df",
   "metadata": {},
   "outputs": [
    {
     "data": {
      "text/html": [
       "<div>\n",
       "<style scoped>\n",
       "    .dataframe tbody tr th:only-of-type {\n",
       "        vertical-align: middle;\n",
       "    }\n",
       "\n",
       "    .dataframe tbody tr th {\n",
       "        vertical-align: top;\n",
       "    }\n",
       "\n",
       "    .dataframe thead th {\n",
       "        text-align: right;\n",
       "    }\n",
       "</style>\n",
       "<table border=\"1\" class=\"dataframe\">\n",
       "  <thead>\n",
       "    <tr style=\"text-align: right;\">\n",
       "      <th>item_id</th>\n",
       "      <th>-9222795471790223670</th>\n",
       "      <th>-9216926795620865886</th>\n",
       "      <th>-9194572880052200111</th>\n",
       "      <th>-9192549002213406534</th>\n",
       "      <th>-9190737901804729417</th>\n",
       "      <th>-9189659052158407108</th>\n",
       "      <th>-9184137057748005562</th>\n",
       "      <th>-9176143510534135851</th>\n",
       "      <th>-9172673334835262304</th>\n",
       "      <th>-9171475473795142532</th>\n",
       "      <th>...</th>\n",
       "      <th>9191014301634017491</th>\n",
       "      <th>9207286802575546269</th>\n",
       "      <th>9208127165664287660</th>\n",
       "      <th>9209629151177723638</th>\n",
       "      <th>9209886322932807692</th>\n",
       "      <th>9213260650272029784</th>\n",
       "      <th>9215261273565326920</th>\n",
       "      <th>9217155070834564627</th>\n",
       "      <th>9220445660318725468</th>\n",
       "      <th>9222265156747237864</th>\n",
       "    </tr>\n",
       "    <tr>\n",
       "      <th>consumer_id</th>\n",
       "      <th></th>\n",
       "      <th></th>\n",
       "      <th></th>\n",
       "      <th></th>\n",
       "      <th></th>\n",
       "      <th></th>\n",
       "      <th></th>\n",
       "      <th></th>\n",
       "      <th></th>\n",
       "      <th></th>\n",
       "      <th></th>\n",
       "      <th></th>\n",
       "      <th></th>\n",
       "      <th></th>\n",
       "      <th></th>\n",
       "      <th></th>\n",
       "      <th></th>\n",
       "      <th></th>\n",
       "      <th></th>\n",
       "      <th></th>\n",
       "      <th></th>\n",
       "    </tr>\n",
       "  </thead>\n",
       "  <tbody>\n",
       "    <tr>\n",
       "      <th>-9223121837663643404</th>\n",
       "      <td>0.0</td>\n",
       "      <td>0.0</td>\n",
       "      <td>0.0</td>\n",
       "      <td>0.0</td>\n",
       "      <td>0.0</td>\n",
       "      <td>0.0</td>\n",
       "      <td>0.0</td>\n",
       "      <td>0.0</td>\n",
       "      <td>0.0</td>\n",
       "      <td>0.0</td>\n",
       "      <td>...</td>\n",
       "      <td>0.0</td>\n",
       "      <td>0.0</td>\n",
       "      <td>0.0</td>\n",
       "      <td>0.0</td>\n",
       "      <td>0.0</td>\n",
       "      <td>0.0</td>\n",
       "      <td>0.0</td>\n",
       "      <td>0.0</td>\n",
       "      <td>0.0</td>\n",
       "      <td>0.0</td>\n",
       "    </tr>\n",
       "    <tr>\n",
       "      <th>-9212075797126931087</th>\n",
       "      <td>0.0</td>\n",
       "      <td>0.0</td>\n",
       "      <td>0.0</td>\n",
       "      <td>0.0</td>\n",
       "      <td>0.0</td>\n",
       "      <td>0.0</td>\n",
       "      <td>0.0</td>\n",
       "      <td>0.0</td>\n",
       "      <td>0.0</td>\n",
       "      <td>0.0</td>\n",
       "      <td>...</td>\n",
       "      <td>0.0</td>\n",
       "      <td>0.0</td>\n",
       "      <td>0.0</td>\n",
       "      <td>0.0</td>\n",
       "      <td>0.0</td>\n",
       "      <td>0.0</td>\n",
       "      <td>0.0</td>\n",
       "      <td>0.0</td>\n",
       "      <td>0.0</td>\n",
       "      <td>0.0</td>\n",
       "    </tr>\n",
       "    <tr>\n",
       "      <th>-9207251133131336884</th>\n",
       "      <td>0.0</td>\n",
       "      <td>1.5</td>\n",
       "      <td>0.0</td>\n",
       "      <td>0.0</td>\n",
       "      <td>0.0</td>\n",
       "      <td>0.0</td>\n",
       "      <td>0.0</td>\n",
       "      <td>0.0</td>\n",
       "      <td>0.0</td>\n",
       "      <td>0.0</td>\n",
       "      <td>...</td>\n",
       "      <td>0.0</td>\n",
       "      <td>0.0</td>\n",
       "      <td>0.0</td>\n",
       "      <td>0.0</td>\n",
       "      <td>0.0</td>\n",
       "      <td>0.0</td>\n",
       "      <td>0.0</td>\n",
       "      <td>0.0</td>\n",
       "      <td>0.0</td>\n",
       "      <td>0.0</td>\n",
       "    </tr>\n",
       "    <tr>\n",
       "      <th>-9199575329909162940</th>\n",
       "      <td>0.0</td>\n",
       "      <td>0.0</td>\n",
       "      <td>0.0</td>\n",
       "      <td>0.0</td>\n",
       "      <td>0.0</td>\n",
       "      <td>0.0</td>\n",
       "      <td>0.0</td>\n",
       "      <td>0.0</td>\n",
       "      <td>0.0</td>\n",
       "      <td>0.0</td>\n",
       "      <td>...</td>\n",
       "      <td>0.0</td>\n",
       "      <td>0.0</td>\n",
       "      <td>0.0</td>\n",
       "      <td>0.0</td>\n",
       "      <td>0.0</td>\n",
       "      <td>0.0</td>\n",
       "      <td>0.0</td>\n",
       "      <td>0.0</td>\n",
       "      <td>0.0</td>\n",
       "      <td>0.0</td>\n",
       "    </tr>\n",
       "    <tr>\n",
       "      <th>-9196668942822132778</th>\n",
       "      <td>0.0</td>\n",
       "      <td>0.0</td>\n",
       "      <td>0.0</td>\n",
       "      <td>0.0</td>\n",
       "      <td>0.0</td>\n",
       "      <td>0.0</td>\n",
       "      <td>0.0</td>\n",
       "      <td>0.0</td>\n",
       "      <td>0.0</td>\n",
       "      <td>0.0</td>\n",
       "      <td>...</td>\n",
       "      <td>0.0</td>\n",
       "      <td>0.0</td>\n",
       "      <td>0.0</td>\n",
       "      <td>0.0</td>\n",
       "      <td>0.0</td>\n",
       "      <td>0.0</td>\n",
       "      <td>0.0</td>\n",
       "      <td>0.0</td>\n",
       "      <td>0.0</td>\n",
       "      <td>0.0</td>\n",
       "    </tr>\n",
       "  </tbody>\n",
       "</table>\n",
       "<p>5 rows × 2987 columns</p>\n",
       "</div>"
      ],
      "text/plain": [
       "item_id               -9222795471790223670  -9216926795620865886  \\\n",
       "consumer_id                                                        \n",
       "-9223121837663643404                   0.0                   0.0   \n",
       "-9212075797126931087                   0.0                   0.0   \n",
       "-9207251133131336884                   0.0                   1.5   \n",
       "-9199575329909162940                   0.0                   0.0   \n",
       "-9196668942822132778                   0.0                   0.0   \n",
       "\n",
       "item_id               -9194572880052200111  -9192549002213406534  \\\n",
       "consumer_id                                                        \n",
       "-9223121837663643404                   0.0                   0.0   \n",
       "-9212075797126931087                   0.0                   0.0   \n",
       "-9207251133131336884                   0.0                   0.0   \n",
       "-9199575329909162940                   0.0                   0.0   \n",
       "-9196668942822132778                   0.0                   0.0   \n",
       "\n",
       "item_id               -9190737901804729417  -9189659052158407108  \\\n",
       "consumer_id                                                        \n",
       "-9223121837663643404                   0.0                   0.0   \n",
       "-9212075797126931087                   0.0                   0.0   \n",
       "-9207251133131336884                   0.0                   0.0   \n",
       "-9199575329909162940                   0.0                   0.0   \n",
       "-9196668942822132778                   0.0                   0.0   \n",
       "\n",
       "item_id               -9184137057748005562  -9176143510534135851  \\\n",
       "consumer_id                                                        \n",
       "-9223121837663643404                   0.0                   0.0   \n",
       "-9212075797126931087                   0.0                   0.0   \n",
       "-9207251133131336884                   0.0                   0.0   \n",
       "-9199575329909162940                   0.0                   0.0   \n",
       "-9196668942822132778                   0.0                   0.0   \n",
       "\n",
       "item_id               -9172673334835262304  -9171475473795142532  ...  \\\n",
       "consumer_id                                                       ...   \n",
       "-9223121837663643404                   0.0                   0.0  ...   \n",
       "-9212075797126931087                   0.0                   0.0  ...   \n",
       "-9207251133131336884                   0.0                   0.0  ...   \n",
       "-9199575329909162940                   0.0                   0.0  ...   \n",
       "-9196668942822132778                   0.0                   0.0  ...   \n",
       "\n",
       "item_id                9191014301634017491   9207286802575546269  \\\n",
       "consumer_id                                                        \n",
       "-9223121837663643404                   0.0                   0.0   \n",
       "-9212075797126931087                   0.0                   0.0   \n",
       "-9207251133131336884                   0.0                   0.0   \n",
       "-9199575329909162940                   0.0                   0.0   \n",
       "-9196668942822132778                   0.0                   0.0   \n",
       "\n",
       "item_id                9208127165664287660   9209629151177723638  \\\n",
       "consumer_id                                                        \n",
       "-9223121837663643404                   0.0                   0.0   \n",
       "-9212075797126931087                   0.0                   0.0   \n",
       "-9207251133131336884                   0.0                   0.0   \n",
       "-9199575329909162940                   0.0                   0.0   \n",
       "-9196668942822132778                   0.0                   0.0   \n",
       "\n",
       "item_id                9209886322932807692   9213260650272029784  \\\n",
       "consumer_id                                                        \n",
       "-9223121837663643404                   0.0                   0.0   \n",
       "-9212075797126931087                   0.0                   0.0   \n",
       "-9207251133131336884                   0.0                   0.0   \n",
       "-9199575329909162940                   0.0                   0.0   \n",
       "-9196668942822132778                   0.0                   0.0   \n",
       "\n",
       "item_id                9215261273565326920   9217155070834564627  \\\n",
       "consumer_id                                                        \n",
       "-9223121837663643404                   0.0                   0.0   \n",
       "-9212075797126931087                   0.0                   0.0   \n",
       "-9207251133131336884                   0.0                   0.0   \n",
       "-9199575329909162940                   0.0                   0.0   \n",
       "-9196668942822132778                   0.0                   0.0   \n",
       "\n",
       "item_id                9220445660318725468   9222265156747237864  \n",
       "consumer_id                                                       \n",
       "-9223121837663643404                   0.0                   0.0  \n",
       "-9212075797126931087                   0.0                   0.0  \n",
       "-9207251133131336884                   0.0                   0.0  \n",
       "-9199575329909162940                   0.0                   0.0  \n",
       "-9196668942822132778                   0.0                   0.0  \n",
       "\n",
       "[5 rows x 2987 columns]"
      ]
     },
     "execution_count": 86,
     "metadata": {},
     "output_type": "execute_result"
    }
   ],
   "source": [
    "data_matrix_full.head()"
   ]
  },
  {
   "cell_type": "markdown",
   "id": "d35f16b0",
   "metadata": {},
   "source": [
    "## User based filtering"
   ]
  },
  {
   "cell_type": "markdown",
   "id": "ed97518d",
   "metadata": {},
   "source": [
    "### Pairwise Distance"
   ]
  },
  {
   "cell_type": "code",
   "execution_count": 87,
   "id": "dcf4bac9",
   "metadata": {},
   "outputs": [],
   "source": [
    "# importing relevent package from sklearn to calculate pairwise distance\n",
    "from sklearn.metrics.pairwise import pairwise_distances "
   ]
  },
  {
   "cell_type": "code",
   "execution_count": 88,
   "id": "038e3cbf",
   "metadata": {},
   "outputs": [],
   "source": [
    "user_similarity = 1- pairwise_distances(data_matrix, metric='cosine')"
   ]
  },
  {
   "cell_type": "code",
   "execution_count": 89,
   "id": "a88d198d",
   "metadata": {},
   "outputs": [
    {
     "data": {
      "text/plain": [
       "array([[1.        , 0.        , 0.        , ..., 0.        , 0.04671418,\n",
       "        0.02935113],\n",
       "       [0.        , 1.        , 0.15226378, ..., 0.        , 0.        ,\n",
       "        0.        ],\n",
       "       [0.        , 0.15226378, 1.        , ..., 0.27864803, 0.17595989,\n",
       "        0.        ],\n",
       "       ...,\n",
       "       [0.        , 0.        , 0.27864803, ..., 1.        , 0.08701035,\n",
       "        0.        ],\n",
       "       [0.04671418, 0.        , 0.17595989, ..., 0.08701035, 1.        ,\n",
       "        0.        ],\n",
       "       [0.02935113, 0.        , 0.        , ..., 0.        , 0.        ,\n",
       "        1.        ]])"
      ]
     },
     "execution_count": 89,
     "metadata": {},
     "output_type": "execute_result"
    }
   ],
   "source": [
    "user_similarity"
   ]
  },
  {
   "cell_type": "code",
   "execution_count": 90,
   "id": "38c2b8dc",
   "metadata": {},
   "outputs": [
    {
     "data": {
      "text/plain": [
       "(1846, 1846)"
      ]
     },
     "execution_count": 90,
     "metadata": {},
     "output_type": "execute_result"
    }
   ],
   "source": [
    "user_similarity.shape"
   ]
  },
  {
   "cell_type": "code",
   "execution_count": 91,
   "id": "fcb2fb08",
   "metadata": {},
   "outputs": [],
   "source": [
    "#Get similar recommended articles for a user_id\n",
    "item_prediction = np.dot(user_similarity, data_matrix)"
   ]
  },
  {
   "cell_type": "code",
   "execution_count": 92,
   "id": "fdc82ba4",
   "metadata": {},
   "outputs": [
    {
     "data": {
      "text/plain": [
       "array([[0.690344  , 0.47667181, 0.49386656, ..., 0.45295296, 0.955164  ,\n",
       "        0.15387906],\n",
       "       [0.04484225, 1.60225011, 0.03924877, ..., 0.05114988, 0.45580575,\n",
       "        0.08673937],\n",
       "       [0.08006159, 4.00619943, 0.41458854, ..., 0.10845297, 0.68625952,\n",
       "        0.08912569],\n",
       "       ...,\n",
       "       [0.04134812, 0.52165472, 0.49509347, ..., 0.09833712, 0.43341653,\n",
       "        0.06556695],\n",
       "       [0.3283663 , 0.71132135, 0.69706292, ..., 0.22545299, 0.7034035 ,\n",
       "        0.06643182],\n",
       "       [0.11880123, 0.17652085, 1.37603858, ..., 0.12601026, 1.02583553,\n",
       "        0.0788087 ]])"
      ]
     },
     "execution_count": 92,
     "metadata": {},
     "output_type": "execute_result"
    }
   ],
   "source": [
    "item_prediction"
   ]
  },
  {
   "cell_type": "code",
   "execution_count": 93,
   "id": "8bb20c3f",
   "metadata": {},
   "outputs": [
    {
     "data": {
      "text/plain": [
       "(1846, 2944)"
      ]
     },
     "execution_count": 93,
     "metadata": {},
     "output_type": "execute_result"
    }
   ],
   "source": [
    "item_prediction.shape"
   ]
  },
  {
   "cell_type": "code",
   "execution_count": 94,
   "id": "74677b55",
   "metadata": {},
   "outputs": [],
   "source": [
    "# creating a dataframe with item prediction matrix \n",
    "prediction_df = pd.DataFrame(item_prediction, index = data_matrix.index, columns=data_matrix.columns)"
   ]
  },
  {
   "cell_type": "code",
   "execution_count": 95,
   "id": "77bb4176",
   "metadata": {},
   "outputs": [
    {
     "data": {
      "text/html": [
       "<div>\n",
       "<style scoped>\n",
       "    .dataframe tbody tr th:only-of-type {\n",
       "        vertical-align: middle;\n",
       "    }\n",
       "\n",
       "    .dataframe tbody tr th {\n",
       "        vertical-align: top;\n",
       "    }\n",
       "\n",
       "    .dataframe thead th {\n",
       "        text-align: right;\n",
       "    }\n",
       "</style>\n",
       "<table border=\"1\" class=\"dataframe\">\n",
       "  <thead>\n",
       "    <tr style=\"text-align: right;\">\n",
       "      <th>item_id</th>\n",
       "      <th>-9222795471790223670</th>\n",
       "      <th>-9216926795620865886</th>\n",
       "      <th>-9194572880052200111</th>\n",
       "      <th>-9192549002213406534</th>\n",
       "      <th>-9190737901804729417</th>\n",
       "      <th>-9189659052158407108</th>\n",
       "      <th>-9184137057748005562</th>\n",
       "      <th>-9176143510534135851</th>\n",
       "      <th>-9172673334835262304</th>\n",
       "      <th>-9171475473795142532</th>\n",
       "      <th>...</th>\n",
       "      <th>9191014301634017491</th>\n",
       "      <th>9207286802575546269</th>\n",
       "      <th>9208127165664287660</th>\n",
       "      <th>9209629151177723638</th>\n",
       "      <th>9209886322932807692</th>\n",
       "      <th>9213260650272029784</th>\n",
       "      <th>9215261273565326920</th>\n",
       "      <th>9217155070834564627</th>\n",
       "      <th>9220445660318725468</th>\n",
       "      <th>9222265156747237864</th>\n",
       "    </tr>\n",
       "    <tr>\n",
       "      <th>consumer_id</th>\n",
       "      <th></th>\n",
       "      <th></th>\n",
       "      <th></th>\n",
       "      <th></th>\n",
       "      <th></th>\n",
       "      <th></th>\n",
       "      <th></th>\n",
       "      <th></th>\n",
       "      <th></th>\n",
       "      <th></th>\n",
       "      <th></th>\n",
       "      <th></th>\n",
       "      <th></th>\n",
       "      <th></th>\n",
       "      <th></th>\n",
       "      <th></th>\n",
       "      <th></th>\n",
       "      <th></th>\n",
       "      <th></th>\n",
       "      <th></th>\n",
       "      <th></th>\n",
       "    </tr>\n",
       "  </thead>\n",
       "  <tbody>\n",
       "    <tr>\n",
       "      <th>-9223121837663643404</th>\n",
       "      <td>0.690344</td>\n",
       "      <td>0.476672</td>\n",
       "      <td>0.493867</td>\n",
       "      <td>2.068414</td>\n",
       "      <td>0.156701</td>\n",
       "      <td>0.964376</td>\n",
       "      <td>0.031607</td>\n",
       "      <td>0.945829</td>\n",
       "      <td>0.060500</td>\n",
       "      <td>0.320193</td>\n",
       "      <td>...</td>\n",
       "      <td>0.550698</td>\n",
       "      <td>0.607846</td>\n",
       "      <td>0.455457</td>\n",
       "      <td>0.346190</td>\n",
       "      <td>0.536709</td>\n",
       "      <td>0.097755</td>\n",
       "      <td>0.821612</td>\n",
       "      <td>0.452953</td>\n",
       "      <td>0.955164</td>\n",
       "      <td>0.153879</td>\n",
       "    </tr>\n",
       "    <tr>\n",
       "      <th>-9212075797126931087</th>\n",
       "      <td>0.044842</td>\n",
       "      <td>1.602250</td>\n",
       "      <td>0.039249</td>\n",
       "      <td>0.348751</td>\n",
       "      <td>0.000000</td>\n",
       "      <td>0.620155</td>\n",
       "      <td>0.000000</td>\n",
       "      <td>0.375171</td>\n",
       "      <td>0.064998</td>\n",
       "      <td>0.000000</td>\n",
       "      <td>...</td>\n",
       "      <td>0.000000</td>\n",
       "      <td>0.102284</td>\n",
       "      <td>0.031975</td>\n",
       "      <td>0.020383</td>\n",
       "      <td>0.138197</td>\n",
       "      <td>0.027312</td>\n",
       "      <td>0.162704</td>\n",
       "      <td>0.051150</td>\n",
       "      <td>0.455806</td>\n",
       "      <td>0.086739</td>\n",
       "    </tr>\n",
       "    <tr>\n",
       "      <th>-9207251133131336884</th>\n",
       "      <td>0.080062</td>\n",
       "      <td>4.006199</td>\n",
       "      <td>0.414589</td>\n",
       "      <td>1.067204</td>\n",
       "      <td>0.054767</td>\n",
       "      <td>0.839171</td>\n",
       "      <td>0.000000</td>\n",
       "      <td>0.757267</td>\n",
       "      <td>0.019533</td>\n",
       "      <td>0.121881</td>\n",
       "      <td>...</td>\n",
       "      <td>0.396488</td>\n",
       "      <td>0.270071</td>\n",
       "      <td>0.096343</td>\n",
       "      <td>0.038576</td>\n",
       "      <td>0.231120</td>\n",
       "      <td>0.285860</td>\n",
       "      <td>0.393552</td>\n",
       "      <td>0.108453</td>\n",
       "      <td>0.686260</td>\n",
       "      <td>0.089126</td>\n",
       "    </tr>\n",
       "    <tr>\n",
       "      <th>-9199575329909162940</th>\n",
       "      <td>0.299551</td>\n",
       "      <td>0.056609</td>\n",
       "      <td>0.045482</td>\n",
       "      <td>0.159132</td>\n",
       "      <td>0.103207</td>\n",
       "      <td>0.182045</td>\n",
       "      <td>0.000000</td>\n",
       "      <td>0.532483</td>\n",
       "      <td>0.000000</td>\n",
       "      <td>0.069293</td>\n",
       "      <td>...</td>\n",
       "      <td>0.175889</td>\n",
       "      <td>0.274874</td>\n",
       "      <td>0.086991</td>\n",
       "      <td>0.164768</td>\n",
       "      <td>0.081493</td>\n",
       "      <td>0.042655</td>\n",
       "      <td>0.147610</td>\n",
       "      <td>0.136191</td>\n",
       "      <td>0.154358</td>\n",
       "      <td>0.028330</td>\n",
       "    </tr>\n",
       "    <tr>\n",
       "      <th>-9196668942822132778</th>\n",
       "      <td>0.036337</td>\n",
       "      <td>0.000000</td>\n",
       "      <td>0.865647</td>\n",
       "      <td>1.059323</td>\n",
       "      <td>0.036337</td>\n",
       "      <td>0.527295</td>\n",
       "      <td>0.030644</td>\n",
       "      <td>0.150874</td>\n",
       "      <td>0.020949</td>\n",
       "      <td>0.030350</td>\n",
       "      <td>...</td>\n",
       "      <td>0.033894</td>\n",
       "      <td>0.065113</td>\n",
       "      <td>0.058742</td>\n",
       "      <td>0.036337</td>\n",
       "      <td>0.439148</td>\n",
       "      <td>0.058926</td>\n",
       "      <td>0.181856</td>\n",
       "      <td>0.031598</td>\n",
       "      <td>0.313504</td>\n",
       "      <td>0.030786</td>\n",
       "    </tr>\n",
       "  </tbody>\n",
       "</table>\n",
       "<p>5 rows × 2944 columns</p>\n",
       "</div>"
      ],
      "text/plain": [
       "item_id               -9222795471790223670  -9216926795620865886  \\\n",
       "consumer_id                                                        \n",
       "-9223121837663643404              0.690344              0.476672   \n",
       "-9212075797126931087              0.044842              1.602250   \n",
       "-9207251133131336884              0.080062              4.006199   \n",
       "-9199575329909162940              0.299551              0.056609   \n",
       "-9196668942822132778              0.036337              0.000000   \n",
       "\n",
       "item_id               -9194572880052200111  -9192549002213406534  \\\n",
       "consumer_id                                                        \n",
       "-9223121837663643404              0.493867              2.068414   \n",
       "-9212075797126931087              0.039249              0.348751   \n",
       "-9207251133131336884              0.414589              1.067204   \n",
       "-9199575329909162940              0.045482              0.159132   \n",
       "-9196668942822132778              0.865647              1.059323   \n",
       "\n",
       "item_id               -9190737901804729417  -9189659052158407108  \\\n",
       "consumer_id                                                        \n",
       "-9223121837663643404              0.156701              0.964376   \n",
       "-9212075797126931087              0.000000              0.620155   \n",
       "-9207251133131336884              0.054767              0.839171   \n",
       "-9199575329909162940              0.103207              0.182045   \n",
       "-9196668942822132778              0.036337              0.527295   \n",
       "\n",
       "item_id               -9184137057748005562  -9176143510534135851  \\\n",
       "consumer_id                                                        \n",
       "-9223121837663643404              0.031607              0.945829   \n",
       "-9212075797126931087              0.000000              0.375171   \n",
       "-9207251133131336884              0.000000              0.757267   \n",
       "-9199575329909162940              0.000000              0.532483   \n",
       "-9196668942822132778              0.030644              0.150874   \n",
       "\n",
       "item_id               -9172673334835262304  -9171475473795142532  ...  \\\n",
       "consumer_id                                                       ...   \n",
       "-9223121837663643404              0.060500              0.320193  ...   \n",
       "-9212075797126931087              0.064998              0.000000  ...   \n",
       "-9207251133131336884              0.019533              0.121881  ...   \n",
       "-9199575329909162940              0.000000              0.069293  ...   \n",
       "-9196668942822132778              0.020949              0.030350  ...   \n",
       "\n",
       "item_id                9191014301634017491   9207286802575546269  \\\n",
       "consumer_id                                                        \n",
       "-9223121837663643404              0.550698              0.607846   \n",
       "-9212075797126931087              0.000000              0.102284   \n",
       "-9207251133131336884              0.396488              0.270071   \n",
       "-9199575329909162940              0.175889              0.274874   \n",
       "-9196668942822132778              0.033894              0.065113   \n",
       "\n",
       "item_id                9208127165664287660   9209629151177723638  \\\n",
       "consumer_id                                                        \n",
       "-9223121837663643404              0.455457              0.346190   \n",
       "-9212075797126931087              0.031975              0.020383   \n",
       "-9207251133131336884              0.096343              0.038576   \n",
       "-9199575329909162940              0.086991              0.164768   \n",
       "-9196668942822132778              0.058742              0.036337   \n",
       "\n",
       "item_id                9209886322932807692   9213260650272029784  \\\n",
       "consumer_id                                                        \n",
       "-9223121837663643404              0.536709              0.097755   \n",
       "-9212075797126931087              0.138197              0.027312   \n",
       "-9207251133131336884              0.231120              0.285860   \n",
       "-9199575329909162940              0.081493              0.042655   \n",
       "-9196668942822132778              0.439148              0.058926   \n",
       "\n",
       "item_id                9215261273565326920   9217155070834564627  \\\n",
       "consumer_id                                                        \n",
       "-9223121837663643404              0.821612              0.452953   \n",
       "-9212075797126931087              0.162704              0.051150   \n",
       "-9207251133131336884              0.393552              0.108453   \n",
       "-9199575329909162940              0.147610              0.136191   \n",
       "-9196668942822132778              0.181856              0.031598   \n",
       "\n",
       "item_id                9220445660318725468   9222265156747237864  \n",
       "consumer_id                                                       \n",
       "-9223121837663643404              0.955164              0.153879  \n",
       "-9212075797126931087              0.455806              0.086739  \n",
       "-9207251133131336884              0.686260              0.089126  \n",
       "-9199575329909162940              0.154358              0.028330  \n",
       "-9196668942822132778              0.313504              0.030786  \n",
       "\n",
       "[5 rows x 2944 columns]"
      ]
     },
     "execution_count": 95,
     "metadata": {},
     "output_type": "execute_result"
    }
   ],
   "source": [
    "prediction_df.head()"
   ]
  },
  {
   "cell_type": "code",
   "execution_count": 96,
   "id": "e401ad6e",
   "metadata": {},
   "outputs": [
    {
     "data": {
      "text/plain": [
       "(1846, 2944)"
      ]
     },
     "execution_count": 96,
     "metadata": {},
     "output_type": "execute_result"
    }
   ],
   "source": [
    "prediction_df.shape"
   ]
  },
  {
   "cell_type": "code",
   "execution_count": 97,
   "id": "0a42cbff",
   "metadata": {},
   "outputs": [
    {
     "data": {
      "text/plain": [
       "item_id\n",
       "-9222795471790223670    0.265510\n",
       "-9216926795620865886    0.189426\n",
       "-9194572880052200111    0.923195\n",
       "-9192549002213406534    2.614002\n",
       "-9190737901804729417    0.080680\n",
       "                          ...   \n",
       " 9213260650272029784    0.131529\n",
       " 9215261273565326920    0.603779\n",
       " 9217155070834564627    0.217352\n",
       " 9220445660318725468    1.302544\n",
       " 9222265156747237864    0.145500\n",
       "Name: -8830250090736356260, Length: 2944, dtype: float64"
      ]
     },
     "execution_count": 97,
     "metadata": {},
     "output_type": "execute_result"
    }
   ],
   "source": [
    "# making prediction for user located at index 33 of the dataframe(any random user)\n",
    "prediction_df.iloc[33]"
   ]
  },
  {
   "cell_type": "code",
   "execution_count": 98,
   "id": "cfd461ff",
   "metadata": {},
   "outputs": [
    {
     "data": {
      "text/plain": [
       "item_id\n",
       "-6843047699859121724    14.648443\n",
       "-8208801367848627943    10.762224\n",
       "-4333957157636611418    10.448007\n",
       " 8901449108040307914     8.795220\n",
       " 9175693555063886126     8.316572\n",
       "-3191013159715472435     7.966767\n",
       "-8954346068661072425     7.423551\n",
       " 1992928170409443117     7.421259\n",
       " 5854206600849997966     7.341173\n",
       " 6989198691754522425     7.215084\n",
       "Name: -8830250090736356260, dtype: float64"
      ]
     },
     "execution_count": 98,
     "metadata": {},
     "output_type": "execute_result"
    }
   ],
   "source": [
    "# sorting values with highest distance at first giving most similar article for that user\n",
    "prediction_df.iloc[33].sort_values(ascending=False)[:10]"
   ]
  },
  {
   "cell_type": "code",
   "execution_count": 99,
   "id": "e6957131",
   "metadata": {},
   "outputs": [],
   "source": [
    "# creating a dataframe for storing results for the particular user\n",
    "recommended_articles_df = pd.DataFrame(prediction_df.iloc[33].sort_values(ascending=False))"
   ]
  },
  {
   "cell_type": "code",
   "execution_count": 100,
   "id": "7a4387a2",
   "metadata": {},
   "outputs": [
    {
     "data": {
      "text/html": [
       "<div>\n",
       "<style scoped>\n",
       "    .dataframe tbody tr th:only-of-type {\n",
       "        vertical-align: middle;\n",
       "    }\n",
       "\n",
       "    .dataframe tbody tr th {\n",
       "        vertical-align: top;\n",
       "    }\n",
       "\n",
       "    .dataframe thead th {\n",
       "        text-align: right;\n",
       "    }\n",
       "</style>\n",
       "<table border=\"1\" class=\"dataframe\">\n",
       "  <thead>\n",
       "    <tr style=\"text-align: right;\">\n",
       "      <th></th>\n",
       "      <th>-8830250090736356260</th>\n",
       "    </tr>\n",
       "    <tr>\n",
       "      <th>item_id</th>\n",
       "      <th></th>\n",
       "    </tr>\n",
       "  </thead>\n",
       "  <tbody>\n",
       "    <tr>\n",
       "      <th>-6843047699859121724</th>\n",
       "      <td>14.648443</td>\n",
       "    </tr>\n",
       "    <tr>\n",
       "      <th>-8208801367848627943</th>\n",
       "      <td>10.762224</td>\n",
       "    </tr>\n",
       "    <tr>\n",
       "      <th>-4333957157636611418</th>\n",
       "      <td>10.448007</td>\n",
       "    </tr>\n",
       "    <tr>\n",
       "      <th>8901449108040307914</th>\n",
       "      <td>8.795220</td>\n",
       "    </tr>\n",
       "    <tr>\n",
       "      <th>9175693555063886126</th>\n",
       "      <td>8.316572</td>\n",
       "    </tr>\n",
       "  </tbody>\n",
       "</table>\n",
       "</div>"
      ],
      "text/plain": [
       "                      -8830250090736356260\n",
       "item_id                                   \n",
       "-6843047699859121724             14.648443\n",
       "-8208801367848627943             10.762224\n",
       "-4333957157636611418             10.448007\n",
       " 8901449108040307914              8.795220\n",
       " 9175693555063886126              8.316572"
      ]
     },
     "execution_count": 100,
     "metadata": {},
     "output_type": "execute_result"
    }
   ],
   "source": [
    "recommended_articles_df.head()"
   ]
  },
  {
   "cell_type": "code",
   "execution_count": 101,
   "id": "dfb28f7e",
   "metadata": {},
   "outputs": [],
   "source": [
    "# resetting the index\n",
    "recommended_articles_df.reset_index(inplace=True)"
   ]
  },
  {
   "cell_type": "code",
   "execution_count": 102,
   "id": "d020cecf",
   "metadata": {},
   "outputs": [
    {
     "data": {
      "text/html": [
       "<div>\n",
       "<style scoped>\n",
       "    .dataframe tbody tr th:only-of-type {\n",
       "        vertical-align: middle;\n",
       "    }\n",
       "\n",
       "    .dataframe tbody tr th {\n",
       "        vertical-align: top;\n",
       "    }\n",
       "\n",
       "    .dataframe thead th {\n",
       "        text-align: right;\n",
       "    }\n",
       "</style>\n",
       "<table border=\"1\" class=\"dataframe\">\n",
       "  <thead>\n",
       "    <tr style=\"text-align: right;\">\n",
       "      <th></th>\n",
       "      <th>item_id</th>\n",
       "      <th>-8830250090736356260</th>\n",
       "    </tr>\n",
       "  </thead>\n",
       "  <tbody>\n",
       "    <tr>\n",
       "      <th>0</th>\n",
       "      <td>-6843047699859121724</td>\n",
       "      <td>14.648443</td>\n",
       "    </tr>\n",
       "    <tr>\n",
       "      <th>1</th>\n",
       "      <td>-8208801367848627943</td>\n",
       "      <td>10.762224</td>\n",
       "    </tr>\n",
       "    <tr>\n",
       "      <th>2</th>\n",
       "      <td>-4333957157636611418</td>\n",
       "      <td>10.448007</td>\n",
       "    </tr>\n",
       "    <tr>\n",
       "      <th>3</th>\n",
       "      <td>8901449108040307914</td>\n",
       "      <td>8.795220</td>\n",
       "    </tr>\n",
       "    <tr>\n",
       "      <th>4</th>\n",
       "      <td>9175693555063886126</td>\n",
       "      <td>8.316572</td>\n",
       "    </tr>\n",
       "  </tbody>\n",
       "</table>\n",
       "</div>"
      ],
      "text/plain": [
       "               item_id  -8830250090736356260\n",
       "0 -6843047699859121724             14.648443\n",
       "1 -8208801367848627943             10.762224\n",
       "2 -4333957157636611418             10.448007\n",
       "3  8901449108040307914              8.795220\n",
       "4  9175693555063886126              8.316572"
      ]
     },
     "execution_count": 102,
     "metadata": {},
     "output_type": "execute_result"
    }
   ],
   "source": [
    "recommended_articles_df.head()"
   ]
  },
  {
   "cell_type": "code",
   "execution_count": 103,
   "id": "a1ddea81",
   "metadata": {},
   "outputs": [],
   "source": [
    "# renaminig the columns\n",
    "recommended_articles_df.columns = ['item_id', 'score']"
   ]
  },
  {
   "cell_type": "code",
   "execution_count": 104,
   "id": "af22929e",
   "metadata": {},
   "outputs": [
    {
     "data": {
      "text/html": [
       "<div>\n",
       "<style scoped>\n",
       "    .dataframe tbody tr th:only-of-type {\n",
       "        vertical-align: middle;\n",
       "    }\n",
       "\n",
       "    .dataframe tbody tr th {\n",
       "        vertical-align: top;\n",
       "    }\n",
       "\n",
       "    .dataframe thead th {\n",
       "        text-align: right;\n",
       "    }\n",
       "</style>\n",
       "<table border=\"1\" class=\"dataframe\">\n",
       "  <thead>\n",
       "    <tr style=\"text-align: right;\">\n",
       "      <th></th>\n",
       "      <th>item_id</th>\n",
       "      <th>score</th>\n",
       "    </tr>\n",
       "  </thead>\n",
       "  <tbody>\n",
       "    <tr>\n",
       "      <th>0</th>\n",
       "      <td>-6843047699859121724</td>\n",
       "      <td>14.648443</td>\n",
       "    </tr>\n",
       "    <tr>\n",
       "      <th>1</th>\n",
       "      <td>-8208801367848627943</td>\n",
       "      <td>10.762224</td>\n",
       "    </tr>\n",
       "    <tr>\n",
       "      <th>2</th>\n",
       "      <td>-4333957157636611418</td>\n",
       "      <td>10.448007</td>\n",
       "    </tr>\n",
       "    <tr>\n",
       "      <th>3</th>\n",
       "      <td>8901449108040307914</td>\n",
       "      <td>8.795220</td>\n",
       "    </tr>\n",
       "    <tr>\n",
       "      <th>4</th>\n",
       "      <td>9175693555063886126</td>\n",
       "      <td>8.316572</td>\n",
       "    </tr>\n",
       "  </tbody>\n",
       "</table>\n",
       "</div>"
      ],
      "text/plain": [
       "               item_id      score\n",
       "0 -6843047699859121724  14.648443\n",
       "1 -8208801367848627943  10.762224\n",
       "2 -4333957157636611418  10.448007\n",
       "3  8901449108040307914   8.795220\n",
       "4  9175693555063886126   8.316572"
      ]
     },
     "execution_count": 104,
     "metadata": {},
     "output_type": "execute_result"
    }
   ],
   "source": [
    "recommended_articles_df.head()"
   ]
  },
  {
   "cell_type": "code",
   "execution_count": 105,
   "id": "de761db0",
   "metadata": {},
   "outputs": [],
   "source": [
    "#Merge item_id with article title\n",
    "merged_user = pd.merge(recommended_articles_df, news_df, on='item_id', how='left')"
   ]
  },
  {
   "cell_type": "code",
   "execution_count": 106,
   "id": "308d7caa",
   "metadata": {},
   "outputs": [
    {
     "data": {
      "text/html": [
       "<div>\n",
       "<style scoped>\n",
       "    .dataframe tbody tr th:only-of-type {\n",
       "        vertical-align: middle;\n",
       "    }\n",
       "\n",
       "    .dataframe tbody tr th {\n",
       "        vertical-align: top;\n",
       "    }\n",
       "\n",
       "    .dataframe thead th {\n",
       "        text-align: right;\n",
       "    }\n",
       "</style>\n",
       "<table border=\"1\" class=\"dataframe\">\n",
       "  <thead>\n",
       "    <tr style=\"text-align: right;\">\n",
       "      <th></th>\n",
       "      <th>item_id</th>\n",
       "      <th>score</th>\n",
       "      <th>title</th>\n",
       "    </tr>\n",
       "  </thead>\n",
       "  <tbody>\n",
       "    <tr>\n",
       "      <th>0</th>\n",
       "      <td>-6843047699859121724</td>\n",
       "      <td>14.648443</td>\n",
       "      <td>Ganhe 6 meses de acesso ao Pluralsight, maior plataforma de treinamento online</td>\n",
       "    </tr>\n",
       "    <tr>\n",
       "      <th>1</th>\n",
       "      <td>-8208801367848627943</td>\n",
       "      <td>10.762224</td>\n",
       "      <td>Ray Kurzweil: The world isn't getting worse - our information is getting better</td>\n",
       "    </tr>\n",
       "    <tr>\n",
       "      <th>2</th>\n",
       "      <td>-4333957157636611418</td>\n",
       "      <td>10.448007</td>\n",
       "      <td>Why Programmers Want Private Offices</td>\n",
       "    </tr>\n",
       "    <tr>\n",
       "      <th>3</th>\n",
       "      <td>8901449108040307914</td>\n",
       "      <td>8.795220</td>\n",
       "      <td>Monitoramento em tempo real com Elasticsearch e Kibana</td>\n",
       "    </tr>\n",
       "    <tr>\n",
       "      <th>4</th>\n",
       "      <td>9175693555063886126</td>\n",
       "      <td>8.316572</td>\n",
       "      <td>15 minutos sobre Docker</td>\n",
       "    </tr>\n",
       "  </tbody>\n",
       "</table>\n",
       "</div>"
      ],
      "text/plain": [
       "               item_id      score  \\\n",
       "0 -6843047699859121724  14.648443   \n",
       "1 -8208801367848627943  10.762224   \n",
       "2 -4333957157636611418  10.448007   \n",
       "3  8901449108040307914   8.795220   \n",
       "4  9175693555063886126   8.316572   \n",
       "\n",
       "                                                                             title  \n",
       "0   Ganhe 6 meses de acesso ao Pluralsight, maior plataforma de treinamento online  \n",
       "1  Ray Kurzweil: The world isn't getting worse - our information is getting better  \n",
       "2                                             Why Programmers Want Private Offices  \n",
       "3                           Monitoramento em tempo real com Elasticsearch e Kibana  \n",
       "4                                                          15 minutos sobre Docker  "
      ]
     },
     "execution_count": 106,
     "metadata": {},
     "output_type": "execute_result"
    }
   ],
   "source": [
    "# printing final dataframe for the user with item_id, distance score and title\n",
    "merged_user.head()"
   ]
  },
  {
   "cell_type": "markdown",
   "id": "405d3182",
   "metadata": {},
   "source": [
    "## Item based filtering"
   ]
  },
  {
   "cell_type": "markdown",
   "id": "7c517b8d",
   "metadata": {},
   "source": [
    "### Articles pairwise similarity distance"
   ]
  },
  {
   "cell_type": "code",
   "execution_count": 107,
   "id": "689dbc30",
   "metadata": {},
   "outputs": [],
   "source": [
    "# taking transpose of the data matrix and then calculating item similarity scores\n",
    "item_similarity = 1- pairwise_distances(data_matrix.T, metric='cosine')"
   ]
  },
  {
   "cell_type": "code",
   "execution_count": 108,
   "id": "c559e7e0",
   "metadata": {},
   "outputs": [
    {
     "data": {
      "text/plain": [
       "array([[1.        , 0.        , 0.        , ..., 0.33290236, 0.        ,\n",
       "        0.        ],\n",
       "       [0.        , 1.        , 0.        , ..., 0.        , 0.        ,\n",
       "        0.        ],\n",
       "       [0.        , 0.        , 1.        , ..., 0.        , 0.05705015,\n",
       "        0.        ],\n",
       "       ...,\n",
       "       [0.33290236, 0.        , 0.        , ..., 1.        , 0.0696304 ,\n",
       "        0.        ],\n",
       "       [0.        , 0.        , 0.05705015, ..., 0.0696304 , 1.        ,\n",
       "        0.        ],\n",
       "       [0.        , 0.        , 0.        , ..., 0.        , 0.        ,\n",
       "        1.        ]])"
      ]
     },
     "execution_count": 108,
     "metadata": {},
     "output_type": "execute_result"
    }
   ],
   "source": [
    "item_similarity"
   ]
  },
  {
   "cell_type": "code",
   "execution_count": 109,
   "id": "7b4e3761",
   "metadata": {},
   "outputs": [
    {
     "data": {
      "text/plain": [
       "(2944, 2944)"
      ]
     },
     "execution_count": 109,
     "metadata": {},
     "output_type": "execute_result"
    }
   ],
   "source": [
    "item_similarity.shape"
   ]
  },
  {
   "cell_type": "code",
   "execution_count": 110,
   "id": "aa745ac5",
   "metadata": {},
   "outputs": [],
   "source": [
    "# creating the dataframe\n",
    "item_prediction_2 = pd.DataFrame(item_similarity, index = data_matrix.columns, columns=data_matrix.columns)"
   ]
  },
  {
   "cell_type": "code",
   "execution_count": 111,
   "id": "88ca37de",
   "metadata": {},
   "outputs": [
    {
     "data": {
      "text/html": [
       "<div>\n",
       "<style scoped>\n",
       "    .dataframe tbody tr th:only-of-type {\n",
       "        vertical-align: middle;\n",
       "    }\n",
       "\n",
       "    .dataframe tbody tr th {\n",
       "        vertical-align: top;\n",
       "    }\n",
       "\n",
       "    .dataframe thead th {\n",
       "        text-align: right;\n",
       "    }\n",
       "</style>\n",
       "<table border=\"1\" class=\"dataframe\">\n",
       "  <thead>\n",
       "    <tr style=\"text-align: right;\">\n",
       "      <th>item_id</th>\n",
       "      <th>-9222795471790223670</th>\n",
       "      <th>-9216926795620865886</th>\n",
       "      <th>-9194572880052200111</th>\n",
       "      <th>-9192549002213406534</th>\n",
       "      <th>-9190737901804729417</th>\n",
       "      <th>-9189659052158407108</th>\n",
       "      <th>-9184137057748005562</th>\n",
       "      <th>-9176143510534135851</th>\n",
       "      <th>-9172673334835262304</th>\n",
       "      <th>-9171475473795142532</th>\n",
       "      <th>...</th>\n",
       "      <th>9191014301634017491</th>\n",
       "      <th>9207286802575546269</th>\n",
       "      <th>9208127165664287660</th>\n",
       "      <th>9209629151177723638</th>\n",
       "      <th>9209886322932807692</th>\n",
       "      <th>9213260650272029784</th>\n",
       "      <th>9215261273565326920</th>\n",
       "      <th>9217155070834564627</th>\n",
       "      <th>9220445660318725468</th>\n",
       "      <th>9222265156747237864</th>\n",
       "    </tr>\n",
       "    <tr>\n",
       "      <th>item_id</th>\n",
       "      <th></th>\n",
       "      <th></th>\n",
       "      <th></th>\n",
       "      <th></th>\n",
       "      <th></th>\n",
       "      <th></th>\n",
       "      <th></th>\n",
       "      <th></th>\n",
       "      <th></th>\n",
       "      <th></th>\n",
       "      <th></th>\n",
       "      <th></th>\n",
       "      <th></th>\n",
       "      <th></th>\n",
       "      <th></th>\n",
       "      <th></th>\n",
       "      <th></th>\n",
       "      <th></th>\n",
       "      <th></th>\n",
       "      <th></th>\n",
       "      <th></th>\n",
       "    </tr>\n",
       "  </thead>\n",
       "  <tbody>\n",
       "    <tr>\n",
       "      <th>-9222795471790223670</th>\n",
       "      <td>1.000000</td>\n",
       "      <td>0.0</td>\n",
       "      <td>0.000000</td>\n",
       "      <td>0.116120</td>\n",
       "      <td>0.143933</td>\n",
       "      <td>0.000000</td>\n",
       "      <td>0.0</td>\n",
       "      <td>0.324715</td>\n",
       "      <td>0.000000</td>\n",
       "      <td>0.000000</td>\n",
       "      <td>...</td>\n",
       "      <td>0.256527</td>\n",
       "      <td>0.273621</td>\n",
       "      <td>0.000000</td>\n",
       "      <td>0.648180</td>\n",
       "      <td>0.000000</td>\n",
       "      <td>0.000000</td>\n",
       "      <td>0.000000</td>\n",
       "      <td>0.332902</td>\n",
       "      <td>0.000000</td>\n",
       "      <td>0.0</td>\n",
       "    </tr>\n",
       "    <tr>\n",
       "      <th>-9216926795620865886</th>\n",
       "      <td>0.000000</td>\n",
       "      <td>1.0</td>\n",
       "      <td>0.000000</td>\n",
       "      <td>0.000000</td>\n",
       "      <td>0.000000</td>\n",
       "      <td>0.040170</td>\n",
       "      <td>0.0</td>\n",
       "      <td>0.000000</td>\n",
       "      <td>0.000000</td>\n",
       "      <td>0.000000</td>\n",
       "      <td>...</td>\n",
       "      <td>0.000000</td>\n",
       "      <td>0.000000</td>\n",
       "      <td>0.000000</td>\n",
       "      <td>0.000000</td>\n",
       "      <td>0.000000</td>\n",
       "      <td>0.000000</td>\n",
       "      <td>0.000000</td>\n",
       "      <td>0.000000</td>\n",
       "      <td>0.000000</td>\n",
       "      <td>0.0</td>\n",
       "    </tr>\n",
       "    <tr>\n",
       "      <th>-9194572880052200111</th>\n",
       "      <td>0.000000</td>\n",
       "      <td>0.0</td>\n",
       "      <td>1.000000</td>\n",
       "      <td>0.102506</td>\n",
       "      <td>0.000000</td>\n",
       "      <td>0.092775</td>\n",
       "      <td>0.0</td>\n",
       "      <td>0.000000</td>\n",
       "      <td>0.000000</td>\n",
       "      <td>0.000000</td>\n",
       "      <td>...</td>\n",
       "      <td>0.000000</td>\n",
       "      <td>0.000000</td>\n",
       "      <td>0.000000</td>\n",
       "      <td>0.000000</td>\n",
       "      <td>0.136726</td>\n",
       "      <td>0.077344</td>\n",
       "      <td>0.068422</td>\n",
       "      <td>0.000000</td>\n",
       "      <td>0.057050</td>\n",
       "      <td>0.0</td>\n",
       "    </tr>\n",
       "    <tr>\n",
       "      <th>-9192549002213406534</th>\n",
       "      <td>0.116120</td>\n",
       "      <td>0.0</td>\n",
       "      <td>0.102506</td>\n",
       "      <td>1.000000</td>\n",
       "      <td>0.000000</td>\n",
       "      <td>0.119808</td>\n",
       "      <td>0.0</td>\n",
       "      <td>0.099376</td>\n",
       "      <td>0.141147</td>\n",
       "      <td>0.122237</td>\n",
       "      <td>...</td>\n",
       "      <td>0.000000</td>\n",
       "      <td>0.144746</td>\n",
       "      <td>0.063123</td>\n",
       "      <td>0.105860</td>\n",
       "      <td>0.258056</td>\n",
       "      <td>0.057623</td>\n",
       "      <td>0.067968</td>\n",
       "      <td>0.177466</td>\n",
       "      <td>0.141679</td>\n",
       "      <td>0.0</td>\n",
       "    </tr>\n",
       "    <tr>\n",
       "      <th>-9190737901804729417</th>\n",
       "      <td>0.143933</td>\n",
       "      <td>0.0</td>\n",
       "      <td>0.000000</td>\n",
       "      <td>0.000000</td>\n",
       "      <td>1.000000</td>\n",
       "      <td>0.000000</td>\n",
       "      <td>0.0</td>\n",
       "      <td>0.000000</td>\n",
       "      <td>0.000000</td>\n",
       "      <td>0.000000</td>\n",
       "      <td>...</td>\n",
       "      <td>0.000000</td>\n",
       "      <td>0.160019</td>\n",
       "      <td>0.000000</td>\n",
       "      <td>0.288675</td>\n",
       "      <td>0.000000</td>\n",
       "      <td>0.000000</td>\n",
       "      <td>0.000000</td>\n",
       "      <td>0.000000</td>\n",
       "      <td>0.000000</td>\n",
       "      <td>0.0</td>\n",
       "    </tr>\n",
       "  </tbody>\n",
       "</table>\n",
       "<p>5 rows × 2944 columns</p>\n",
       "</div>"
      ],
      "text/plain": [
       "item_id               -9222795471790223670  -9216926795620865886  \\\n",
       "item_id                                                            \n",
       "-9222795471790223670              1.000000                   0.0   \n",
       "-9216926795620865886              0.000000                   1.0   \n",
       "-9194572880052200111              0.000000                   0.0   \n",
       "-9192549002213406534              0.116120                   0.0   \n",
       "-9190737901804729417              0.143933                   0.0   \n",
       "\n",
       "item_id               -9194572880052200111  -9192549002213406534  \\\n",
       "item_id                                                            \n",
       "-9222795471790223670              0.000000              0.116120   \n",
       "-9216926795620865886              0.000000              0.000000   \n",
       "-9194572880052200111              1.000000              0.102506   \n",
       "-9192549002213406534              0.102506              1.000000   \n",
       "-9190737901804729417              0.000000              0.000000   \n",
       "\n",
       "item_id               -9190737901804729417  -9189659052158407108  \\\n",
       "item_id                                                            \n",
       "-9222795471790223670              0.143933              0.000000   \n",
       "-9216926795620865886              0.000000              0.040170   \n",
       "-9194572880052200111              0.000000              0.092775   \n",
       "-9192549002213406534              0.000000              0.119808   \n",
       "-9190737901804729417              1.000000              0.000000   \n",
       "\n",
       "item_id               -9184137057748005562  -9176143510534135851  \\\n",
       "item_id                                                            \n",
       "-9222795471790223670                   0.0              0.324715   \n",
       "-9216926795620865886                   0.0              0.000000   \n",
       "-9194572880052200111                   0.0              0.000000   \n",
       "-9192549002213406534                   0.0              0.099376   \n",
       "-9190737901804729417                   0.0              0.000000   \n",
       "\n",
       "item_id               -9172673334835262304  -9171475473795142532  ...  \\\n",
       "item_id                                                           ...   \n",
       "-9222795471790223670              0.000000              0.000000  ...   \n",
       "-9216926795620865886              0.000000              0.000000  ...   \n",
       "-9194572880052200111              0.000000              0.000000  ...   \n",
       "-9192549002213406534              0.141147              0.122237  ...   \n",
       "-9190737901804729417              0.000000              0.000000  ...   \n",
       "\n",
       "item_id                9191014301634017491   9207286802575546269  \\\n",
       "item_id                                                            \n",
       "-9222795471790223670              0.256527              0.273621   \n",
       "-9216926795620865886              0.000000              0.000000   \n",
       "-9194572880052200111              0.000000              0.000000   \n",
       "-9192549002213406534              0.000000              0.144746   \n",
       "-9190737901804729417              0.000000              0.160019   \n",
       "\n",
       "item_id                9208127165664287660   9209629151177723638  \\\n",
       "item_id                                                            \n",
       "-9222795471790223670              0.000000              0.648180   \n",
       "-9216926795620865886              0.000000              0.000000   \n",
       "-9194572880052200111              0.000000              0.000000   \n",
       "-9192549002213406534              0.063123              0.105860   \n",
       "-9190737901804729417              0.000000              0.288675   \n",
       "\n",
       "item_id                9209886322932807692   9213260650272029784  \\\n",
       "item_id                                                            \n",
       "-9222795471790223670              0.000000              0.000000   \n",
       "-9216926795620865886              0.000000              0.000000   \n",
       "-9194572880052200111              0.136726              0.077344   \n",
       "-9192549002213406534              0.258056              0.057623   \n",
       "-9190737901804729417              0.000000              0.000000   \n",
       "\n",
       "item_id                9215261273565326920   9217155070834564627  \\\n",
       "item_id                                                            \n",
       "-9222795471790223670              0.000000              0.332902   \n",
       "-9216926795620865886              0.000000              0.000000   \n",
       "-9194572880052200111              0.068422              0.000000   \n",
       "-9192549002213406534              0.067968              0.177466   \n",
       "-9190737901804729417              0.000000              0.000000   \n",
       "\n",
       "item_id                9220445660318725468   9222265156747237864  \n",
       "item_id                                                           \n",
       "-9222795471790223670              0.000000                   0.0  \n",
       "-9216926795620865886              0.000000                   0.0  \n",
       "-9194572880052200111              0.057050                   0.0  \n",
       "-9192549002213406534              0.141679                   0.0  \n",
       "-9190737901804729417              0.000000                   0.0  \n",
       "\n",
       "[5 rows x 2944 columns]"
      ]
     },
     "execution_count": 111,
     "metadata": {},
     "output_type": "execute_result"
    }
   ],
   "source": [
    "item_prediction_2.head()"
   ]
  },
  {
   "cell_type": "code",
   "execution_count": 112,
   "id": "04645c3d",
   "metadata": {},
   "outputs": [
    {
     "data": {
      "text/plain": [
       "item_id\n",
       "-9222795471790223670    0.000000\n",
       "-9216926795620865886    0.000000\n",
       "-9194572880052200111    0.000000\n",
       "-9192549002213406534    0.188689\n",
       "-9190737901804729417    0.000000\n",
       "                          ...   \n",
       " 9213260650272029784    0.000000\n",
       " 9215261273565326920    0.000000\n",
       " 9217155070834564627    0.000000\n",
       " 9220445660318725468    0.000000\n",
       " 9222265156747237864    0.000000\n",
       "Name: -8728075196312712282, Length: 2944, dtype: float64"
      ]
     },
     "execution_count": 112,
     "metadata": {},
     "output_type": "execute_result"
    }
   ],
   "source": [
    "# getting recommendations for item at index 100 of the dataframe(random article)\n",
    "item_prediction_2.iloc[100]"
   ]
  },
  {
   "cell_type": "code",
   "execution_count": 113,
   "id": "dc74eb5c",
   "metadata": {},
   "outputs": [],
   "source": [
    "# sorting articles depending on the highest score\n",
    "item_recommendation = pd.DataFrame(item_prediction_2.iloc[100].sort_values(ascending=False))"
   ]
  },
  {
   "cell_type": "code",
   "execution_count": 114,
   "id": "c61508d5",
   "metadata": {},
   "outputs": [
    {
     "data": {
      "text/html": [
       "<div>\n",
       "<style scoped>\n",
       "    .dataframe tbody tr th:only-of-type {\n",
       "        vertical-align: middle;\n",
       "    }\n",
       "\n",
       "    .dataframe tbody tr th {\n",
       "        vertical-align: top;\n",
       "    }\n",
       "\n",
       "    .dataframe thead th {\n",
       "        text-align: right;\n",
       "    }\n",
       "</style>\n",
       "<table border=\"1\" class=\"dataframe\">\n",
       "  <thead>\n",
       "    <tr style=\"text-align: right;\">\n",
       "      <th></th>\n",
       "      <th>-8728075196312712282</th>\n",
       "    </tr>\n",
       "    <tr>\n",
       "      <th>item_id</th>\n",
       "      <th></th>\n",
       "    </tr>\n",
       "  </thead>\n",
       "  <tbody>\n",
       "    <tr>\n",
       "      <th>-8728075196312712282</th>\n",
       "      <td>1.000000</td>\n",
       "    </tr>\n",
       "    <tr>\n",
       "      <th>-273156842634169039</th>\n",
       "      <td>0.642705</td>\n",
       "    </tr>\n",
       "    <tr>\n",
       "      <th>4235212484048164433</th>\n",
       "      <td>0.642705</td>\n",
       "    </tr>\n",
       "    <tr>\n",
       "      <th>3742318026370211556</th>\n",
       "      <td>0.642705</td>\n",
       "    </tr>\n",
       "    <tr>\n",
       "      <th>5322532051893153382</th>\n",
       "      <td>0.642705</td>\n",
       "    </tr>\n",
       "  </tbody>\n",
       "</table>\n",
       "</div>"
      ],
      "text/plain": [
       "                      -8728075196312712282\n",
       "item_id                                   \n",
       "-8728075196312712282              1.000000\n",
       "-273156842634169039               0.642705\n",
       " 4235212484048164433              0.642705\n",
       " 3742318026370211556              0.642705\n",
       " 5322532051893153382              0.642705"
      ]
     },
     "execution_count": 114,
     "metadata": {},
     "output_type": "execute_result"
    }
   ],
   "source": [
    "item_recommendation.head()"
   ]
  },
  {
   "cell_type": "code",
   "execution_count": 115,
   "id": "29d4f9d4",
   "metadata": {},
   "outputs": [],
   "source": [
    "# resetting the index\n",
    "item_recommendation.reset_index(inplace=True)"
   ]
  },
  {
   "cell_type": "code",
   "execution_count": 116,
   "id": "e91cc92a",
   "metadata": {},
   "outputs": [
    {
     "data": {
      "text/html": [
       "<div>\n",
       "<style scoped>\n",
       "    .dataframe tbody tr th:only-of-type {\n",
       "        vertical-align: middle;\n",
       "    }\n",
       "\n",
       "    .dataframe tbody tr th {\n",
       "        vertical-align: top;\n",
       "    }\n",
       "\n",
       "    .dataframe thead th {\n",
       "        text-align: right;\n",
       "    }\n",
       "</style>\n",
       "<table border=\"1\" class=\"dataframe\">\n",
       "  <thead>\n",
       "    <tr style=\"text-align: right;\">\n",
       "      <th></th>\n",
       "      <th>item_id</th>\n",
       "      <th>-8728075196312712282</th>\n",
       "    </tr>\n",
       "  </thead>\n",
       "  <tbody>\n",
       "    <tr>\n",
       "      <th>0</th>\n",
       "      <td>-8728075196312712282</td>\n",
       "      <td>1.000000</td>\n",
       "    </tr>\n",
       "    <tr>\n",
       "      <th>1</th>\n",
       "      <td>-273156842634169039</td>\n",
       "      <td>0.642705</td>\n",
       "    </tr>\n",
       "    <tr>\n",
       "      <th>2</th>\n",
       "      <td>4235212484048164433</td>\n",
       "      <td>0.642705</td>\n",
       "    </tr>\n",
       "    <tr>\n",
       "      <th>3</th>\n",
       "      <td>3742318026370211556</td>\n",
       "      <td>0.642705</td>\n",
       "    </tr>\n",
       "    <tr>\n",
       "      <th>4</th>\n",
       "      <td>5322532051893153382</td>\n",
       "      <td>0.642705</td>\n",
       "    </tr>\n",
       "  </tbody>\n",
       "</table>\n",
       "</div>"
      ],
      "text/plain": [
       "               item_id  -8728075196312712282\n",
       "0 -8728075196312712282              1.000000\n",
       "1  -273156842634169039              0.642705\n",
       "2  4235212484048164433              0.642705\n",
       "3  3742318026370211556              0.642705\n",
       "4  5322532051893153382              0.642705"
      ]
     },
     "execution_count": 116,
     "metadata": {},
     "output_type": "execute_result"
    }
   ],
   "source": [
    "item_recommendation.head()"
   ]
  },
  {
   "cell_type": "code",
   "execution_count": 117,
   "id": "a73aef41",
   "metadata": {},
   "outputs": [],
   "source": [
    "# renamining the columns\n",
    "item_recommendation.columns = ['item_id', 'score']"
   ]
  },
  {
   "cell_type": "code",
   "execution_count": 118,
   "id": "4ba5a81c",
   "metadata": {},
   "outputs": [
    {
     "data": {
      "text/html": [
       "<div>\n",
       "<style scoped>\n",
       "    .dataframe tbody tr th:only-of-type {\n",
       "        vertical-align: middle;\n",
       "    }\n",
       "\n",
       "    .dataframe tbody tr th {\n",
       "        vertical-align: top;\n",
       "    }\n",
       "\n",
       "    .dataframe thead th {\n",
       "        text-align: right;\n",
       "    }\n",
       "</style>\n",
       "<table border=\"1\" class=\"dataframe\">\n",
       "  <thead>\n",
       "    <tr style=\"text-align: right;\">\n",
       "      <th></th>\n",
       "      <th>item_id</th>\n",
       "      <th>score</th>\n",
       "    </tr>\n",
       "  </thead>\n",
       "  <tbody>\n",
       "    <tr>\n",
       "      <th>0</th>\n",
       "      <td>-8728075196312712282</td>\n",
       "      <td>1.000000</td>\n",
       "    </tr>\n",
       "    <tr>\n",
       "      <th>1</th>\n",
       "      <td>-273156842634169039</td>\n",
       "      <td>0.642705</td>\n",
       "    </tr>\n",
       "    <tr>\n",
       "      <th>2</th>\n",
       "      <td>4235212484048164433</td>\n",
       "      <td>0.642705</td>\n",
       "    </tr>\n",
       "    <tr>\n",
       "      <th>3</th>\n",
       "      <td>3742318026370211556</td>\n",
       "      <td>0.642705</td>\n",
       "    </tr>\n",
       "    <tr>\n",
       "      <th>4</th>\n",
       "      <td>5322532051893153382</td>\n",
       "      <td>0.642705</td>\n",
       "    </tr>\n",
       "  </tbody>\n",
       "</table>\n",
       "</div>"
      ],
      "text/plain": [
       "               item_id     score\n",
       "0 -8728075196312712282  1.000000\n",
       "1  -273156842634169039  0.642705\n",
       "2  4235212484048164433  0.642705\n",
       "3  3742318026370211556  0.642705\n",
       "4  5322532051893153382  0.642705"
      ]
     },
     "execution_count": 118,
     "metadata": {},
     "output_type": "execute_result"
    }
   ],
   "source": [
    "item_recommendation.head()"
   ]
  },
  {
   "cell_type": "code",
   "execution_count": 119,
   "id": "561d6c8e",
   "metadata": {},
   "outputs": [],
   "source": [
    "merged_item = pd.merge(item_recommendation, news_df, on='item_id', how='left')"
   ]
  },
  {
   "cell_type": "code",
   "execution_count": 120,
   "id": "2df603e4",
   "metadata": {},
   "outputs": [
    {
     "data": {
      "text/html": [
       "<div>\n",
       "<style scoped>\n",
       "    .dataframe tbody tr th:only-of-type {\n",
       "        vertical-align: middle;\n",
       "    }\n",
       "\n",
       "    .dataframe tbody tr th {\n",
       "        vertical-align: top;\n",
       "    }\n",
       "\n",
       "    .dataframe thead th {\n",
       "        text-align: right;\n",
       "    }\n",
       "</style>\n",
       "<table border=\"1\" class=\"dataframe\">\n",
       "  <thead>\n",
       "    <tr style=\"text-align: right;\">\n",
       "      <th></th>\n",
       "      <th>item_id</th>\n",
       "      <th>score</th>\n",
       "      <th>title</th>\n",
       "    </tr>\n",
       "  </thead>\n",
       "  <tbody>\n",
       "    <tr>\n",
       "      <th>0</th>\n",
       "      <td>-8728075196312712282</td>\n",
       "      <td>1.000000</td>\n",
       "      <td>Soylent's new drink will replace your breakfast and morning coffee</td>\n",
       "    </tr>\n",
       "    <tr>\n",
       "      <th>1</th>\n",
       "      <td>-273156842634169039</td>\n",
       "      <td>0.642705</td>\n",
       "      <td>4K movies come to the Google Play Movies &amp; TV app</td>\n",
       "    </tr>\n",
       "    <tr>\n",
       "      <th>2</th>\n",
       "      <td>4235212484048164433</td>\n",
       "      <td>0.642705</td>\n",
       "      <td>Coca-cola traz ao Brasil sabores cereja e baunilha</td>\n",
       "    </tr>\n",
       "    <tr>\n",
       "      <th>3</th>\n",
       "      <td>3742318026370211556</td>\n",
       "      <td>0.642705</td>\n",
       "      <td>Second Gravitational Wave Detected at LIGO</td>\n",
       "    </tr>\n",
       "    <tr>\n",
       "      <th>4</th>\n",
       "      <td>5322532051893153382</td>\n",
       "      <td>0.642705</td>\n",
       "      <td>Mobile UX Design: The Right Ways to Ask Users for Permissions - UX Planet</td>\n",
       "    </tr>\n",
       "  </tbody>\n",
       "</table>\n",
       "</div>"
      ],
      "text/plain": [
       "               item_id     score  \\\n",
       "0 -8728075196312712282  1.000000   \n",
       "1  -273156842634169039  0.642705   \n",
       "2  4235212484048164433  0.642705   \n",
       "3  3742318026370211556  0.642705   \n",
       "4  5322532051893153382  0.642705   \n",
       "\n",
       "                                                                       title  \n",
       "0         Soylent's new drink will replace your breakfast and morning coffee  \n",
       "1                          4K movies come to the Google Play Movies & TV app  \n",
       "2                         Coca-cola traz ao Brasil sabores cereja e baunilha  \n",
       "3                                 Second Gravitational Wave Detected at LIGO  \n",
       "4  Mobile UX Design: The Right Ways to Ask Users for Permissions - UX Planet  "
      ]
     },
     "execution_count": 120,
     "metadata": {},
     "output_type": "execute_result"
    }
   ],
   "source": [
    "# getting most similar item recommendations\n",
    "merged_item.head()"
   ]
  },
  {
   "cell_type": "code",
   "execution_count": 121,
   "id": "221df9c8",
   "metadata": {},
   "outputs": [],
   "source": [
    "collab_output = merged_item[merged_item['title'].notna()]"
   ]
  },
  {
   "cell_type": "code",
   "execution_count": 122,
   "id": "f0e2d605",
   "metadata": {},
   "outputs": [
    {
     "data": {
      "text/plain": [
       "(3001, 3)"
      ]
     },
     "execution_count": 122,
     "metadata": {},
     "output_type": "execute_result"
    }
   ],
   "source": [
    "collab_output.shape"
   ]
  },
  {
   "cell_type": "code",
   "execution_count": 123,
   "id": "d7699d7a",
   "metadata": {},
   "outputs": [
    {
     "data": {
      "text/html": [
       "<div>\n",
       "<style scoped>\n",
       "    .dataframe tbody tr th:only-of-type {\n",
       "        vertical-align: middle;\n",
       "    }\n",
       "\n",
       "    .dataframe tbody tr th {\n",
       "        vertical-align: top;\n",
       "    }\n",
       "\n",
       "    .dataframe thead th {\n",
       "        text-align: right;\n",
       "    }\n",
       "</style>\n",
       "<table border=\"1\" class=\"dataframe\">\n",
       "  <thead>\n",
       "    <tr style=\"text-align: right;\">\n",
       "      <th></th>\n",
       "      <th>item_id</th>\n",
       "      <th>score</th>\n",
       "      <th>title</th>\n",
       "    </tr>\n",
       "  </thead>\n",
       "  <tbody>\n",
       "    <tr>\n",
       "      <th>0</th>\n",
       "      <td>-8728075196312712282</td>\n",
       "      <td>1.000000</td>\n",
       "      <td>Soylent's new drink will replace your breakfast and morning coffee</td>\n",
       "    </tr>\n",
       "    <tr>\n",
       "      <th>1</th>\n",
       "      <td>-273156842634169039</td>\n",
       "      <td>0.642705</td>\n",
       "      <td>4K movies come to the Google Play Movies &amp; TV app</td>\n",
       "    </tr>\n",
       "    <tr>\n",
       "      <th>2</th>\n",
       "      <td>4235212484048164433</td>\n",
       "      <td>0.642705</td>\n",
       "      <td>Coca-cola traz ao Brasil sabores cereja e baunilha</td>\n",
       "    </tr>\n",
       "    <tr>\n",
       "      <th>3</th>\n",
       "      <td>3742318026370211556</td>\n",
       "      <td>0.642705</td>\n",
       "      <td>Second Gravitational Wave Detected at LIGO</td>\n",
       "    </tr>\n",
       "    <tr>\n",
       "      <th>4</th>\n",
       "      <td>5322532051893153382</td>\n",
       "      <td>0.642705</td>\n",
       "      <td>Mobile UX Design: The Right Ways to Ask Users for Permissions - UX Planet</td>\n",
       "    </tr>\n",
       "  </tbody>\n",
       "</table>\n",
       "</div>"
      ],
      "text/plain": [
       "               item_id     score  \\\n",
       "0 -8728075196312712282  1.000000   \n",
       "1  -273156842634169039  0.642705   \n",
       "2  4235212484048164433  0.642705   \n",
       "3  3742318026370211556  0.642705   \n",
       "4  5322532051893153382  0.642705   \n",
       "\n",
       "                                                                       title  \n",
       "0         Soylent's new drink will replace your breakfast and morning coffee  \n",
       "1                          4K movies come to the Google Play Movies & TV app  \n",
       "2                         Coca-cola traz ao Brasil sabores cereja e baunilha  \n",
       "3                                 Second Gravitational Wave Detected at LIGO  \n",
       "4  Mobile UX Design: The Right Ways to Ask Users for Permissions - UX Planet  "
      ]
     },
     "execution_count": 123,
     "metadata": {},
     "output_type": "execute_result"
    }
   ],
   "source": [
    "collab_output.head()"
   ]
  },
  {
   "cell_type": "markdown",
   "id": "1a927189",
   "metadata": {},
   "source": [
    "### Min Max Normalization"
   ]
  },
  {
   "cell_type": "code",
   "execution_count": 124,
   "id": "eccf703e",
   "metadata": {},
   "outputs": [],
   "source": [
    "# normalizing the scores\n",
    "collab_output['collaborative_score_normalized'] = (collab_output['score']-min(collab_output['score']))/(max(collab_output['score'])-min(collab_output['score']))"
   ]
  },
  {
   "cell_type": "code",
   "execution_count": 125,
   "id": "2db2526f",
   "metadata": {},
   "outputs": [
    {
     "data": {
      "text/html": [
       "<div>\n",
       "<style scoped>\n",
       "    .dataframe tbody tr th:only-of-type {\n",
       "        vertical-align: middle;\n",
       "    }\n",
       "\n",
       "    .dataframe tbody tr th {\n",
       "        vertical-align: top;\n",
       "    }\n",
       "\n",
       "    .dataframe thead th {\n",
       "        text-align: right;\n",
       "    }\n",
       "</style>\n",
       "<table border=\"1\" class=\"dataframe\">\n",
       "  <thead>\n",
       "    <tr style=\"text-align: right;\">\n",
       "      <th></th>\n",
       "      <th>item_id</th>\n",
       "      <th>score</th>\n",
       "      <th>title</th>\n",
       "      <th>collaborative_score_normalized</th>\n",
       "    </tr>\n",
       "  </thead>\n",
       "  <tbody>\n",
       "    <tr>\n",
       "      <th>0</th>\n",
       "      <td>-8728075196312712282</td>\n",
       "      <td>1.000000</td>\n",
       "      <td>Soylent's new drink will replace your breakfast and morning coffee</td>\n",
       "      <td>1.000000</td>\n",
       "    </tr>\n",
       "    <tr>\n",
       "      <th>1</th>\n",
       "      <td>-273156842634169039</td>\n",
       "      <td>0.642705</td>\n",
       "      <td>4K movies come to the Google Play Movies &amp; TV app</td>\n",
       "      <td>0.642705</td>\n",
       "    </tr>\n",
       "    <tr>\n",
       "      <th>2</th>\n",
       "      <td>4235212484048164433</td>\n",
       "      <td>0.642705</td>\n",
       "      <td>Coca-cola traz ao Brasil sabores cereja e baunilha</td>\n",
       "      <td>0.642705</td>\n",
       "    </tr>\n",
       "    <tr>\n",
       "      <th>3</th>\n",
       "      <td>3742318026370211556</td>\n",
       "      <td>0.642705</td>\n",
       "      <td>Second Gravitational Wave Detected at LIGO</td>\n",
       "      <td>0.642705</td>\n",
       "    </tr>\n",
       "    <tr>\n",
       "      <th>4</th>\n",
       "      <td>5322532051893153382</td>\n",
       "      <td>0.642705</td>\n",
       "      <td>Mobile UX Design: The Right Ways to Ask Users for Permissions - UX Planet</td>\n",
       "      <td>0.642705</td>\n",
       "    </tr>\n",
       "  </tbody>\n",
       "</table>\n",
       "</div>"
      ],
      "text/plain": [
       "               item_id     score  \\\n",
       "0 -8728075196312712282  1.000000   \n",
       "1  -273156842634169039  0.642705   \n",
       "2  4235212484048164433  0.642705   \n",
       "3  3742318026370211556  0.642705   \n",
       "4  5322532051893153382  0.642705   \n",
       "\n",
       "                                                                       title  \\\n",
       "0         Soylent's new drink will replace your breakfast and morning coffee   \n",
       "1                          4K movies come to the Google Play Movies & TV app   \n",
       "2                         Coca-cola traz ao Brasil sabores cereja e baunilha   \n",
       "3                                 Second Gravitational Wave Detected at LIGO   \n",
       "4  Mobile UX Design: The Right Ways to Ask Users for Permissions - UX Planet   \n",
       "\n",
       "   collaborative_score_normalized  \n",
       "0                        1.000000  \n",
       "1                        0.642705  \n",
       "2                        0.642705  \n",
       "3                        0.642705  \n",
       "4                        0.642705  "
      ]
     },
     "execution_count": 125,
     "metadata": {},
     "output_type": "execute_result"
    }
   ],
   "source": [
    "collab_output.head()"
   ]
  },
  {
   "cell_type": "code",
   "execution_count": 126,
   "id": "4f3bcca6",
   "metadata": {},
   "outputs": [
    {
     "data": {
      "text/plain": [
       "0                                Soylent's new drink will replace your breakfast and morning coffee\n",
       "1                                                 4K movies come to the Google Play Movies & TV app\n",
       "2                                                Coca-cola traz ao Brasil sabores cereja e baunilha\n",
       "3                                                        Second Gravitational Wave Detected at LIGO\n",
       "4                         Mobile UX Design: The Right Ways to Ask Users for Permissions - UX Planet\n",
       "5                         Mobile UX Design: The Right Ways to Ask Users for Permissions - UX Planet\n",
       "6    DTCC and Digital Asset Holdings to Test Blockchain Solutions for the $2.6 Trillion Repo Market\n",
       "7                                                    Detecting the use of \"curl | bash\" server side\n",
       "8                 Desinformação (até do Senado) faz motoristas acenderem farol à toa - Outra Cidade\n",
       "9                          Bitit Launches to Solve Bitcoin Biggest Issues - Accessibility and Fraud\n",
       "Name: title, dtype: object"
      ]
     },
     "execution_count": 126,
     "metadata": {},
     "output_type": "execute_result"
    }
   ],
   "source": [
    "# most similar articles after normalizing the scores\n",
    "collab_output['title'][:10]"
   ]
  },
  {
   "cell_type": "markdown",
   "id": "d4d8394c",
   "metadata": {},
   "source": [
    "## Hybrid: Combine two Models"
   ]
  },
  {
   "cell_type": "code",
   "execution_count": 127,
   "id": "5a6fe98d",
   "metadata": {},
   "outputs": [],
   "source": [
    "# taking any random article for content based filtering\n",
    "content_output = news_recommendation(\"Up your app's sharing game with DirectShare - Google Developers\")"
   ]
  },
  {
   "cell_type": "code",
   "execution_count": 128,
   "id": "3d75ddce",
   "metadata": {},
   "outputs": [
    {
     "data": {
      "text/plain": [
       "Up your app's sharing game with DirectShare - Google Developers              1.000000\n",
       "5 reasons your employees aren't sharing their knowledge                      0.125351\n",
       "Sam Newman - Backends For Frontends                                          0.120694\n",
       "Bots won't replace apps. Better apps will replace apps.                      0.104206\n",
       "Android Fundamentals: IntentService Basics                                   0.103643\n",
       "Why porting an iOS design to Android will not work                           0.102141\n",
       "Mobile UX Design: The Right Ways to Ask Users for Permissions - UX Planet    0.093396\n",
       "Mobile UX Design: The Right Ways to Ask Users for Permissions - UX Planet    0.091836\n",
       "Mobile UX Design: The Right Ways to Ask Users for Permissions - UX Planet    0.091836\n",
       "Introducing Casting into Hangouts                                            0.088983\n",
       "dtype: float64"
      ]
     },
     "execution_count": 128,
     "metadata": {},
     "output_type": "execute_result"
    }
   ],
   "source": [
    "content_output[:10]"
   ]
  },
  {
   "cell_type": "code",
   "execution_count": 129,
   "id": "72a959d0",
   "metadata": {},
   "outputs": [],
   "source": [
    "# storing the result in a dataframe\n",
    "content_df = pd.DataFrame(content_output)"
   ]
  },
  {
   "cell_type": "code",
   "execution_count": 130,
   "id": "dfbe98d7",
   "metadata": {},
   "outputs": [
    {
     "data": {
      "text/html": [
       "<div>\n",
       "<style scoped>\n",
       "    .dataframe tbody tr th:only-of-type {\n",
       "        vertical-align: middle;\n",
       "    }\n",
       "\n",
       "    .dataframe tbody tr th {\n",
       "        vertical-align: top;\n",
       "    }\n",
       "\n",
       "    .dataframe thead th {\n",
       "        text-align: right;\n",
       "    }\n",
       "</style>\n",
       "<table border=\"1\" class=\"dataframe\">\n",
       "  <thead>\n",
       "    <tr style=\"text-align: right;\">\n",
       "      <th></th>\n",
       "      <th>0</th>\n",
       "    </tr>\n",
       "  </thead>\n",
       "  <tbody>\n",
       "    <tr>\n",
       "      <th>Up your app's sharing game with DirectShare - Google Developers</th>\n",
       "      <td>1.000000</td>\n",
       "    </tr>\n",
       "    <tr>\n",
       "      <th>5 reasons your employees aren't sharing their knowledge</th>\n",
       "      <td>0.125351</td>\n",
       "    </tr>\n",
       "    <tr>\n",
       "      <th>Sam Newman - Backends For Frontends</th>\n",
       "      <td>0.120694</td>\n",
       "    </tr>\n",
       "    <tr>\n",
       "      <th>Bots won't replace apps. Better apps will replace apps.</th>\n",
       "      <td>0.104206</td>\n",
       "    </tr>\n",
       "    <tr>\n",
       "      <th>Android Fundamentals: IntentService Basics</th>\n",
       "      <td>0.103643</td>\n",
       "    </tr>\n",
       "  </tbody>\n",
       "</table>\n",
       "</div>"
      ],
      "text/plain": [
       "                                                                        0\n",
       "Up your app's sharing game with DirectShare - Google Developers  1.000000\n",
       "5 reasons your employees aren't sharing their knowledge          0.125351\n",
       "Sam Newman - Backends For Frontends                              0.120694\n",
       "Bots won't replace apps. Better apps will replace apps.          0.104206\n",
       "Android Fundamentals: IntentService Basics                       0.103643"
      ]
     },
     "execution_count": 130,
     "metadata": {},
     "output_type": "execute_result"
    }
   ],
   "source": [
    "content_df.head()"
   ]
  },
  {
   "cell_type": "code",
   "execution_count": 131,
   "id": "ffb906d1",
   "metadata": {},
   "outputs": [],
   "source": [
    "# resetting the index\n",
    "content_df.reset_index(inplace=True)"
   ]
  },
  {
   "cell_type": "code",
   "execution_count": 132,
   "id": "57269b23",
   "metadata": {},
   "outputs": [],
   "source": [
    "# renaming the columns\n",
    "content_df.columns = ['title', 'score']"
   ]
  },
  {
   "cell_type": "code",
   "execution_count": 133,
   "id": "def193e6",
   "metadata": {},
   "outputs": [
    {
     "data": {
      "text/html": [
       "<div>\n",
       "<style scoped>\n",
       "    .dataframe tbody tr th:only-of-type {\n",
       "        vertical-align: middle;\n",
       "    }\n",
       "\n",
       "    .dataframe tbody tr th {\n",
       "        vertical-align: top;\n",
       "    }\n",
       "\n",
       "    .dataframe thead th {\n",
       "        text-align: right;\n",
       "    }\n",
       "</style>\n",
       "<table border=\"1\" class=\"dataframe\">\n",
       "  <thead>\n",
       "    <tr style=\"text-align: right;\">\n",
       "      <th></th>\n",
       "      <th>title</th>\n",
       "      <th>score</th>\n",
       "    </tr>\n",
       "  </thead>\n",
       "  <tbody>\n",
       "    <tr>\n",
       "      <th>0</th>\n",
       "      <td>Up your app's sharing game with DirectShare - Google Developers</td>\n",
       "      <td>1.000000</td>\n",
       "    </tr>\n",
       "    <tr>\n",
       "      <th>1</th>\n",
       "      <td>5 reasons your employees aren't sharing their knowledge</td>\n",
       "      <td>0.125351</td>\n",
       "    </tr>\n",
       "    <tr>\n",
       "      <th>2</th>\n",
       "      <td>Sam Newman - Backends For Frontends</td>\n",
       "      <td>0.120694</td>\n",
       "    </tr>\n",
       "    <tr>\n",
       "      <th>3</th>\n",
       "      <td>Bots won't replace apps. Better apps will replace apps.</td>\n",
       "      <td>0.104206</td>\n",
       "    </tr>\n",
       "    <tr>\n",
       "      <th>4</th>\n",
       "      <td>Android Fundamentals: IntentService Basics</td>\n",
       "      <td>0.103643</td>\n",
       "    </tr>\n",
       "  </tbody>\n",
       "</table>\n",
       "</div>"
      ],
      "text/plain": [
       "                                                             title     score\n",
       "0  Up your app's sharing game with DirectShare - Google Developers  1.000000\n",
       "1          5 reasons your employees aren't sharing their knowledge  0.125351\n",
       "2                              Sam Newman - Backends For Frontends  0.120694\n",
       "3          Bots won't replace apps. Better apps will replace apps.  0.104206\n",
       "4                       Android Fundamentals: IntentService Basics  0.103643"
      ]
     },
     "execution_count": 133,
     "metadata": {},
     "output_type": "execute_result"
    }
   ],
   "source": [
    "content_df.head()"
   ]
  },
  {
   "cell_type": "code",
   "execution_count": 134,
   "id": "e6593b07",
   "metadata": {},
   "outputs": [],
   "source": [
    "# normalizing the scores\n",
    "content_df['content_score_normalized'] = (content_df['score']-min(content_df['score'])) / (max(content_df['score']) - min(content_df['score']))"
   ]
  },
  {
   "cell_type": "code",
   "execution_count": 135,
   "id": "88a545b7",
   "metadata": {},
   "outputs": [
    {
     "data": {
      "text/html": [
       "<div>\n",
       "<style scoped>\n",
       "    .dataframe tbody tr th:only-of-type {\n",
       "        vertical-align: middle;\n",
       "    }\n",
       "\n",
       "    .dataframe tbody tr th {\n",
       "        vertical-align: top;\n",
       "    }\n",
       "\n",
       "    .dataframe thead th {\n",
       "        text-align: right;\n",
       "    }\n",
       "</style>\n",
       "<table border=\"1\" class=\"dataframe\">\n",
       "  <thead>\n",
       "    <tr style=\"text-align: right;\">\n",
       "      <th></th>\n",
       "      <th>title</th>\n",
       "      <th>score</th>\n",
       "      <th>content_score_normalized</th>\n",
       "    </tr>\n",
       "  </thead>\n",
       "  <tbody>\n",
       "    <tr>\n",
       "      <th>0</th>\n",
       "      <td>Up your app's sharing game with DirectShare - Google Developers</td>\n",
       "      <td>1.000000</td>\n",
       "      <td>1.000000</td>\n",
       "    </tr>\n",
       "    <tr>\n",
       "      <th>1</th>\n",
       "      <td>5 reasons your employees aren't sharing their knowledge</td>\n",
       "      <td>0.125351</td>\n",
       "      <td>0.125351</td>\n",
       "    </tr>\n",
       "    <tr>\n",
       "      <th>2</th>\n",
       "      <td>Sam Newman - Backends For Frontends</td>\n",
       "      <td>0.120694</td>\n",
       "      <td>0.120694</td>\n",
       "    </tr>\n",
       "    <tr>\n",
       "      <th>3</th>\n",
       "      <td>Bots won't replace apps. Better apps will replace apps.</td>\n",
       "      <td>0.104206</td>\n",
       "      <td>0.104206</td>\n",
       "    </tr>\n",
       "    <tr>\n",
       "      <th>4</th>\n",
       "      <td>Android Fundamentals: IntentService Basics</td>\n",
       "      <td>0.103643</td>\n",
       "      <td>0.103643</td>\n",
       "    </tr>\n",
       "  </tbody>\n",
       "</table>\n",
       "</div>"
      ],
      "text/plain": [
       "                                                             title     score  \\\n",
       "0  Up your app's sharing game with DirectShare - Google Developers  1.000000   \n",
       "1          5 reasons your employees aren't sharing their knowledge  0.125351   \n",
       "2                              Sam Newman - Backends For Frontends  0.120694   \n",
       "3          Bots won't replace apps. Better apps will replace apps.  0.104206   \n",
       "4                       Android Fundamentals: IntentService Basics  0.103643   \n",
       "\n",
       "   content_score_normalized  \n",
       "0                  1.000000  \n",
       "1                  0.125351  \n",
       "2                  0.120694  \n",
       "3                  0.104206  \n",
       "4                  0.103643  "
      ]
     },
     "execution_count": 135,
     "metadata": {},
     "output_type": "execute_result"
    }
   ],
   "source": [
    "content_df.head()"
   ]
  },
  {
   "cell_type": "code",
   "execution_count": 136,
   "id": "d31ac22e",
   "metadata": {},
   "outputs": [
    {
     "data": {
      "text/html": [
       "<div>\n",
       "<style scoped>\n",
       "    .dataframe tbody tr th:only-of-type {\n",
       "        vertical-align: middle;\n",
       "    }\n",
       "\n",
       "    .dataframe tbody tr th {\n",
       "        vertical-align: top;\n",
       "    }\n",
       "\n",
       "    .dataframe thead th {\n",
       "        text-align: right;\n",
       "    }\n",
       "</style>\n",
       "<table border=\"1\" class=\"dataframe\">\n",
       "  <thead>\n",
       "    <tr style=\"text-align: right;\">\n",
       "      <th></th>\n",
       "      <th>score</th>\n",
       "      <th>content_score_normalized</th>\n",
       "    </tr>\n",
       "  </thead>\n",
       "  <tbody>\n",
       "    <tr>\n",
       "      <th>count</th>\n",
       "      <td>3122.000000</td>\n",
       "      <td>3122.000000</td>\n",
       "    </tr>\n",
       "    <tr>\n",
       "      <th>mean</th>\n",
       "      <td>0.016737</td>\n",
       "      <td>0.016737</td>\n",
       "    </tr>\n",
       "    <tr>\n",
       "      <th>std</th>\n",
       "      <td>0.023599</td>\n",
       "      <td>0.023599</td>\n",
       "    </tr>\n",
       "    <tr>\n",
       "      <th>min</th>\n",
       "      <td>0.000000</td>\n",
       "      <td>0.000000</td>\n",
       "    </tr>\n",
       "    <tr>\n",
       "      <th>25%</th>\n",
       "      <td>0.002117</td>\n",
       "      <td>0.002117</td>\n",
       "    </tr>\n",
       "    <tr>\n",
       "      <th>50%</th>\n",
       "      <td>0.013902</td>\n",
       "      <td>0.013902</td>\n",
       "    </tr>\n",
       "    <tr>\n",
       "      <th>75%</th>\n",
       "      <td>0.024924</td>\n",
       "      <td>0.024924</td>\n",
       "    </tr>\n",
       "    <tr>\n",
       "      <th>max</th>\n",
       "      <td>1.000000</td>\n",
       "      <td>1.000000</td>\n",
       "    </tr>\n",
       "  </tbody>\n",
       "</table>\n",
       "</div>"
      ],
      "text/plain": [
       "             score  content_score_normalized\n",
       "count  3122.000000               3122.000000\n",
       "mean      0.016737                  0.016737\n",
       "std       0.023599                  0.023599\n",
       "min       0.000000                  0.000000\n",
       "25%       0.002117                  0.002117\n",
       "50%       0.013902                  0.013902\n",
       "75%       0.024924                  0.024924\n",
       "max       1.000000                  1.000000"
      ]
     },
     "execution_count": 136,
     "metadata": {},
     "output_type": "execute_result"
    }
   ],
   "source": [
    "content_df.describe()"
   ]
  },
  {
   "cell_type": "code",
   "execution_count": 137,
   "id": "eb5d94f6",
   "metadata": {},
   "outputs": [
    {
     "data": {
      "text/plain": [
       "(3122, 3)"
      ]
     },
     "execution_count": 137,
     "metadata": {},
     "output_type": "execute_result"
    }
   ],
   "source": [
    "content_df.shape"
   ]
  },
  {
   "cell_type": "markdown",
   "id": "a799398e",
   "metadata": {},
   "source": [
    "### Combining two Models- Content based and Collaborative based "
   ]
  },
  {
   "cell_type": "code",
   "execution_count": 138,
   "id": "1f3671b5",
   "metadata": {},
   "outputs": [],
   "source": [
    "# merging the collab output result and content based result on title\n",
    "hybrid_output = pd.merge(collab_output,content_df, how='left', on='title')"
   ]
  },
  {
   "cell_type": "code",
   "execution_count": 139,
   "id": "7b96ba23",
   "metadata": {},
   "outputs": [
    {
     "data": {
      "text/html": [
       "<div>\n",
       "<style scoped>\n",
       "    .dataframe tbody tr th:only-of-type {\n",
       "        vertical-align: middle;\n",
       "    }\n",
       "\n",
       "    .dataframe tbody tr th {\n",
       "        vertical-align: top;\n",
       "    }\n",
       "\n",
       "    .dataframe thead th {\n",
       "        text-align: right;\n",
       "    }\n",
       "</style>\n",
       "<table border=\"1\" class=\"dataframe\">\n",
       "  <thead>\n",
       "    <tr style=\"text-align: right;\">\n",
       "      <th></th>\n",
       "      <th>item_id</th>\n",
       "      <th>score_x</th>\n",
       "      <th>title</th>\n",
       "      <th>collaborative_score_normalized</th>\n",
       "      <th>score_y</th>\n",
       "      <th>content_score_normalized</th>\n",
       "    </tr>\n",
       "  </thead>\n",
       "  <tbody>\n",
       "    <tr>\n",
       "      <th>0</th>\n",
       "      <td>-8728075196312712282</td>\n",
       "      <td>1.000000</td>\n",
       "      <td>Soylent's new drink will replace your breakfast and morning coffee</td>\n",
       "      <td>1.000000</td>\n",
       "      <td>0.002776</td>\n",
       "      <td>0.002776</td>\n",
       "    </tr>\n",
       "    <tr>\n",
       "      <th>1</th>\n",
       "      <td>-273156842634169039</td>\n",
       "      <td>0.642705</td>\n",
       "      <td>4K movies come to the Google Play Movies &amp; TV app</td>\n",
       "      <td>0.642705</td>\n",
       "      <td>0.011771</td>\n",
       "      <td>0.011771</td>\n",
       "    </tr>\n",
       "    <tr>\n",
       "      <th>2</th>\n",
       "      <td>4235212484048164433</td>\n",
       "      <td>0.642705</td>\n",
       "      <td>Coca-cola traz ao Brasil sabores cereja e baunilha</td>\n",
       "      <td>0.642705</td>\n",
       "      <td>0.000000</td>\n",
       "      <td>0.000000</td>\n",
       "    </tr>\n",
       "    <tr>\n",
       "      <th>3</th>\n",
       "      <td>3742318026370211556</td>\n",
       "      <td>0.642705</td>\n",
       "      <td>Second Gravitational Wave Detected at LIGO</td>\n",
       "      <td>0.642705</td>\n",
       "      <td>0.002519</td>\n",
       "      <td>0.002519</td>\n",
       "    </tr>\n",
       "    <tr>\n",
       "      <th>4</th>\n",
       "      <td>5322532051893153382</td>\n",
       "      <td>0.642705</td>\n",
       "      <td>Mobile UX Design: The Right Ways to Ask Users for Permissions - UX Planet</td>\n",
       "      <td>0.642705</td>\n",
       "      <td>0.093396</td>\n",
       "      <td>0.093396</td>\n",
       "    </tr>\n",
       "  </tbody>\n",
       "</table>\n",
       "</div>"
      ],
      "text/plain": [
       "               item_id   score_x  \\\n",
       "0 -8728075196312712282  1.000000   \n",
       "1  -273156842634169039  0.642705   \n",
       "2  4235212484048164433  0.642705   \n",
       "3  3742318026370211556  0.642705   \n",
       "4  5322532051893153382  0.642705   \n",
       "\n",
       "                                                                       title  \\\n",
       "0         Soylent's new drink will replace your breakfast and morning coffee   \n",
       "1                          4K movies come to the Google Play Movies & TV app   \n",
       "2                         Coca-cola traz ao Brasil sabores cereja e baunilha   \n",
       "3                                 Second Gravitational Wave Detected at LIGO   \n",
       "4  Mobile UX Design: The Right Ways to Ask Users for Permissions - UX Planet   \n",
       "\n",
       "   collaborative_score_normalized   score_y  content_score_normalized  \n",
       "0                        1.000000  0.002776                  0.002776  \n",
       "1                        0.642705  0.011771                  0.011771  \n",
       "2                        0.642705  0.000000                  0.000000  \n",
       "3                        0.642705  0.002519                  0.002519  \n",
       "4                        0.642705  0.093396                  0.093396  "
      ]
     },
     "execution_count": 139,
     "metadata": {},
     "output_type": "execute_result"
    }
   ],
   "source": [
    "hybrid_output.head()"
   ]
  },
  {
   "cell_type": "code",
   "execution_count": 140,
   "id": "83641181",
   "metadata": {},
   "outputs": [],
   "source": [
    "# taking the average score for both collab and content based filtering and storing it in a new column\n",
    "hybrid_output['final_score'] = (hybrid_output['collaborative_score_normalized'] + hybrid_output['content_score_normalized'])/2"
   ]
  },
  {
   "cell_type": "code",
   "execution_count": 141,
   "id": "b47f8461",
   "metadata": {},
   "outputs": [
    {
     "data": {
      "text/html": [
       "<div>\n",
       "<style scoped>\n",
       "    .dataframe tbody tr th:only-of-type {\n",
       "        vertical-align: middle;\n",
       "    }\n",
       "\n",
       "    .dataframe tbody tr th {\n",
       "        vertical-align: top;\n",
       "    }\n",
       "\n",
       "    .dataframe thead th {\n",
       "        text-align: right;\n",
       "    }\n",
       "</style>\n",
       "<table border=\"1\" class=\"dataframe\">\n",
       "  <thead>\n",
       "    <tr style=\"text-align: right;\">\n",
       "      <th></th>\n",
       "      <th>item_id</th>\n",
       "      <th>score_x</th>\n",
       "      <th>title</th>\n",
       "      <th>collaborative_score_normalized</th>\n",
       "      <th>score_y</th>\n",
       "      <th>content_score_normalized</th>\n",
       "      <th>final_score</th>\n",
       "    </tr>\n",
       "  </thead>\n",
       "  <tbody>\n",
       "    <tr>\n",
       "      <th>0</th>\n",
       "      <td>-8728075196312712282</td>\n",
       "      <td>1.000000</td>\n",
       "      <td>Soylent's new drink will replace your breakfast and morning coffee</td>\n",
       "      <td>1.000000</td>\n",
       "      <td>0.002776</td>\n",
       "      <td>0.002776</td>\n",
       "      <td>0.501388</td>\n",
       "    </tr>\n",
       "    <tr>\n",
       "      <th>1</th>\n",
       "      <td>-273156842634169039</td>\n",
       "      <td>0.642705</td>\n",
       "      <td>4K movies come to the Google Play Movies &amp; TV app</td>\n",
       "      <td>0.642705</td>\n",
       "      <td>0.011771</td>\n",
       "      <td>0.011771</td>\n",
       "      <td>0.327238</td>\n",
       "    </tr>\n",
       "    <tr>\n",
       "      <th>2</th>\n",
       "      <td>4235212484048164433</td>\n",
       "      <td>0.642705</td>\n",
       "      <td>Coca-cola traz ao Brasil sabores cereja e baunilha</td>\n",
       "      <td>0.642705</td>\n",
       "      <td>0.000000</td>\n",
       "      <td>0.000000</td>\n",
       "      <td>0.321352</td>\n",
       "    </tr>\n",
       "    <tr>\n",
       "      <th>3</th>\n",
       "      <td>3742318026370211556</td>\n",
       "      <td>0.642705</td>\n",
       "      <td>Second Gravitational Wave Detected at LIGO</td>\n",
       "      <td>0.642705</td>\n",
       "      <td>0.002519</td>\n",
       "      <td>0.002519</td>\n",
       "      <td>0.322612</td>\n",
       "    </tr>\n",
       "    <tr>\n",
       "      <th>4</th>\n",
       "      <td>5322532051893153382</td>\n",
       "      <td>0.642705</td>\n",
       "      <td>Mobile UX Design: The Right Ways to Ask Users for Permissions - UX Planet</td>\n",
       "      <td>0.642705</td>\n",
       "      <td>0.093396</td>\n",
       "      <td>0.093396</td>\n",
       "      <td>0.368050</td>\n",
       "    </tr>\n",
       "  </tbody>\n",
       "</table>\n",
       "</div>"
      ],
      "text/plain": [
       "               item_id   score_x  \\\n",
       "0 -8728075196312712282  1.000000   \n",
       "1  -273156842634169039  0.642705   \n",
       "2  4235212484048164433  0.642705   \n",
       "3  3742318026370211556  0.642705   \n",
       "4  5322532051893153382  0.642705   \n",
       "\n",
       "                                                                       title  \\\n",
       "0         Soylent's new drink will replace your breakfast and morning coffee   \n",
       "1                          4K movies come to the Google Play Movies & TV app   \n",
       "2                         Coca-cola traz ao Brasil sabores cereja e baunilha   \n",
       "3                                 Second Gravitational Wave Detected at LIGO   \n",
       "4  Mobile UX Design: The Right Ways to Ask Users for Permissions - UX Planet   \n",
       "\n",
       "   collaborative_score_normalized   score_y  content_score_normalized  \\\n",
       "0                        1.000000  0.002776                  0.002776   \n",
       "1                        0.642705  0.011771                  0.011771   \n",
       "2                        0.642705  0.000000                  0.000000   \n",
       "3                        0.642705  0.002519                  0.002519   \n",
       "4                        0.642705  0.093396                  0.093396   \n",
       "\n",
       "   final_score  \n",
       "0     0.501388  \n",
       "1     0.327238  \n",
       "2     0.321352  \n",
       "3     0.322612  \n",
       "4     0.368050  "
      ]
     },
     "execution_count": 141,
     "metadata": {},
     "output_type": "execute_result"
    }
   ],
   "source": [
    "hybrid_output.head()"
   ]
  },
  {
   "cell_type": "code",
   "execution_count": 142,
   "id": "71ec0112",
   "metadata": {},
   "outputs": [],
   "source": [
    "# keeping only the relevent columns as the final output\n",
    "hybrid_output = hybrid_output[['title','final_score']]"
   ]
  },
  {
   "cell_type": "code",
   "execution_count": 143,
   "id": "7f85be69",
   "metadata": {},
   "outputs": [
    {
     "data": {
      "text/html": [
       "<div>\n",
       "<style scoped>\n",
       "    .dataframe tbody tr th:only-of-type {\n",
       "        vertical-align: middle;\n",
       "    }\n",
       "\n",
       "    .dataframe tbody tr th {\n",
       "        vertical-align: top;\n",
       "    }\n",
       "\n",
       "    .dataframe thead th {\n",
       "        text-align: right;\n",
       "    }\n",
       "</style>\n",
       "<table border=\"1\" class=\"dataframe\">\n",
       "  <thead>\n",
       "    <tr style=\"text-align: right;\">\n",
       "      <th></th>\n",
       "      <th>title</th>\n",
       "      <th>final_score</th>\n",
       "    </tr>\n",
       "  </thead>\n",
       "  <tbody>\n",
       "    <tr>\n",
       "      <th>0</th>\n",
       "      <td>Soylent's new drink will replace your breakfast and morning coffee</td>\n",
       "      <td>0.501388</td>\n",
       "    </tr>\n",
       "    <tr>\n",
       "      <th>1</th>\n",
       "      <td>4K movies come to the Google Play Movies &amp; TV app</td>\n",
       "      <td>0.327238</td>\n",
       "    </tr>\n",
       "    <tr>\n",
       "      <th>2</th>\n",
       "      <td>Coca-cola traz ao Brasil sabores cereja e baunilha</td>\n",
       "      <td>0.321352</td>\n",
       "    </tr>\n",
       "    <tr>\n",
       "      <th>3</th>\n",
       "      <td>Second Gravitational Wave Detected at LIGO</td>\n",
       "      <td>0.322612</td>\n",
       "    </tr>\n",
       "    <tr>\n",
       "      <th>4</th>\n",
       "      <td>Mobile UX Design: The Right Ways to Ask Users for Permissions - UX Planet</td>\n",
       "      <td>0.368050</td>\n",
       "    </tr>\n",
       "  </tbody>\n",
       "</table>\n",
       "</div>"
      ],
      "text/plain": [
       "                                                                       title  \\\n",
       "0         Soylent's new drink will replace your breakfast and morning coffee   \n",
       "1                          4K movies come to the Google Play Movies & TV app   \n",
       "2                         Coca-cola traz ao Brasil sabores cereja e baunilha   \n",
       "3                                 Second Gravitational Wave Detected at LIGO   \n",
       "4  Mobile UX Design: The Right Ways to Ask Users for Permissions - UX Planet   \n",
       "\n",
       "   final_score  \n",
       "0     0.501388  \n",
       "1     0.327238  \n",
       "2     0.321352  \n",
       "3     0.322612  \n",
       "4     0.368050  "
      ]
     },
     "execution_count": 143,
     "metadata": {},
     "output_type": "execute_result"
    }
   ],
   "source": [
    "hybrid_output.head()"
   ]
  },
  {
   "cell_type": "code",
   "execution_count": 144,
   "id": "989ab894",
   "metadata": {},
   "outputs": [
    {
     "data": {
      "text/html": [
       "<div>\n",
       "<style scoped>\n",
       "    .dataframe tbody tr th:only-of-type {\n",
       "        vertical-align: middle;\n",
       "    }\n",
       "\n",
       "    .dataframe tbody tr th {\n",
       "        vertical-align: top;\n",
       "    }\n",
       "\n",
       "    .dataframe thead th {\n",
       "        text-align: right;\n",
       "    }\n",
       "</style>\n",
       "<table border=\"1\" class=\"dataframe\">\n",
       "  <thead>\n",
       "    <tr style=\"text-align: right;\">\n",
       "      <th></th>\n",
       "      <th>title</th>\n",
       "      <th>final_score</th>\n",
       "    </tr>\n",
       "  </thead>\n",
       "  <tbody>\n",
       "    <tr>\n",
       "      <th>62</th>\n",
       "      <td>Up your app's sharing game with DirectShare - Google Developers</td>\n",
       "      <td>0.636182</td>\n",
       "    </tr>\n",
       "    <tr>\n",
       "      <th>0</th>\n",
       "      <td>Soylent's new drink will replace your breakfast and morning coffee</td>\n",
       "      <td>0.501388</td>\n",
       "    </tr>\n",
       "    <tr>\n",
       "      <th>4</th>\n",
       "      <td>Mobile UX Design: The Right Ways to Ask Users for Permissions - UX Planet</td>\n",
       "      <td>0.368050</td>\n",
       "    </tr>\n",
       "    <tr>\n",
       "      <th>7</th>\n",
       "      <td>Mobile UX Design: The Right Ways to Ask Users for Permissions - UX Planet</td>\n",
       "      <td>0.368050</td>\n",
       "    </tr>\n",
       "    <tr>\n",
       "      <th>5</th>\n",
       "      <td>Mobile UX Design: The Right Ways to Ask Users for Permissions - UX Planet</td>\n",
       "      <td>0.367270</td>\n",
       "    </tr>\n",
       "    <tr>\n",
       "      <th>6</th>\n",
       "      <td>Mobile UX Design: The Right Ways to Ask Users for Permissions - UX Planet</td>\n",
       "      <td>0.367270</td>\n",
       "    </tr>\n",
       "    <tr>\n",
       "      <th>8</th>\n",
       "      <td>Mobile UX Design: The Right Ways to Ask Users for Permissions - UX Planet</td>\n",
       "      <td>0.367270</td>\n",
       "    </tr>\n",
       "    <tr>\n",
       "      <th>9</th>\n",
       "      <td>Mobile UX Design: The Right Ways to Ask Users for Permissions - UX Planet</td>\n",
       "      <td>0.367270</td>\n",
       "    </tr>\n",
       "    <tr>\n",
       "      <th>11</th>\n",
       "      <td>Detecting the use of \"curl | bash\" server side</td>\n",
       "      <td>0.332551</td>\n",
       "    </tr>\n",
       "    <tr>\n",
       "      <th>1</th>\n",
       "      <td>4K movies come to the Google Play Movies &amp; TV app</td>\n",
       "      <td>0.327238</td>\n",
       "    </tr>\n",
       "  </tbody>\n",
       "</table>\n",
       "</div>"
      ],
      "text/plain": [
       "                                                                        title  \\\n",
       "62            Up your app's sharing game with DirectShare - Google Developers   \n",
       "0          Soylent's new drink will replace your breakfast and morning coffee   \n",
       "4   Mobile UX Design: The Right Ways to Ask Users for Permissions - UX Planet   \n",
       "7   Mobile UX Design: The Right Ways to Ask Users for Permissions - UX Planet   \n",
       "5   Mobile UX Design: The Right Ways to Ask Users for Permissions - UX Planet   \n",
       "6   Mobile UX Design: The Right Ways to Ask Users for Permissions - UX Planet   \n",
       "8   Mobile UX Design: The Right Ways to Ask Users for Permissions - UX Planet   \n",
       "9   Mobile UX Design: The Right Ways to Ask Users for Permissions - UX Planet   \n",
       "11                             Detecting the use of \"curl | bash\" server side   \n",
       "1                           4K movies come to the Google Play Movies & TV app   \n",
       "\n",
       "    final_score  \n",
       "62     0.636182  \n",
       "0      0.501388  \n",
       "4      0.368050  \n",
       "7      0.368050  \n",
       "5      0.367270  \n",
       "6      0.367270  \n",
       "8      0.367270  \n",
       "9      0.367270  \n",
       "11     0.332551  \n",
       "1      0.327238  "
      ]
     },
     "execution_count": 144,
     "metadata": {},
     "output_type": "execute_result"
    }
   ],
   "source": [
    "# sorting the results on the basis of highest final score giving the best recommendations so far\n",
    "hybrid_output.sort_values(by='final_score', ascending=False)[:10]"
   ]
  },
  {
   "cell_type": "code",
   "execution_count": null,
   "id": "4547b0a9",
   "metadata": {},
   "outputs": [],
   "source": []
  },
  {
   "cell_type": "markdown",
   "id": "63ba814a",
   "metadata": {},
   "source": [
    "## ALS [Alternating Least Square]\n",
    "### Building Recommendation system using ALS"
   ]
  },
  {
   "cell_type": "code",
   "execution_count": 145,
   "id": "48f1c372",
   "metadata": {},
   "outputs": [],
   "source": [
    "# importing important libraries used for ALS\n",
    "from scipy.sparse import csr_matrix\n",
    "from scipy import sparse\n",
    "from implicit.evaluation import train_test_split\n",
    "from pandas.api.types import CategoricalDtype\n",
    "import implicit"
   ]
  },
  {
   "cell_type": "code",
   "execution_count": 146,
   "id": "4cafec29",
   "metadata": {},
   "outputs": [],
   "source": [
    "# defining a constant value by which rating will be multiplied \n",
    "alpha = 40"
   ]
  },
  {
   "cell_type": "code",
   "execution_count": 147,
   "id": "873b5399",
   "metadata": {},
   "outputs": [],
   "source": [
    "# second check point for ALS Recommendations\n",
    "ratings = ratings_df.copy()"
   ]
  },
  {
   "cell_type": "code",
   "execution_count": 148,
   "id": "a9a7b56f",
   "metadata": {},
   "outputs": [
    {
     "data": {
      "text/plain": [
       "72312"
      ]
     },
     "execution_count": 148,
     "metadata": {},
     "output_type": "execute_result"
    }
   ],
   "source": [
    "ratings.shape[0]"
   ]
  },
  {
   "cell_type": "code",
   "execution_count": 149,
   "id": "0c0697c4",
   "metadata": {},
   "outputs": [],
   "source": [
    "# since the item and consumer ids are very large number, thus converting them into the respective codes\n",
    "ratings['item_codes'] = ratings['item_id'].astype(\"category\").cat.codes\n",
    "ratings['user_codes'] = ratings['consumer_id'].astype(\"category\").cat.codes"
   ]
  },
  {
   "cell_type": "code",
   "execution_count": 150,
   "id": "aaef5986",
   "metadata": {},
   "outputs": [
    {
     "data": {
      "text/html": [
       "<div>\n",
       "<style scoped>\n",
       "    .dataframe tbody tr th:only-of-type {\n",
       "        vertical-align: middle;\n",
       "    }\n",
       "\n",
       "    .dataframe tbody tr th {\n",
       "        vertical-align: top;\n",
       "    }\n",
       "\n",
       "    .dataframe thead th {\n",
       "        text-align: right;\n",
       "    }\n",
       "</style>\n",
       "<table border=\"1\" class=\"dataframe\">\n",
       "  <thead>\n",
       "    <tr style=\"text-align: right;\">\n",
       "      <th></th>\n",
       "      <th>consumer_id</th>\n",
       "      <th>item_id</th>\n",
       "      <th>ratings</th>\n",
       "      <th>item_codes</th>\n",
       "      <th>user_codes</th>\n",
       "    </tr>\n",
       "  </thead>\n",
       "  <tbody>\n",
       "    <tr>\n",
       "      <th>0</th>\n",
       "      <td>-8845298781299428018</td>\n",
       "      <td>-3499919498720038879</td>\n",
       "      <td>1</td>\n",
       "      <td>933</td>\n",
       "      <td>33</td>\n",
       "    </tr>\n",
       "    <tr>\n",
       "      <th>1</th>\n",
       "      <td>-1032019229384696495</td>\n",
       "      <td>8890720798209849691</td>\n",
       "      <td>1</td>\n",
       "      <td>2933</td>\n",
       "      <td>831</td>\n",
       "    </tr>\n",
       "    <tr>\n",
       "      <th>2</th>\n",
       "      <td>-1130272294246983140</td>\n",
       "      <td>310515487419366995</td>\n",
       "      <td>1</td>\n",
       "      <td>1537</td>\n",
       "      <td>826</td>\n",
       "    </tr>\n",
       "    <tr>\n",
       "      <th>3</th>\n",
       "      <td>344280948527967603</td>\n",
       "      <td>310515487419366995</td>\n",
       "      <td>5</td>\n",
       "      <td>1537</td>\n",
       "      <td>974</td>\n",
       "    </tr>\n",
       "    <tr>\n",
       "      <th>4</th>\n",
       "      <td>-445337111692715325</td>\n",
       "      <td>-7820640624231356730</td>\n",
       "      <td>1</td>\n",
       "      <td>246</td>\n",
       "      <td>887</td>\n",
       "    </tr>\n",
       "  </tbody>\n",
       "</table>\n",
       "</div>"
      ],
      "text/plain": [
       "           consumer_id              item_id  ratings  item_codes  user_codes\n",
       "0 -8845298781299428018 -3499919498720038879        1         933          33\n",
       "1 -1032019229384696495  8890720798209849691        1        2933         831\n",
       "2 -1130272294246983140   310515487419366995        1        1537         826\n",
       "3   344280948527967603   310515487419366995        5        1537         974\n",
       "4  -445337111692715325 -7820640624231356730        1         246         887"
      ]
     },
     "execution_count": 150,
     "metadata": {},
     "output_type": "execute_result"
    }
   ],
   "source": [
    "ratings.head()"
   ]
  },
  {
   "cell_type": "code",
   "execution_count": 151,
   "id": "4e158363",
   "metadata": {},
   "outputs": [],
   "source": [
    "# defining the dictionary which contains the ids(both consumer and item) as values and their respective codes as keys\n",
    "# These dictionaries will be used later on for mapping the codes back to original ids\n",
    "dict_items_codes = zip(ratings.item_codes,ratings.item_id)\n",
    "dict_users_codes = zip(ratings.user_codes,ratings.consumer_id)"
   ]
  },
  {
   "cell_type": "code",
   "execution_count": 152,
   "id": "81c27c01",
   "metadata": {},
   "outputs": [],
   "source": [
    "final_dict_items = dict(dict_items_codes)\n",
    "final_dict_users = dict(dict_users_codes)"
   ]
  },
  {
   "cell_type": "markdown",
   "id": "e404e086",
   "metadata": {},
   "source": [
    "### Creating User-Item sparse matrix"
   ]
  },
  {
   "cell_type": "code",
   "execution_count": 153,
   "id": "b5e52da4",
   "metadata": {},
   "outputs": [],
   "source": [
    "# creating sparse matrix which consumers less memory and easier to work with\n",
    "sparse_user_item = csr_matrix( ([alpha]*ratings.shape[0], (ratings['user_codes'], ratings['item_codes']) ))"
   ]
  },
  {
   "cell_type": "code",
   "execution_count": 154,
   "id": "4d9f4e9d",
   "metadata": {
    "scrolled": true
   },
   "outputs": [
    {
     "data": {
      "text/plain": [
       "<1895x2987 sparse matrix of type '<class 'numpy.intc'>'\n",
       "\twith 40710 stored elements in Compressed Sparse Row format>"
      ]
     },
     "execution_count": 154,
     "metadata": {},
     "output_type": "execute_result"
    }
   ],
   "source": [
    "sparse_user_item"
   ]
  },
  {
   "cell_type": "markdown",
   "id": "e101d363",
   "metadata": {},
   "source": [
    "#### shape : 1865x2987. since Total No of consumers = 1865, No of articles = 2987"
   ]
  },
  {
   "cell_type": "code",
   "execution_count": 155,
   "id": "b6d94786",
   "metadata": {},
   "outputs": [],
   "source": [
    "# converting the sparse matrix to array\n",
    "csr_user_array = sparse_user_item.toarray()"
   ]
  },
  {
   "cell_type": "code",
   "execution_count": 156,
   "id": "694addb1",
   "metadata": {},
   "outputs": [
    {
     "data": {
      "text/plain": [
       "array([[ 0,  0,  0, ...,  0,  0,  0],\n",
       "       [ 0,  0,  0, ...,  0,  0,  0],\n",
       "       [ 0, 80,  0, ...,  0,  0,  0],\n",
       "       ...,\n",
       "       [ 0,  0,  0, ...,  0,  0,  0],\n",
       "       [ 0,  0,  0, ...,  0,  0,  0],\n",
       "       [ 0,  0,  0, ...,  0,  0,  0]], dtype=int32)"
      ]
     },
     "execution_count": 156,
     "metadata": {},
     "output_type": "execute_result"
    }
   ],
   "source": [
    "csr_user_array"
   ]
  },
  {
   "cell_type": "code",
   "execution_count": 157,
   "id": "e85c9f1b",
   "metadata": {
    "scrolled": true
   },
   "outputs": [
    {
     "name": "stdout",
     "output_type": "stream",
     "text": [
      "  (0, 65)\t40\n",
      "  (0, 160)\t40\n",
      "  (0, 188)\t40\n",
      "  (0, 196)\t40\n",
      "  (0, 314)\t320\n",
      "  (0, 328)\t40\n",
      "  (0, 386)\t40\n",
      "  (0, 417)\t40\n",
      "  (0, 443)\t40\n",
      "  (0, 451)\t80\n",
      "  (0, 453)\t80\n",
      "  (0, 465)\t40\n",
      "  (0, 570)\t40\n",
      "  (0, 702)\t80\n",
      "  (0, 769)\t40\n",
      "  (0, 813)\t40\n",
      "  (0, 819)\t80\n",
      "  (0, 864)\t40\n",
      "  (0, 890)\t40\n",
      "  (0, 1087)\t80\n",
      "  (0, 1358)\t40\n",
      "  (0, 1390)\t80\n",
      "  (0, 1411)\t120\n",
      "  (0, 1618)\t40\n",
      "  (0, 1632)\t40\n",
      "  :\t:\n",
      "  (1894, 1977)\t160\n",
      "  (1894, 2023)\t40\n",
      "  (1894, 2027)\t40\n",
      "  (1894, 2071)\t640\n",
      "  (1894, 2080)\t80\n",
      "  (1894, 2190)\t40\n",
      "  (1894, 2253)\t80\n",
      "  (1894, 2334)\t40\n",
      "  (1894, 2349)\t40\n",
      "  (1894, 2451)\t40\n",
      "  (1894, 2470)\t40\n",
      "  (1894, 2538)\t80\n",
      "  (1894, 2608)\t40\n",
      "  (1894, 2676)\t80\n",
      "  (1894, 2696)\t120\n",
      "  (1894, 2719)\t40\n",
      "  (1894, 2772)\t80\n",
      "  (1894, 2809)\t40\n",
      "  (1894, 2814)\t80\n",
      "  (1894, 2845)\t40\n",
      "  (1894, 2861)\t160\n",
      "  (1894, 2867)\t40\n",
      "  (1894, 2922)\t40\n",
      "  (1894, 2925)\t40\n",
      "  (1894, 2981)\t40\n"
     ]
    }
   ],
   "source": [
    "#csr matrix only stores where value is 40 [non-zero]. (Compressed Sparse Row)\n",
    "print(sparse_user_item)"
   ]
  },
  {
   "cell_type": "code",
   "execution_count": 158,
   "id": "b7ea0f83",
   "metadata": {},
   "outputs": [
    {
     "data": {
      "text/plain": [
       "(1895, 2987, 80)"
      ]
     },
     "execution_count": 158,
     "metadata": {},
     "output_type": "execute_result"
    }
   ],
   "source": [
    "len(csr_user_array), len(csr_user_array[0]), csr_user_array[2][1]"
   ]
  },
  {
   "cell_type": "markdown",
   "id": "a96a968c",
   "metadata": {},
   "source": [
    "### Creating Item-User sparse matrix"
   ]
  },
  {
   "cell_type": "code",
   "execution_count": 159,
   "id": "3b2e6973",
   "metadata": {},
   "outputs": [],
   "source": [
    "# taking the transpose of user-item sparse matrix\n",
    "sparse_item_user = sparse_user_item.T.tocsr()"
   ]
  },
  {
   "cell_type": "code",
   "execution_count": 160,
   "id": "8ba68a79",
   "metadata": {},
   "outputs": [
    {
     "data": {
      "text/plain": [
       "<2987x1895 sparse matrix of type '<class 'numpy.intc'>'\n",
       "\twith 40710 stored elements in Compressed Sparse Row format>"
      ]
     },
     "execution_count": 160,
     "metadata": {},
     "output_type": "execute_result"
    }
   ],
   "source": [
    "sparse_item_user"
   ]
  },
  {
   "cell_type": "markdown",
   "id": "1bf81030",
   "metadata": {},
   "source": [
    "#### shape : 2987x1895. since Total No of articles = 2987, No of consumers = 1895"
   ]
  },
  {
   "cell_type": "code",
   "execution_count": 161,
   "id": "6fbb8c79",
   "metadata": {},
   "outputs": [],
   "source": [
    "# converting sparse matrix to array\n",
    "csr_item_array = sparse_item_user.toarray()"
   ]
  },
  {
   "cell_type": "code",
   "execution_count": 162,
   "id": "a000ff27",
   "metadata": {},
   "outputs": [
    {
     "data": {
      "text/plain": [
       "array([[ 0,  0,  0, ...,  0,  0,  0],\n",
       "       [ 0,  0, 80, ...,  0,  0,  0],\n",
       "       [ 0,  0,  0, ...,  0,  0,  0],\n",
       "       ...,\n",
       "       [ 0,  0,  0, ...,  0,  0,  0],\n",
       "       [ 0,  0,  0, ...,  0,  0,  0],\n",
       "       [ 0,  0,  0, ...,  0,  0,  0]], dtype=int32)"
      ]
     },
     "execution_count": 162,
     "metadata": {},
     "output_type": "execute_result"
    }
   ],
   "source": [
    "csr_item_array"
   ]
  },
  {
   "cell_type": "code",
   "execution_count": 163,
   "id": "aace897a",
   "metadata": {},
   "outputs": [
    {
     "data": {
      "text/plain": [
       "(2987, 1895, 0)"
      ]
     },
     "execution_count": 163,
     "metadata": {},
     "output_type": "execute_result"
    }
   ],
   "source": [
    "len(csr_item_array), len(csr_item_array[0]), csr_item_array[2][1]"
   ]
  },
  {
   "cell_type": "code",
   "execution_count": 164,
   "id": "03c87c0c",
   "metadata": {
    "scrolled": true
   },
   "outputs": [
    {
     "name": "stdout",
     "output_type": "stream",
     "text": [
      "  (0, 226)\t40\n",
      "  (0, 333)\t280\n",
      "  (0, 831)\t280\n",
      "  (0, 1142)\t320\n",
      "  (0, 1867)\t120\n",
      "  (1, 2)\t80\n",
      "  (1, 130)\t40\n",
      "  (1, 210)\t120\n",
      "  (1, 555)\t40\n",
      "  (1, 941)\t40\n",
      "  (1, 946)\t120\n",
      "  (1, 1149)\t120\n",
      "  (1, 1235)\t200\n",
      "  (1, 1499)\t40\n",
      "  (1, 1532)\t40\n",
      "  (2, 40)\t40\n",
      "  (2, 159)\t40\n",
      "  (2, 197)\t40\n",
      "  (2, 334)\t40\n",
      "  (2, 630)\t40\n",
      "  (2, 651)\t40\n",
      "  (2, 820)\t160\n",
      "  (2, 906)\t40\n",
      "  (2, 935)\t120\n",
      "  (2, 1004)\t40\n",
      "  :\t:\n",
      "  (2985, 798)\t40\n",
      "  (2985, 908)\t40\n",
      "  (2985, 978)\t40\n",
      "  (2985, 1079)\t40\n",
      "  (2985, 1136)\t40\n",
      "  (2985, 1221)\t40\n",
      "  (2985, 1248)\t40\n",
      "  (2985, 1263)\t160\n",
      "  (2985, 1319)\t40\n",
      "  (2985, 1334)\t40\n",
      "  (2985, 1343)\t40\n",
      "  (2985, 1383)\t80\n",
      "  (2985, 1404)\t120\n",
      "  (2985, 1405)\t40\n",
      "  (2985, 1527)\t40\n",
      "  (2985, 1597)\t40\n",
      "  (2985, 1728)\t240\n",
      "  (2985, 1833)\t120\n",
      "  (2985, 1874)\t40\n",
      "  (2985, 1888)\t80\n",
      "  (2986, 170)\t40\n",
      "  (2986, 588)\t40\n",
      "  (2986, 1004)\t40\n",
      "  (2986, 1237)\t40\n",
      "  (2986, 1597)\t40\n"
     ]
    }
   ],
   "source": [
    "print(sparse_item_user)"
   ]
  },
  {
   "cell_type": "markdown",
   "id": "1e185ad6",
   "metadata": {},
   "source": [
    "### Create train, test data using implicit library"
   ]
  },
  {
   "cell_type": "code",
   "execution_count": 165,
   "id": "27752c10",
   "metadata": {},
   "outputs": [],
   "source": [
    "# splitting the sparse item-user matrix into 80-20 ratio\n",
    "train, test = train_test_split(sparse_item_user, train_percentage=0.8)"
   ]
  },
  {
   "cell_type": "code",
   "execution_count": 166,
   "id": "11ee448e",
   "metadata": {},
   "outputs": [
    {
     "data": {
      "text/plain": [
       "<2987x1895 sparse matrix of type '<class 'numpy.intc'>'\n",
       "\twith 32499 stored elements in Compressed Sparse Row format>"
      ]
     },
     "execution_count": 166,
     "metadata": {},
     "output_type": "execute_result"
    }
   ],
   "source": [
    "train"
   ]
  },
  {
   "cell_type": "markdown",
   "id": "482ac94e",
   "metadata": {},
   "source": [
    "### ALS Model building"
   ]
  },
  {
   "cell_type": "code",
   "execution_count": 167,
   "id": "f2b341c1",
   "metadata": {},
   "outputs": [],
   "source": [
    "# creating instance of the model and defining hyperparameters for training the data\n",
    "model = implicit.als.AlternatingLeastSquares(factors=100, regularization=0.1, iterations=20, calculate_training_loss=False)"
   ]
  },
  {
   "cell_type": "code",
   "execution_count": 168,
   "id": "05af00aa",
   "metadata": {},
   "outputs": [
    {
     "data": {
      "text/plain": [
       "<implicit.cpu.als.AlternatingLeastSquares at 0x13a4ae78e20>"
      ]
     },
     "execution_count": 168,
     "metadata": {},
     "output_type": "execute_result"
    }
   ],
   "source": [
    "model"
   ]
  },
  {
   "cell_type": "code",
   "execution_count": 169,
   "id": "e74f5d8a",
   "metadata": {},
   "outputs": [
    {
     "name": "stderr",
     "output_type": "stream",
     "text": [
      "100%|██████████████████████████████████████████████████████████████████████████████████████████████████████████████████████| 20/20 [00:06<00:00,  3.26it/s]\n"
     ]
    }
   ],
   "source": [
    "# fitting the training data for model training\n",
    "model.fit(train)"
   ]
  },
  {
   "cell_type": "markdown",
   "id": "00661991",
   "metadata": {},
   "source": [
    "### Generating recommendations for a Consumer_id"
   ]
  },
  {
   "cell_type": "code",
   "execution_count": 170,
   "id": "7b4a4c60",
   "metadata": {},
   "outputs": [],
   "source": [
    "# testing the model with any random user/consumer\n",
    "user_id = 33"
   ]
  },
  {
   "cell_type": "code",
   "execution_count": 171,
   "id": "29b74f40",
   "metadata": {
    "scrolled": true
   },
   "outputs": [
    {
     "data": {
      "text/plain": [
       "(array([ 887,  652,  737,   83, 1645,  596, 1585,  926,  292, 1782]),\n",
       " array([0.29979718, 0.1961011 , 0.19046792, 0.17909506, 0.17299002,\n",
       "        0.16585478, 0.16385564, 0.16060992, 0.1603762 , 0.15769921],\n",
       "       dtype=float32))"
      ]
     },
     "execution_count": 171,
     "metadata": {},
     "output_type": "execute_result"
    }
   ],
   "source": [
    "# recommending the articles based on similar users\n",
    "model.recommend(user_id, sparse_item_user[user_id])"
   ]
  },
  {
   "cell_type": "code",
   "execution_count": 172,
   "id": "08654976",
   "metadata": {},
   "outputs": [
    {
     "data": {
      "text/plain": [
       "(array([ 887,  652,  737,   83, 1645,  596, 1585,  926,  292, 1782, 1064,\n",
       "         103,  968,    6,  380, 1063, 1394,  803,  629,  798,  209, 1147,\n",
       "          29, 1114, 1390,  238, 1629,   19, 1784,  452]),\n",
       " array([0.29979718, 0.1961011 , 0.19046792, 0.17909506, 0.17299002,\n",
       "        0.16585478, 0.16385564, 0.16060992, 0.1603762 , 0.15769921,\n",
       "        0.15131192, 0.14309317, 0.14016151, 0.13946286, 0.13792634,\n",
       "        0.13491091, 0.13384089, 0.13270046, 0.1305901 , 0.13051063,\n",
       "        0.1269503 , 0.12690693, 0.12538096, 0.12476806, 0.12394898,\n",
       "        0.12288943, 0.1223741 , 0.11949486, 0.11685721, 0.11277895],\n",
       "       dtype=float32))"
      ]
     },
     "execution_count": 172,
     "metadata": {},
     "output_type": "execute_result"
    }
   ],
   "source": [
    "# recommending top 30 similar articles\n",
    "model.recommend(user_id, sparse_item_user[user_id], N=30)"
   ]
  },
  {
   "cell_type": "code",
   "execution_count": 173,
   "id": "a4fae141",
   "metadata": {},
   "outputs": [],
   "source": [
    "# creating output variable to store the result\n",
    "output = model.recommend(user_id, sparse_item_user[user_id])"
   ]
  },
  {
   "cell_type": "code",
   "execution_count": 174,
   "id": "baee9248",
   "metadata": {},
   "outputs": [],
   "source": [
    "# creating the output_df dataframe for better understanding and representation of the results\n",
    "output_df = pd.DataFrame({'item_codes': list(output[0]), 'als_score': list(output[1])})"
   ]
  },
  {
   "cell_type": "code",
   "execution_count": 175,
   "id": "8e3ba0ce",
   "metadata": {},
   "outputs": [
    {
     "data": {
      "text/html": [
       "<div>\n",
       "<style scoped>\n",
       "    .dataframe tbody tr th:only-of-type {\n",
       "        vertical-align: middle;\n",
       "    }\n",
       "\n",
       "    .dataframe tbody tr th {\n",
       "        vertical-align: top;\n",
       "    }\n",
       "\n",
       "    .dataframe thead th {\n",
       "        text-align: right;\n",
       "    }\n",
       "</style>\n",
       "<table border=\"1\" class=\"dataframe\">\n",
       "  <thead>\n",
       "    <tr style=\"text-align: right;\">\n",
       "      <th></th>\n",
       "      <th>item_codes</th>\n",
       "      <th>als_score</th>\n",
       "    </tr>\n",
       "  </thead>\n",
       "  <tbody>\n",
       "    <tr>\n",
       "      <th>0</th>\n",
       "      <td>887</td>\n",
       "      <td>0.299797</td>\n",
       "    </tr>\n",
       "    <tr>\n",
       "      <th>1</th>\n",
       "      <td>652</td>\n",
       "      <td>0.196101</td>\n",
       "    </tr>\n",
       "    <tr>\n",
       "      <th>2</th>\n",
       "      <td>737</td>\n",
       "      <td>0.190468</td>\n",
       "    </tr>\n",
       "    <tr>\n",
       "      <th>3</th>\n",
       "      <td>83</td>\n",
       "      <td>0.179095</td>\n",
       "    </tr>\n",
       "    <tr>\n",
       "      <th>4</th>\n",
       "      <td>1645</td>\n",
       "      <td>0.172990</td>\n",
       "    </tr>\n",
       "    <tr>\n",
       "      <th>5</th>\n",
       "      <td>596</td>\n",
       "      <td>0.165855</td>\n",
       "    </tr>\n",
       "    <tr>\n",
       "      <th>6</th>\n",
       "      <td>1585</td>\n",
       "      <td>0.163856</td>\n",
       "    </tr>\n",
       "    <tr>\n",
       "      <th>7</th>\n",
       "      <td>926</td>\n",
       "      <td>0.160610</td>\n",
       "    </tr>\n",
       "    <tr>\n",
       "      <th>8</th>\n",
       "      <td>292</td>\n",
       "      <td>0.160376</td>\n",
       "    </tr>\n",
       "    <tr>\n",
       "      <th>9</th>\n",
       "      <td>1782</td>\n",
       "      <td>0.157699</td>\n",
       "    </tr>\n",
       "  </tbody>\n",
       "</table>\n",
       "</div>"
      ],
      "text/plain": [
       "   item_codes  als_score\n",
       "0         887   0.299797\n",
       "1         652   0.196101\n",
       "2         737   0.190468\n",
       "3          83   0.179095\n",
       "4        1645   0.172990\n",
       "5         596   0.165855\n",
       "6        1585   0.163856\n",
       "7         926   0.160610\n",
       "8         292   0.160376\n",
       "9        1782   0.157699"
      ]
     },
     "execution_count": 175,
     "metadata": {},
     "output_type": "execute_result"
    }
   ],
   "source": [
    "output_df"
   ]
  },
  {
   "cell_type": "code",
   "execution_count": 176,
   "id": "bfa2680b",
   "metadata": {},
   "outputs": [],
   "source": [
    "# Mapping the item_codes columns into original item ids using dictionary created earlier\n",
    "output_df['item_id'] = output_df['item_codes'].apply(lambda x: final_dict_items[x])"
   ]
  },
  {
   "cell_type": "code",
   "execution_count": 177,
   "id": "270c4729",
   "metadata": {},
   "outputs": [
    {
     "data": {
      "text/html": [
       "<div>\n",
       "<style scoped>\n",
       "    .dataframe tbody tr th:only-of-type {\n",
       "        vertical-align: middle;\n",
       "    }\n",
       "\n",
       "    .dataframe tbody tr th {\n",
       "        vertical-align: top;\n",
       "    }\n",
       "\n",
       "    .dataframe thead th {\n",
       "        text-align: right;\n",
       "    }\n",
       "</style>\n",
       "<table border=\"1\" class=\"dataframe\">\n",
       "  <thead>\n",
       "    <tr style=\"text-align: right;\">\n",
       "      <th></th>\n",
       "      <th>item_codes</th>\n",
       "      <th>als_score</th>\n",
       "      <th>item_id</th>\n",
       "    </tr>\n",
       "  </thead>\n",
       "  <tbody>\n",
       "    <tr>\n",
       "      <th>0</th>\n",
       "      <td>887</td>\n",
       "      <td>0.299797</td>\n",
       "      <td>-3758287970266820834</td>\n",
       "    </tr>\n",
       "    <tr>\n",
       "      <th>1</th>\n",
       "      <td>652</td>\n",
       "      <td>0.196101</td>\n",
       "      <td>-5315378314308323942</td>\n",
       "    </tr>\n",
       "    <tr>\n",
       "      <th>2</th>\n",
       "      <td>737</td>\n",
       "      <td>0.190468</td>\n",
       "      <td>-4748027149000767298</td>\n",
       "    </tr>\n",
       "    <tr>\n",
       "      <th>3</th>\n",
       "      <td>83</td>\n",
       "      <td>0.179095</td>\n",
       "      <td>-8863047175241170722</td>\n",
       "    </tr>\n",
       "    <tr>\n",
       "      <th>4</th>\n",
       "      <td>1645</td>\n",
       "      <td>0.172990</td>\n",
       "      <td>1019706997674210703</td>\n",
       "    </tr>\n",
       "    <tr>\n",
       "      <th>5</th>\n",
       "      <td>596</td>\n",
       "      <td>0.165855</td>\n",
       "      <td>-5636731245639685654</td>\n",
       "    </tr>\n",
       "    <tr>\n",
       "      <th>6</th>\n",
       "      <td>1585</td>\n",
       "      <td>0.163856</td>\n",
       "      <td>607684800821303652</td>\n",
       "    </tr>\n",
       "    <tr>\n",
       "      <th>7</th>\n",
       "      <td>926</td>\n",
       "      <td>0.160610</td>\n",
       "      <td>-3544655814153481738</td>\n",
       "    </tr>\n",
       "    <tr>\n",
       "      <th>8</th>\n",
       "      <td>292</td>\n",
       "      <td>0.160376</td>\n",
       "      <td>-7542498020532209188</td>\n",
       "    </tr>\n",
       "    <tr>\n",
       "      <th>9</th>\n",
       "      <td>1782</td>\n",
       "      <td>0.157699</td>\n",
       "      <td>1929674614667189969</td>\n",
       "    </tr>\n",
       "  </tbody>\n",
       "</table>\n",
       "</div>"
      ],
      "text/plain": [
       "   item_codes  als_score              item_id\n",
       "0         887   0.299797 -3758287970266820834\n",
       "1         652   0.196101 -5315378314308323942\n",
       "2         737   0.190468 -4748027149000767298\n",
       "3          83   0.179095 -8863047175241170722\n",
       "4        1645   0.172990  1019706997674210703\n",
       "5         596   0.165855 -5636731245639685654\n",
       "6        1585   0.163856   607684800821303652\n",
       "7         926   0.160610 -3544655814153481738\n",
       "8         292   0.160376 -7542498020532209188\n",
       "9        1782   0.157699  1929674614667189969"
      ]
     },
     "execution_count": 177,
     "metadata": {},
     "output_type": "execute_result"
    }
   ],
   "source": [
    "output_df"
   ]
  },
  {
   "cell_type": "code",
   "execution_count": 178,
   "id": "90a3980a",
   "metadata": {},
   "outputs": [],
   "source": [
    "# keeping only the relevent columns\n",
    "output_df = output_df[['item_id', 'als_score']]"
   ]
  },
  {
   "cell_type": "code",
   "execution_count": 179,
   "id": "964319bc",
   "metadata": {},
   "outputs": [
    {
     "data": {
      "text/html": [
       "<div>\n",
       "<style scoped>\n",
       "    .dataframe tbody tr th:only-of-type {\n",
       "        vertical-align: middle;\n",
       "    }\n",
       "\n",
       "    .dataframe tbody tr th {\n",
       "        vertical-align: top;\n",
       "    }\n",
       "\n",
       "    .dataframe thead th {\n",
       "        text-align: right;\n",
       "    }\n",
       "</style>\n",
       "<table border=\"1\" class=\"dataframe\">\n",
       "  <thead>\n",
       "    <tr style=\"text-align: right;\">\n",
       "      <th></th>\n",
       "      <th>item_id</th>\n",
       "      <th>als_score</th>\n",
       "    </tr>\n",
       "  </thead>\n",
       "  <tbody>\n",
       "    <tr>\n",
       "      <th>0</th>\n",
       "      <td>-3758287970266820834</td>\n",
       "      <td>0.299797</td>\n",
       "    </tr>\n",
       "    <tr>\n",
       "      <th>1</th>\n",
       "      <td>-5315378314308323942</td>\n",
       "      <td>0.196101</td>\n",
       "    </tr>\n",
       "    <tr>\n",
       "      <th>2</th>\n",
       "      <td>-4748027149000767298</td>\n",
       "      <td>0.190468</td>\n",
       "    </tr>\n",
       "    <tr>\n",
       "      <th>3</th>\n",
       "      <td>-8863047175241170722</td>\n",
       "      <td>0.179095</td>\n",
       "    </tr>\n",
       "    <tr>\n",
       "      <th>4</th>\n",
       "      <td>1019706997674210703</td>\n",
       "      <td>0.172990</td>\n",
       "    </tr>\n",
       "  </tbody>\n",
       "</table>\n",
       "</div>"
      ],
      "text/plain": [
       "               item_id  als_score\n",
       "0 -3758287970266820834   0.299797\n",
       "1 -5315378314308323942   0.196101\n",
       "2 -4748027149000767298   0.190468\n",
       "3 -8863047175241170722   0.179095\n",
       "4  1019706997674210703   0.172990"
      ]
     },
     "execution_count": 179,
     "metadata": {},
     "output_type": "execute_result"
    }
   ],
   "source": [
    "output_df.head()"
   ]
  },
  {
   "cell_type": "code",
   "execution_count": 180,
   "id": "7fb81ae0",
   "metadata": {},
   "outputs": [],
   "source": [
    "# merging the item_id with news_df dataset to get the article title\n",
    "merged_ALS_user = pd.merge(output_df, news_df, how='left', on='item_id')"
   ]
  },
  {
   "cell_type": "code",
   "execution_count": 181,
   "id": "9b739f35",
   "metadata": {},
   "outputs": [
    {
     "data": {
      "text/html": [
       "<div>\n",
       "<style scoped>\n",
       "    .dataframe tbody tr th:only-of-type {\n",
       "        vertical-align: middle;\n",
       "    }\n",
       "\n",
       "    .dataframe tbody tr th {\n",
       "        vertical-align: top;\n",
       "    }\n",
       "\n",
       "    .dataframe thead th {\n",
       "        text-align: right;\n",
       "    }\n",
       "</style>\n",
       "<table border=\"1\" class=\"dataframe\">\n",
       "  <thead>\n",
       "    <tr style=\"text-align: right;\">\n",
       "      <th></th>\n",
       "      <th>item_id</th>\n",
       "      <th>als_score</th>\n",
       "      <th>title</th>\n",
       "    </tr>\n",
       "  </thead>\n",
       "  <tbody>\n",
       "    <tr>\n",
       "      <th>0</th>\n",
       "      <td>-3758287970266820834</td>\n",
       "      <td>0.299797</td>\n",
       "      <td>PowerShell is open sourced and is available on Linux</td>\n",
       "    </tr>\n",
       "    <tr>\n",
       "      <th>1</th>\n",
       "      <td>-5315378314308323942</td>\n",
       "      <td>0.196101</td>\n",
       "      <td>Developing iOS 9 Apps with Swift - Curso grátis de Stanford no iTunes U</td>\n",
       "    </tr>\n",
       "    <tr>\n",
       "      <th>2</th>\n",
       "      <td>-4748027149000767298</td>\n",
       "      <td>0.190468</td>\n",
       "      <td>8 Old School SEO Practices That Are No Longer Effective - Whiteboard Friday</td>\n",
       "    </tr>\n",
       "    <tr>\n",
       "      <th>3</th>\n",
       "      <td>-8863047175241170722</td>\n",
       "      <td>0.179095</td>\n",
       "      <td>Big data's 'streetlight effect': where and how we look affects what we see</td>\n",
       "    </tr>\n",
       "    <tr>\n",
       "      <th>4</th>\n",
       "      <td>1019706997674210703</td>\n",
       "      <td>0.172990</td>\n",
       "      <td>Assista a entrevista de Linus Torvalds no TED legendada</td>\n",
       "    </tr>\n",
       "    <tr>\n",
       "      <th>5</th>\n",
       "      <td>-5636731245639685654</td>\n",
       "      <td>0.165855</td>\n",
       "      <td>Especial Agrishow: Soluções de agricultura de precisão elevam produtividade e aumentam a qualidade do plantio</td>\n",
       "    </tr>\n",
       "    <tr>\n",
       "      <th>6</th>\n",
       "      <td>607684800821303652</td>\n",
       "      <td>0.163856</td>\n",
       "      <td>How This Former Google Engineer Is Bringing Blockchain to Banks</td>\n",
       "    </tr>\n",
       "    <tr>\n",
       "      <th>7</th>\n",
       "      <td>-3544655814153481738</td>\n",
       "      <td>0.160610</td>\n",
       "      <td>New Africa Trend Briefing from TrendWatching | THE FUTURE OF AFRICONNECTION</td>\n",
       "    </tr>\n",
       "    <tr>\n",
       "      <th>8</th>\n",
       "      <td>-7542498020532209188</td>\n",
       "      <td>0.160376</td>\n",
       "      <td>Frequent password changes are the enemy of security, FTC technologist says</td>\n",
       "    </tr>\n",
       "    <tr>\n",
       "      <th>9</th>\n",
       "      <td>1929674614667189969</td>\n",
       "      <td>0.157699</td>\n",
       "      <td>Diane Greene wants to put the enterprise front and center of Google Cloud strategy</td>\n",
       "    </tr>\n",
       "  </tbody>\n",
       "</table>\n",
       "</div>"
      ],
      "text/plain": [
       "               item_id  als_score  \\\n",
       "0 -3758287970266820834   0.299797   \n",
       "1 -5315378314308323942   0.196101   \n",
       "2 -4748027149000767298   0.190468   \n",
       "3 -8863047175241170722   0.179095   \n",
       "4  1019706997674210703   0.172990   \n",
       "5 -5636731245639685654   0.165855   \n",
       "6   607684800821303652   0.163856   \n",
       "7 -3544655814153481738   0.160610   \n",
       "8 -7542498020532209188   0.160376   \n",
       "9  1929674614667189969   0.157699   \n",
       "\n",
       "                                                                                                           title  \n",
       "0                                                           PowerShell is open sourced and is available on Linux  \n",
       "1                                        Developing iOS 9 Apps with Swift - Curso grátis de Stanford no iTunes U  \n",
       "2                                    8 Old School SEO Practices That Are No Longer Effective - Whiteboard Friday  \n",
       "3                                     Big data's 'streetlight effect': where and how we look affects what we see  \n",
       "4                                                        Assista a entrevista de Linus Torvalds no TED legendada  \n",
       "5  Especial Agrishow: Soluções de agricultura de precisão elevam produtividade e aumentam a qualidade do plantio  \n",
       "6                                                How This Former Google Engineer Is Bringing Blockchain to Banks  \n",
       "7                                    New Africa Trend Briefing from TrendWatching | THE FUTURE OF AFRICONNECTION  \n",
       "8                                     Frequent password changes are the enemy of security, FTC technologist says  \n",
       "9                             Diane Greene wants to put the enterprise front and center of Google Cloud strategy  "
      ]
     },
     "execution_count": 181,
     "metadata": {},
     "output_type": "execute_result"
    }
   ],
   "source": [
    "merged_ALS_user"
   ]
  },
  {
   "cell_type": "markdown",
   "id": "1a3dc493",
   "metadata": {},
   "source": [
    "### Generating recommendations for Movie_id"
   ]
  },
  {
   "cell_type": "code",
   "execution_count": 182,
   "id": "4a72c32d",
   "metadata": {},
   "outputs": [],
   "source": [
    "#Generating recommendations for item_id\n",
    "item_id = 15\n",
    "n_similar = 10"
   ]
  },
  {
   "cell_type": "code",
   "execution_count": 183,
   "id": "5395cde1",
   "metadata": {},
   "outputs": [],
   "source": [
    "similar = model.similar_items(item_id, n_similar)"
   ]
  },
  {
   "cell_type": "code",
   "execution_count": 184,
   "id": "1ff13caf",
   "metadata": {},
   "outputs": [
    {
     "data": {
      "text/plain": [
       "(array([  15,  431,  816, 1835,  110, 1512,  748, 1681, 1778,  323]),\n",
       " array([1.0000001 , 0.8682433 , 0.8217753 , 0.59053665, 0.51755947,\n",
       "        0.48267904, 0.4780247 , 0.44115844, 0.43381712, 0.41421774],\n",
       "       dtype=float32))"
      ]
     },
     "execution_count": 184,
     "metadata": {},
     "output_type": "execute_result"
    }
   ],
   "source": [
    "similar"
   ]
  },
  {
   "cell_type": "code",
   "execution_count": 185,
   "id": "28ba6756",
   "metadata": {},
   "outputs": [],
   "source": [
    "# Creating the dataframe to store the generated results\n",
    "similar_df = pd.DataFrame({'item_codes': list(similar[0]), 'als_score': list(similar[1])})"
   ]
  },
  {
   "cell_type": "code",
   "execution_count": 186,
   "id": "147688c8",
   "metadata": {},
   "outputs": [
    {
     "data": {
      "text/html": [
       "<div>\n",
       "<style scoped>\n",
       "    .dataframe tbody tr th:only-of-type {\n",
       "        vertical-align: middle;\n",
       "    }\n",
       "\n",
       "    .dataframe tbody tr th {\n",
       "        vertical-align: top;\n",
       "    }\n",
       "\n",
       "    .dataframe thead th {\n",
       "        text-align: right;\n",
       "    }\n",
       "</style>\n",
       "<table border=\"1\" class=\"dataframe\">\n",
       "  <thead>\n",
       "    <tr style=\"text-align: right;\">\n",
       "      <th></th>\n",
       "      <th>item_codes</th>\n",
       "      <th>als_score</th>\n",
       "    </tr>\n",
       "  </thead>\n",
       "  <tbody>\n",
       "    <tr>\n",
       "      <th>0</th>\n",
       "      <td>15</td>\n",
       "      <td>1.000000</td>\n",
       "    </tr>\n",
       "    <tr>\n",
       "      <th>1</th>\n",
       "      <td>431</td>\n",
       "      <td>0.868243</td>\n",
       "    </tr>\n",
       "    <tr>\n",
       "      <th>2</th>\n",
       "      <td>816</td>\n",
       "      <td>0.821775</td>\n",
       "    </tr>\n",
       "    <tr>\n",
       "      <th>3</th>\n",
       "      <td>1835</td>\n",
       "      <td>0.590537</td>\n",
       "    </tr>\n",
       "    <tr>\n",
       "      <th>4</th>\n",
       "      <td>110</td>\n",
       "      <td>0.517559</td>\n",
       "    </tr>\n",
       "  </tbody>\n",
       "</table>\n",
       "</div>"
      ],
      "text/plain": [
       "   item_codes  als_score\n",
       "0          15   1.000000\n",
       "1         431   0.868243\n",
       "2         816   0.821775\n",
       "3        1835   0.590537\n",
       "4         110   0.517559"
      ]
     },
     "execution_count": 186,
     "metadata": {},
     "output_type": "execute_result"
    }
   ],
   "source": [
    "similar_df.head()"
   ]
  },
  {
   "cell_type": "code",
   "execution_count": 187,
   "id": "dbbc70bc",
   "metadata": {},
   "outputs": [],
   "source": [
    "# mapping item_codes to original item_ids using the dictionary created\n",
    "similar_df['item_id'] = similar_df['item_codes'].apply(lambda x: final_dict_items[x])"
   ]
  },
  {
   "cell_type": "code",
   "execution_count": 188,
   "id": "e453f3a3",
   "metadata": {},
   "outputs": [],
   "source": [
    "similar_df = similar_df[['item_id', 'als_score']]"
   ]
  },
  {
   "cell_type": "code",
   "execution_count": 189,
   "id": "6877761f",
   "metadata": {},
   "outputs": [
    {
     "data": {
      "text/html": [
       "<div>\n",
       "<style scoped>\n",
       "    .dataframe tbody tr th:only-of-type {\n",
       "        vertical-align: middle;\n",
       "    }\n",
       "\n",
       "    .dataframe tbody tr th {\n",
       "        vertical-align: top;\n",
       "    }\n",
       "\n",
       "    .dataframe thead th {\n",
       "        text-align: right;\n",
       "    }\n",
       "</style>\n",
       "<table border=\"1\" class=\"dataframe\">\n",
       "  <thead>\n",
       "    <tr style=\"text-align: right;\">\n",
       "      <th></th>\n",
       "      <th>item_id</th>\n",
       "      <th>als_score</th>\n",
       "    </tr>\n",
       "  </thead>\n",
       "  <tbody>\n",
       "    <tr>\n",
       "      <th>0</th>\n",
       "      <td>-9152398073968262186</td>\n",
       "      <td>1.000000</td>\n",
       "    </tr>\n",
       "    <tr>\n",
       "      <th>1</th>\n",
       "      <td>-6644783190271298310</td>\n",
       "      <td>0.868243</td>\n",
       "    </tr>\n",
       "    <tr>\n",
       "      <th>2</th>\n",
       "      <td>-4218676349553328084</td>\n",
       "      <td>0.821775</td>\n",
       "    </tr>\n",
       "    <tr>\n",
       "      <th>3</th>\n",
       "      <td>2285214528595997209</td>\n",
       "      <td>0.590537</td>\n",
       "    </tr>\n",
       "    <tr>\n",
       "      <th>4</th>\n",
       "      <td>-8689461307495241608</td>\n",
       "      <td>0.517559</td>\n",
       "    </tr>\n",
       "  </tbody>\n",
       "</table>\n",
       "</div>"
      ],
      "text/plain": [
       "               item_id  als_score\n",
       "0 -9152398073968262186   1.000000\n",
       "1 -6644783190271298310   0.868243\n",
       "2 -4218676349553328084   0.821775\n",
       "3  2285214528595997209   0.590537\n",
       "4 -8689461307495241608   0.517559"
      ]
     },
     "execution_count": 189,
     "metadata": {},
     "output_type": "execute_result"
    }
   ],
   "source": [
    "similar_df.head()"
   ]
  },
  {
   "cell_type": "code",
   "execution_count": 190,
   "id": "e646debb",
   "metadata": {},
   "outputs": [],
   "source": [
    "# merging the dataframes to get article title\n",
    "merged_ALS_items = pd.merge(similar_df, news_df, how='left', on='item_id')"
   ]
  },
  {
   "cell_type": "code",
   "execution_count": 191,
   "id": "1f212f56",
   "metadata": {},
   "outputs": [
    {
     "data": {
      "text/html": [
       "<div>\n",
       "<style scoped>\n",
       "    .dataframe tbody tr th:only-of-type {\n",
       "        vertical-align: middle;\n",
       "    }\n",
       "\n",
       "    .dataframe tbody tr th {\n",
       "        vertical-align: top;\n",
       "    }\n",
       "\n",
       "    .dataframe thead th {\n",
       "        text-align: right;\n",
       "    }\n",
       "</style>\n",
       "<table border=\"1\" class=\"dataframe\">\n",
       "  <thead>\n",
       "    <tr style=\"text-align: right;\">\n",
       "      <th></th>\n",
       "      <th>item_id</th>\n",
       "      <th>als_score</th>\n",
       "      <th>title</th>\n",
       "    </tr>\n",
       "  </thead>\n",
       "  <tbody>\n",
       "    <tr>\n",
       "      <th>0</th>\n",
       "      <td>-9152398073968262186</td>\n",
       "      <td>1.000000</td>\n",
       "      <td>Microsoft Is Now 'Open By Default', Says Xamarin Founder Miguel de Icaza</td>\n",
       "    </tr>\n",
       "    <tr>\n",
       "      <th>1</th>\n",
       "      <td>-6644783190271298310</td>\n",
       "      <td>0.868243</td>\n",
       "      <td>Principais startups do ramo de saúde criam o 1o Cluster de Saúde Digital do Brasil | EXAME.com</td>\n",
       "    </tr>\n",
       "    <tr>\n",
       "      <th>2</th>\n",
       "      <td>-4218676349553328084</td>\n",
       "      <td>0.821775</td>\n",
       "      <td>The new-world insurance agent</td>\n",
       "    </tr>\n",
       "    <tr>\n",
       "      <th>3</th>\n",
       "      <td>2285214528595997209</td>\n",
       "      <td>0.590537</td>\n",
       "      <td>Docker e .Net</td>\n",
       "    </tr>\n",
       "    <tr>\n",
       "      <th>4</th>\n",
       "      <td>-8689461307495241608</td>\n",
       "      <td>0.517559</td>\n",
       "      <td>Ebay's mobile Craigslist competitor Close5 has quietly grown to 7 million downloads</td>\n",
       "    </tr>\n",
       "    <tr>\n",
       "      <th>5</th>\n",
       "      <td>156889606517612871</td>\n",
       "      <td>0.482679</td>\n",
       "      <td>Multi-Channel Marketing in 2015 - It's not rocket science.</td>\n",
       "    </tr>\n",
       "    <tr>\n",
       "      <th>6</th>\n",
       "      <td>-4673235524420943843</td>\n",
       "      <td>0.478025</td>\n",
       "      <td>Blog | Niantic</td>\n",
       "    </tr>\n",
       "    <tr>\n",
       "      <th>7</th>\n",
       "      <td>1286494666178127087</td>\n",
       "      <td>0.441158</td>\n",
       "      <td>5 Internet Trends to Pay Attention to in Late 2016</td>\n",
       "    </tr>\n",
       "    <tr>\n",
       "      <th>8</th>\n",
       "      <td>1878784080584939832</td>\n",
       "      <td>0.433817</td>\n",
       "      <td>What Apple's differential privacy means for your data and the future of machine learning</td>\n",
       "    </tr>\n",
       "    <tr>\n",
       "      <th>9</th>\n",
       "      <td>-7358932766266901263</td>\n",
       "      <td>0.414218</td>\n",
       "      <td>Why Many Smart Contract Use Cases Are Simply Impossible - CoinDesk</td>\n",
       "    </tr>\n",
       "    <tr>\n",
       "      <th>10</th>\n",
       "      <td>-7358932766266901263</td>\n",
       "      <td>0.414218</td>\n",
       "      <td>Why Many Smart Contract Use Cases Are Simply Impossible - CoinDesk</td>\n",
       "    </tr>\n",
       "  </tbody>\n",
       "</table>\n",
       "</div>"
      ],
      "text/plain": [
       "                item_id  als_score  \\\n",
       "0  -9152398073968262186   1.000000   \n",
       "1  -6644783190271298310   0.868243   \n",
       "2  -4218676349553328084   0.821775   \n",
       "3   2285214528595997209   0.590537   \n",
       "4  -8689461307495241608   0.517559   \n",
       "5    156889606517612871   0.482679   \n",
       "6  -4673235524420943843   0.478025   \n",
       "7   1286494666178127087   0.441158   \n",
       "8   1878784080584939832   0.433817   \n",
       "9  -7358932766266901263   0.414218   \n",
       "10 -7358932766266901263   0.414218   \n",
       "\n",
       "                                                                                             title  \n",
       "0                         Microsoft Is Now 'Open By Default', Says Xamarin Founder Miguel de Icaza  \n",
       "1   Principais startups do ramo de saúde criam o 1o Cluster de Saúde Digital do Brasil | EXAME.com  \n",
       "2                                                                    The new-world insurance agent  \n",
       "3                                                                                    Docker e .Net  \n",
       "4              Ebay's mobile Craigslist competitor Close5 has quietly grown to 7 million downloads  \n",
       "5                                       Multi-Channel Marketing in 2015 - It's not rocket science.  \n",
       "6                                                                                   Blog | Niantic  \n",
       "7                                               5 Internet Trends to Pay Attention to in Late 2016  \n",
       "8         What Apple's differential privacy means for your data and the future of machine learning  \n",
       "9                               Why Many Smart Contract Use Cases Are Simply Impossible - CoinDesk  \n",
       "10                              Why Many Smart Contract Use Cases Are Simply Impossible - CoinDesk  "
      ]
     },
     "execution_count": 191,
     "metadata": {},
     "output_type": "execute_result"
    }
   ],
   "source": [
    "merged_ALS_items"
   ]
  },
  {
   "cell_type": "markdown",
   "id": "cef9ea71",
   "metadata": {},
   "source": [
    "## Evaluation"
   ]
  },
  {
   "cell_type": "code",
   "execution_count": 192,
   "id": "b3ff1c34",
   "metadata": {},
   "outputs": [],
   "source": [
    "# importing relevent libraries for model evaluation\n",
    "from sklearn.metrics import mean_squared_error\n",
    "from sklearn.metrics import mean_absolute_error\n",
    "from sklearn.metrics import accuracy_score\n",
    "from math import sqrt"
   ]
  },
  {
   "cell_type": "code",
   "execution_count": 193,
   "id": "09fbcb03",
   "metadata": {},
   "outputs": [
    {
     "data": {
      "text/html": [
       "<div>\n",
       "<style scoped>\n",
       "    .dataframe tbody tr th:only-of-type {\n",
       "        vertical-align: middle;\n",
       "    }\n",
       "\n",
       "    .dataframe tbody tr th {\n",
       "        vertical-align: top;\n",
       "    }\n",
       "\n",
       "    .dataframe thead th {\n",
       "        text-align: right;\n",
       "    }\n",
       "</style>\n",
       "<table border=\"1\" class=\"dataframe\">\n",
       "  <thead>\n",
       "    <tr style=\"text-align: right;\">\n",
       "      <th>item_id</th>\n",
       "      <th>-9222795471790223670</th>\n",
       "      <th>-9216926795620865886</th>\n",
       "      <th>-9194572880052200111</th>\n",
       "      <th>-9192549002213406534</th>\n",
       "      <th>-9190737901804729417</th>\n",
       "      <th>-9189659052158407108</th>\n",
       "      <th>-9184137057748005562</th>\n",
       "      <th>-9176143510534135851</th>\n",
       "      <th>-9172673334835262304</th>\n",
       "      <th>-9171475473795142532</th>\n",
       "      <th>...</th>\n",
       "      <th>9191014301634017491</th>\n",
       "      <th>9207286802575546269</th>\n",
       "      <th>9208127165664287660</th>\n",
       "      <th>9209629151177723638</th>\n",
       "      <th>9209886322932807692</th>\n",
       "      <th>9213260650272029784</th>\n",
       "      <th>9215261273565326920</th>\n",
       "      <th>9217155070834564627</th>\n",
       "      <th>9220445660318725468</th>\n",
       "      <th>9222265156747237864</th>\n",
       "    </tr>\n",
       "    <tr>\n",
       "      <th>consumer_id</th>\n",
       "      <th></th>\n",
       "      <th></th>\n",
       "      <th></th>\n",
       "      <th></th>\n",
       "      <th></th>\n",
       "      <th></th>\n",
       "      <th></th>\n",
       "      <th></th>\n",
       "      <th></th>\n",
       "      <th></th>\n",
       "      <th></th>\n",
       "      <th></th>\n",
       "      <th></th>\n",
       "      <th></th>\n",
       "      <th></th>\n",
       "      <th></th>\n",
       "      <th></th>\n",
       "      <th></th>\n",
       "      <th></th>\n",
       "      <th></th>\n",
       "      <th></th>\n",
       "    </tr>\n",
       "  </thead>\n",
       "  <tbody>\n",
       "    <tr>\n",
       "      <th>-9223121837663643404</th>\n",
       "      <td>0.0</td>\n",
       "      <td>0.0</td>\n",
       "      <td>0.0</td>\n",
       "      <td>0.0</td>\n",
       "      <td>0.0</td>\n",
       "      <td>0.0</td>\n",
       "      <td>0.0</td>\n",
       "      <td>0.0</td>\n",
       "      <td>0.0</td>\n",
       "      <td>0.0</td>\n",
       "      <td>...</td>\n",
       "      <td>0.0</td>\n",
       "      <td>0.0</td>\n",
       "      <td>0.0</td>\n",
       "      <td>0.0</td>\n",
       "      <td>0.0</td>\n",
       "      <td>0.0</td>\n",
       "      <td>0.0</td>\n",
       "      <td>0.0</td>\n",
       "      <td>0.0</td>\n",
       "      <td>0.0</td>\n",
       "    </tr>\n",
       "    <tr>\n",
       "      <th>-9212075797126931087</th>\n",
       "      <td>0.0</td>\n",
       "      <td>0.0</td>\n",
       "      <td>0.0</td>\n",
       "      <td>0.0</td>\n",
       "      <td>0.0</td>\n",
       "      <td>0.0</td>\n",
       "      <td>0.0</td>\n",
       "      <td>0.0</td>\n",
       "      <td>0.0</td>\n",
       "      <td>0.0</td>\n",
       "      <td>...</td>\n",
       "      <td>0.0</td>\n",
       "      <td>0.0</td>\n",
       "      <td>0.0</td>\n",
       "      <td>0.0</td>\n",
       "      <td>0.0</td>\n",
       "      <td>0.0</td>\n",
       "      <td>0.0</td>\n",
       "      <td>0.0</td>\n",
       "      <td>0.0</td>\n",
       "      <td>0.0</td>\n",
       "    </tr>\n",
       "  </tbody>\n",
       "</table>\n",
       "<p>2 rows × 2944 columns</p>\n",
       "</div>"
      ],
      "text/plain": [
       "item_id               -9222795471790223670  -9216926795620865886  \\\n",
       "consumer_id                                                        \n",
       "-9223121837663643404                   0.0                   0.0   \n",
       "-9212075797126931087                   0.0                   0.0   \n",
       "\n",
       "item_id               -9194572880052200111  -9192549002213406534  \\\n",
       "consumer_id                                                        \n",
       "-9223121837663643404                   0.0                   0.0   \n",
       "-9212075797126931087                   0.0                   0.0   \n",
       "\n",
       "item_id               -9190737901804729417  -9189659052158407108  \\\n",
       "consumer_id                                                        \n",
       "-9223121837663643404                   0.0                   0.0   \n",
       "-9212075797126931087                   0.0                   0.0   \n",
       "\n",
       "item_id               -9184137057748005562  -9176143510534135851  \\\n",
       "consumer_id                                                        \n",
       "-9223121837663643404                   0.0                   0.0   \n",
       "-9212075797126931087                   0.0                   0.0   \n",
       "\n",
       "item_id               -9172673334835262304  -9171475473795142532  ...  \\\n",
       "consumer_id                                                       ...   \n",
       "-9223121837663643404                   0.0                   0.0  ...   \n",
       "-9212075797126931087                   0.0                   0.0  ...   \n",
       "\n",
       "item_id                9191014301634017491   9207286802575546269  \\\n",
       "consumer_id                                                        \n",
       "-9223121837663643404                   0.0                   0.0   \n",
       "-9212075797126931087                   0.0                   0.0   \n",
       "\n",
       "item_id                9208127165664287660   9209629151177723638  \\\n",
       "consumer_id                                                        \n",
       "-9223121837663643404                   0.0                   0.0   \n",
       "-9212075797126931087                   0.0                   0.0   \n",
       "\n",
       "item_id                9209886322932807692   9213260650272029784  \\\n",
       "consumer_id                                                        \n",
       "-9223121837663643404                   0.0                   0.0   \n",
       "-9212075797126931087                   0.0                   0.0   \n",
       "\n",
       "item_id                9215261273565326920   9217155070834564627  \\\n",
       "consumer_id                                                        \n",
       "-9223121837663643404                   0.0                   0.0   \n",
       "-9212075797126931087                   0.0                   0.0   \n",
       "\n",
       "item_id                9220445660318725468   9222265156747237864  \n",
       "consumer_id                                                       \n",
       "-9223121837663643404                   0.0                   0.0  \n",
       "-9212075797126931087                   0.0                   0.0  \n",
       "\n",
       "[2 rows x 2944 columns]"
      ]
     },
     "execution_count": 193,
     "metadata": {},
     "output_type": "execute_result"
    }
   ],
   "source": [
    "data_matrix.head(2)"
   ]
  },
  {
   "cell_type": "code",
   "execution_count": 194,
   "id": "6ffe21d8",
   "metadata": {},
   "outputs": [
    {
     "data": {
      "text/html": [
       "<div>\n",
       "<style scoped>\n",
       "    .dataframe tbody tr th:only-of-type {\n",
       "        vertical-align: middle;\n",
       "    }\n",
       "\n",
       "    .dataframe tbody tr th {\n",
       "        vertical-align: top;\n",
       "    }\n",
       "\n",
       "    .dataframe thead th {\n",
       "        text-align: right;\n",
       "    }\n",
       "</style>\n",
       "<table border=\"1\" class=\"dataframe\">\n",
       "  <thead>\n",
       "    <tr style=\"text-align: right;\">\n",
       "      <th>item_id</th>\n",
       "      <th>-9222795471790223670</th>\n",
       "      <th>-9216926795620865886</th>\n",
       "      <th>-9194572880052200111</th>\n",
       "      <th>-9192549002213406534</th>\n",
       "      <th>-9190737901804729417</th>\n",
       "      <th>-9189659052158407108</th>\n",
       "      <th>-9176143510534135851</th>\n",
       "      <th>-9166778629773133902</th>\n",
       "      <th>-9161596996229760398</th>\n",
       "      <th>-9160910454530522563</th>\n",
       "      <th>...</th>\n",
       "      <th>9191014301634017491</th>\n",
       "      <th>9207286802575546269</th>\n",
       "      <th>9208127165664287660</th>\n",
       "      <th>9209629151177723638</th>\n",
       "      <th>9209886322932807692</th>\n",
       "      <th>9213260650272029784</th>\n",
       "      <th>9215261273565326920</th>\n",
       "      <th>9217155070834564627</th>\n",
       "      <th>9220445660318725468</th>\n",
       "      <th>9222265156747237864</th>\n",
       "    </tr>\n",
       "    <tr>\n",
       "      <th>consumer_id</th>\n",
       "      <th></th>\n",
       "      <th></th>\n",
       "      <th></th>\n",
       "      <th></th>\n",
       "      <th></th>\n",
       "      <th></th>\n",
       "      <th></th>\n",
       "      <th></th>\n",
       "      <th></th>\n",
       "      <th></th>\n",
       "      <th></th>\n",
       "      <th></th>\n",
       "      <th></th>\n",
       "      <th></th>\n",
       "      <th></th>\n",
       "      <th></th>\n",
       "      <th></th>\n",
       "      <th></th>\n",
       "      <th></th>\n",
       "      <th></th>\n",
       "      <th></th>\n",
       "    </tr>\n",
       "  </thead>\n",
       "  <tbody>\n",
       "    <tr>\n",
       "      <th>-9223121837663643404</th>\n",
       "      <td>0.0</td>\n",
       "      <td>0.0</td>\n",
       "      <td>0.0</td>\n",
       "      <td>0.0</td>\n",
       "      <td>0.0</td>\n",
       "      <td>0.0</td>\n",
       "      <td>0.0</td>\n",
       "      <td>0.0</td>\n",
       "      <td>0.0</td>\n",
       "      <td>0.0</td>\n",
       "      <td>...</td>\n",
       "      <td>0.0</td>\n",
       "      <td>0.0</td>\n",
       "      <td>0.0</td>\n",
       "      <td>0.0</td>\n",
       "      <td>0.0</td>\n",
       "      <td>0.0</td>\n",
       "      <td>0.0</td>\n",
       "      <td>0.0</td>\n",
       "      <td>0.0</td>\n",
       "      <td>0.0</td>\n",
       "    </tr>\n",
       "    <tr>\n",
       "      <th>-9212075797126931087</th>\n",
       "      <td>0.0</td>\n",
       "      <td>0.0</td>\n",
       "      <td>0.0</td>\n",
       "      <td>0.0</td>\n",
       "      <td>0.0</td>\n",
       "      <td>0.0</td>\n",
       "      <td>0.0</td>\n",
       "      <td>0.0</td>\n",
       "      <td>0.0</td>\n",
       "      <td>0.0</td>\n",
       "      <td>...</td>\n",
       "      <td>0.0</td>\n",
       "      <td>0.0</td>\n",
       "      <td>0.0</td>\n",
       "      <td>0.0</td>\n",
       "      <td>0.0</td>\n",
       "      <td>0.0</td>\n",
       "      <td>0.0</td>\n",
       "      <td>0.0</td>\n",
       "      <td>0.0</td>\n",
       "      <td>0.0</td>\n",
       "    </tr>\n",
       "  </tbody>\n",
       "</table>\n",
       "<p>2 rows × 2491 columns</p>\n",
       "</div>"
      ],
      "text/plain": [
       "item_id               -9222795471790223670  -9216926795620865886  \\\n",
       "consumer_id                                                        \n",
       "-9223121837663643404                   0.0                   0.0   \n",
       "-9212075797126931087                   0.0                   0.0   \n",
       "\n",
       "item_id               -9194572880052200111  -9192549002213406534  \\\n",
       "consumer_id                                                        \n",
       "-9223121837663643404                   0.0                   0.0   \n",
       "-9212075797126931087                   0.0                   0.0   \n",
       "\n",
       "item_id               -9190737901804729417  -9189659052158407108  \\\n",
       "consumer_id                                                        \n",
       "-9223121837663643404                   0.0                   0.0   \n",
       "-9212075797126931087                   0.0                   0.0   \n",
       "\n",
       "item_id               -9176143510534135851  -9166778629773133902  \\\n",
       "consumer_id                                                        \n",
       "-9223121837663643404                   0.0                   0.0   \n",
       "-9212075797126931087                   0.0                   0.0   \n",
       "\n",
       "item_id               -9161596996229760398  -9160910454530522563  ...  \\\n",
       "consumer_id                                                       ...   \n",
       "-9223121837663643404                   0.0                   0.0  ...   \n",
       "-9212075797126931087                   0.0                   0.0  ...   \n",
       "\n",
       "item_id                9191014301634017491   9207286802575546269  \\\n",
       "consumer_id                                                        \n",
       "-9223121837663643404                   0.0                   0.0   \n",
       "-9212075797126931087                   0.0                   0.0   \n",
       "\n",
       "item_id                9208127165664287660   9209629151177723638  \\\n",
       "consumer_id                                                        \n",
       "-9223121837663643404                   0.0                   0.0   \n",
       "-9212075797126931087                   0.0                   0.0   \n",
       "\n",
       "item_id                9209886322932807692   9213260650272029784  \\\n",
       "consumer_id                                                        \n",
       "-9223121837663643404                   0.0                   0.0   \n",
       "-9212075797126931087                   0.0                   0.0   \n",
       "\n",
       "item_id                9215261273565326920   9217155070834564627  \\\n",
       "consumer_id                                                        \n",
       "-9223121837663643404                   0.0                   0.0   \n",
       "-9212075797126931087                   0.0                   0.0   \n",
       "\n",
       "item_id                9220445660318725468   9222265156747237864  \n",
       "consumer_id                                                       \n",
       "-9223121837663643404                   0.0                   0.0  \n",
       "-9212075797126931087                   0.0                   0.0  \n",
       "\n",
       "[2 rows x 2491 columns]"
      ]
     },
     "execution_count": 194,
     "metadata": {},
     "output_type": "execute_result"
    }
   ],
   "source": [
    "data_matrix_test.head(2)"
   ]
  },
  {
   "cell_type": "code",
   "execution_count": 195,
   "id": "206c7a2d",
   "metadata": {},
   "outputs": [
    {
     "data": {
      "text/plain": [
       "array([[0.690344  , 0.47667181, 0.49386656, ..., 0.45295296, 0.955164  ,\n",
       "        0.15387906],\n",
       "       [0.04484225, 1.60225011, 0.03924877, ..., 0.05114988, 0.45580575,\n",
       "        0.08673937],\n",
       "       [0.08006159, 4.00619943, 0.41458854, ..., 0.10845297, 0.68625952,\n",
       "        0.08912569],\n",
       "       ...,\n",
       "       [0.04134812, 0.52165472, 0.49509347, ..., 0.09833712, 0.43341653,\n",
       "        0.06556695],\n",
       "       [0.3283663 , 0.71132135, 0.69706292, ..., 0.22545299, 0.7034035 ,\n",
       "        0.06643182],\n",
       "       [0.11880123, 0.17652085, 1.37603858, ..., 0.12601026, 1.02583553,\n",
       "        0.0788087 ]])"
      ]
     },
     "execution_count": 195,
     "metadata": {},
     "output_type": "execute_result"
    }
   ],
   "source": [
    "item_prediction"
   ]
  },
  {
   "cell_type": "code",
   "execution_count": 196,
   "id": "8345d475",
   "metadata": {},
   "outputs": [
    {
     "data": {
      "text/plain": [
       "array([1., 1., 1., ..., 1., 1., 1.])"
      ]
     },
     "execution_count": 196,
     "metadata": {},
     "output_type": "execute_result"
    }
   ],
   "source": [
    "# converting data matrix test to numpy array\n",
    "data_matrix_test_array = data_matrix_test.to_numpy()\n",
    "data_matrix_test_array[data_matrix_test_array.nonzero()]"
   ]
  },
  {
   "cell_type": "markdown",
   "id": "8e8835fa",
   "metadata": {},
   "source": [
    "### MAE: Mean Absolute Error"
   ]
  },
  {
   "cell_type": "code",
   "execution_count": 197,
   "id": "97f18ef7",
   "metadata": {},
   "outputs": [],
   "source": [
    "# creating a function to calculate mean absolute error\n",
    "def mae(prediction, ground_truth):\n",
    "    prediction = prediction[ground_truth.nonzero()]    \n",
    "    ground_truth = ground_truth[ground_truth.nonzero()]    \n",
    "    return mean_absolute_error(prediction, ground_truth)"
   ]
  },
  {
   "cell_type": "code",
   "execution_count": 198,
   "id": "5c1d985a",
   "metadata": {},
   "outputs": [
    {
     "data": {
      "text/plain": [
       "1.0621929963939751"
      ]
     },
     "execution_count": 198,
     "metadata": {},
     "output_type": "execute_result"
    }
   ],
   "source": [
    "mae(item_prediction,data_matrix_test_array)"
   ]
  },
  {
   "cell_type": "markdown",
   "id": "8b669b3c",
   "metadata": {},
   "source": [
    "### RMSE: Root Mean Squared Error"
   ]
  },
  {
   "cell_type": "code",
   "execution_count": 199,
   "id": "fa379af2",
   "metadata": {},
   "outputs": [],
   "source": [
    "# creating a function to calculate root mean squared error\n",
    "def rmse(prediction, ground_truth):\n",
    "    prediction = prediction[ground_truth.nonzero()]\n",
    "    ground_truth = ground_truth[ground_truth.nonzero()]\n",
    "    return sqrt(mean_squared_error(prediction, ground_truth))"
   ]
  },
  {
   "cell_type": "code",
   "execution_count": 200,
   "id": "404a6c95",
   "metadata": {},
   "outputs": [
    {
     "data": {
      "text/plain": [
       "1.408718633854411"
      ]
     },
     "execution_count": 200,
     "metadata": {},
     "output_type": "execute_result"
    }
   ],
   "source": [
    "rmse(item_prediction,data_matrix_test_array)"
   ]
  },
  {
   "cell_type": "markdown",
   "id": "df4b1744",
   "metadata": {},
   "source": [
    "### Precision@K"
   ]
  },
  {
   "cell_type": "code",
   "execution_count": 201,
   "id": "1d5c0bf0",
   "metadata": {},
   "outputs": [],
   "source": [
    "pred_set = merged_user['item_id'].values[:10]"
   ]
  },
  {
   "cell_type": "code",
   "execution_count": 202,
   "id": "4ae5c108",
   "metadata": {},
   "outputs": [
    {
     "data": {
      "text/plain": [
       "array([-6843047699859121724, -8208801367848627943, -4333957157636611418,\n",
       "        8901449108040307914,  9175693555063886126, -3191013159715472435,\n",
       "       -8954346068661072425,  1992928170409443117,  5854206600849997966,\n",
       "        6989198691754522425], dtype=int64)"
      ]
     },
     "execution_count": 202,
     "metadata": {},
     "output_type": "execute_result"
    }
   ],
   "source": [
    "pred_set"
   ]
  },
  {
   "cell_type": "code",
   "execution_count": 203,
   "id": "96898df1",
   "metadata": {},
   "outputs": [
    {
     "data": {
      "text/html": [
       "<div>\n",
       "<style scoped>\n",
       "    .dataframe tbody tr th:only-of-type {\n",
       "        vertical-align: middle;\n",
       "    }\n",
       "\n",
       "    .dataframe tbody tr th {\n",
       "        vertical-align: top;\n",
       "    }\n",
       "\n",
       "    .dataframe thead th {\n",
       "        text-align: right;\n",
       "    }\n",
       "</style>\n",
       "<table border=\"1\" class=\"dataframe\">\n",
       "  <thead>\n",
       "    <tr style=\"text-align: right;\">\n",
       "      <th></th>\n",
       "      <th>consumer_id</th>\n",
       "      <th>item_id</th>\n",
       "      <th>ratings</th>\n",
       "    </tr>\n",
       "  </thead>\n",
       "  <tbody>\n",
       "    <tr>\n",
       "      <th>0</th>\n",
       "      <td>-8845298781299428018</td>\n",
       "      <td>-3499919498720038879</td>\n",
       "      <td>1</td>\n",
       "    </tr>\n",
       "    <tr>\n",
       "      <th>1</th>\n",
       "      <td>-1032019229384696495</td>\n",
       "      <td>8890720798209849691</td>\n",
       "      <td>1</td>\n",
       "    </tr>\n",
       "    <tr>\n",
       "      <th>2</th>\n",
       "      <td>-1130272294246983140</td>\n",
       "      <td>310515487419366995</td>\n",
       "      <td>1</td>\n",
       "    </tr>\n",
       "    <tr>\n",
       "      <th>3</th>\n",
       "      <td>344280948527967603</td>\n",
       "      <td>310515487419366995</td>\n",
       "      <td>5</td>\n",
       "    </tr>\n",
       "    <tr>\n",
       "      <th>4</th>\n",
       "      <td>-445337111692715325</td>\n",
       "      <td>-7820640624231356730</td>\n",
       "      <td>1</td>\n",
       "    </tr>\n",
       "    <tr>\n",
       "      <th>5</th>\n",
       "      <td>-8763398617720485024</td>\n",
       "      <td>310515487419366995</td>\n",
       "      <td>1</td>\n",
       "    </tr>\n",
       "    <tr>\n",
       "      <th>6</th>\n",
       "      <td>3609194402293569455</td>\n",
       "      <td>-8864073373672512525</td>\n",
       "      <td>1</td>\n",
       "    </tr>\n",
       "    <tr>\n",
       "      <th>7</th>\n",
       "      <td>4254153380739593270</td>\n",
       "      <td>-1492913151930215984</td>\n",
       "      <td>1</td>\n",
       "    </tr>\n",
       "    <tr>\n",
       "      <th>8</th>\n",
       "      <td>344280948527967603</td>\n",
       "      <td>310515487419366995</td>\n",
       "      <td>1</td>\n",
       "    </tr>\n",
       "    <tr>\n",
       "      <th>9</th>\n",
       "      <td>3609194402293569455</td>\n",
       "      <td>3064370296170038610</td>\n",
       "      <td>1</td>\n",
       "    </tr>\n",
       "  </tbody>\n",
       "</table>\n",
       "</div>"
      ],
      "text/plain": [
       "           consumer_id              item_id  ratings\n",
       "0 -8845298781299428018 -3499919498720038879        1\n",
       "1 -1032019229384696495  8890720798209849691        1\n",
       "2 -1130272294246983140   310515487419366995        1\n",
       "3   344280948527967603   310515487419366995        5\n",
       "4  -445337111692715325 -7820640624231356730        1\n",
       "5 -8763398617720485024   310515487419366995        1\n",
       "6  3609194402293569455 -8864073373672512525        1\n",
       "7  4254153380739593270 -1492913151930215984        1\n",
       "8   344280948527967603   310515487419366995        1\n",
       "9  3609194402293569455  3064370296170038610        1"
      ]
     },
     "execution_count": 203,
     "metadata": {},
     "output_type": "execute_result"
    }
   ],
   "source": [
    "ratings_df.head(10)"
   ]
  },
  {
   "cell_type": "code",
   "execution_count": 204,
   "id": "42cb8aaa",
   "metadata": {},
   "outputs": [
    {
     "data": {
      "text/plain": [
       "(34, 3)"
      ]
     },
     "execution_count": 204,
     "metadata": {},
     "output_type": "execute_result"
    }
   ],
   "source": [
    "# shape of the dataframe for article suggestion on any random user\n",
    "ratings_df[(ratings_df['consumer_id']==-8845298781299428018) & (ratings_df['ratings']>3)].sort_values(by='ratings',ascending=False).shape"
   ]
  },
  {
   "cell_type": "code",
   "execution_count": 205,
   "id": "08d871ae",
   "metadata": {},
   "outputs": [
    {
     "data": {
      "text/html": [
       "<div>\n",
       "<style scoped>\n",
       "    .dataframe tbody tr th:only-of-type {\n",
       "        vertical-align: middle;\n",
       "    }\n",
       "\n",
       "    .dataframe tbody tr th {\n",
       "        vertical-align: top;\n",
       "    }\n",
       "\n",
       "    .dataframe thead th {\n",
       "        text-align: right;\n",
       "    }\n",
       "</style>\n",
       "<table border=\"1\" class=\"dataframe\">\n",
       "  <thead>\n",
       "    <tr style=\"text-align: right;\">\n",
       "      <th></th>\n",
       "      <th>consumer_id</th>\n",
       "      <th>item_id</th>\n",
       "      <th>ratings</th>\n",
       "    </tr>\n",
       "  </thead>\n",
       "  <tbody>\n",
       "    <tr>\n",
       "      <th>14486</th>\n",
       "      <td>-8845298781299428018</td>\n",
       "      <td>-4228415104574264137</td>\n",
       "      <td>5</td>\n",
       "    </tr>\n",
       "    <tr>\n",
       "      <th>7529</th>\n",
       "      <td>-8845298781299428018</td>\n",
       "      <td>1339353160969606996</td>\n",
       "      <td>5</td>\n",
       "    </tr>\n",
       "    <tr>\n",
       "      <th>69083</th>\n",
       "      <td>-8845298781299428018</td>\n",
       "      <td>3566197569262766169</td>\n",
       "      <td>5</td>\n",
       "    </tr>\n",
       "    <tr>\n",
       "      <th>66947</th>\n",
       "      <td>-8845298781299428018</td>\n",
       "      <td>-532999578436827210</td>\n",
       "      <td>5</td>\n",
       "    </tr>\n",
       "    <tr>\n",
       "      <th>27837</th>\n",
       "      <td>-8845298781299428018</td>\n",
       "      <td>6016376495317032228</td>\n",
       "      <td>5</td>\n",
       "    </tr>\n",
       "  </tbody>\n",
       "</table>\n",
       "</div>"
      ],
      "text/plain": [
       "               consumer_id              item_id  ratings\n",
       "14486 -8845298781299428018 -4228415104574264137        5\n",
       "7529  -8845298781299428018  1339353160969606996        5\n",
       "69083 -8845298781299428018  3566197569262766169        5\n",
       "66947 -8845298781299428018  -532999578436827210        5\n",
       "27837 -8845298781299428018  6016376495317032228        5"
      ]
     },
     "execution_count": 205,
     "metadata": {},
     "output_type": "execute_result"
    }
   ],
   "source": [
    "ratings_df[(ratings_df['consumer_id']==-8845298781299428018) & (ratings_df['ratings']>3)].sort_values(by='ratings',ascending=False).head()"
   ]
  },
  {
   "cell_type": "code",
   "execution_count": 206,
   "id": "c3015e1e",
   "metadata": {},
   "outputs": [],
   "source": [
    "# storing the filtered rating(>3) in a seperate dataframe for the particular user\n",
    "ratings_filtered = ratings_df[(ratings_df['consumer_id']==-8845298781299428018) & (ratings_df['ratings']>3)].sort_values(by='ratings',ascending=False)"
   ]
  },
  {
   "cell_type": "code",
   "execution_count": 207,
   "id": "755cce87",
   "metadata": {},
   "outputs": [
    {
     "data": {
      "text/html": [
       "<div>\n",
       "<style scoped>\n",
       "    .dataframe tbody tr th:only-of-type {\n",
       "        vertical-align: middle;\n",
       "    }\n",
       "\n",
       "    .dataframe tbody tr th {\n",
       "        vertical-align: top;\n",
       "    }\n",
       "\n",
       "    .dataframe thead th {\n",
       "        text-align: right;\n",
       "    }\n",
       "</style>\n",
       "<table border=\"1\" class=\"dataframe\">\n",
       "  <thead>\n",
       "    <tr style=\"text-align: right;\">\n",
       "      <th></th>\n",
       "      <th>consumer_id</th>\n",
       "      <th>item_id</th>\n",
       "      <th>ratings</th>\n",
       "    </tr>\n",
       "  </thead>\n",
       "  <tbody>\n",
       "    <tr>\n",
       "      <th>14486</th>\n",
       "      <td>-8845298781299428018</td>\n",
       "      <td>-4228415104574264137</td>\n",
       "      <td>5</td>\n",
       "    </tr>\n",
       "    <tr>\n",
       "      <th>7529</th>\n",
       "      <td>-8845298781299428018</td>\n",
       "      <td>1339353160969606996</td>\n",
       "      <td>5</td>\n",
       "    </tr>\n",
       "    <tr>\n",
       "      <th>69083</th>\n",
       "      <td>-8845298781299428018</td>\n",
       "      <td>3566197569262766169</td>\n",
       "      <td>5</td>\n",
       "    </tr>\n",
       "    <tr>\n",
       "      <th>66947</th>\n",
       "      <td>-8845298781299428018</td>\n",
       "      <td>-532999578436827210</td>\n",
       "      <td>5</td>\n",
       "    </tr>\n",
       "    <tr>\n",
       "      <th>27837</th>\n",
       "      <td>-8845298781299428018</td>\n",
       "      <td>6016376495317032228</td>\n",
       "      <td>5</td>\n",
       "    </tr>\n",
       "  </tbody>\n",
       "</table>\n",
       "</div>"
      ],
      "text/plain": [
       "               consumer_id              item_id  ratings\n",
       "14486 -8845298781299428018 -4228415104574264137        5\n",
       "7529  -8845298781299428018  1339353160969606996        5\n",
       "69083 -8845298781299428018  3566197569262766169        5\n",
       "66947 -8845298781299428018  -532999578436827210        5\n",
       "27837 -8845298781299428018  6016376495317032228        5"
      ]
     },
     "execution_count": 207,
     "metadata": {},
     "output_type": "execute_result"
    }
   ],
   "source": [
    "ratings_filtered.head()"
   ]
  },
  {
   "cell_type": "code",
   "execution_count": 208,
   "id": "2e146ec1",
   "metadata": {},
   "outputs": [],
   "source": [
    "relevant_set = ratings_filtered['item_id'].values"
   ]
  },
  {
   "cell_type": "code",
   "execution_count": 209,
   "id": "d6bf9533",
   "metadata": {},
   "outputs": [
    {
     "data": {
      "text/plain": [
       "19"
      ]
     },
     "execution_count": 209,
     "metadata": {},
     "output_type": "execute_result"
    }
   ],
   "source": [
    "# number of unique articles read by the particular user\n",
    "ratings_filtered['item_id'].nunique()"
   ]
  },
  {
   "cell_type": "code",
   "execution_count": 210,
   "id": "817db157",
   "metadata": {},
   "outputs": [
    {
     "data": {
      "text/plain": [
       "array([-6843047699859121724, -8208801367848627943, -4333957157636611418,\n",
       "        8901449108040307914,  9175693555063886126, -3191013159715472435,\n",
       "       -8954346068661072425,  1992928170409443117,  5854206600849997966,\n",
       "        6989198691754522425], dtype=int64)"
      ]
     },
     "execution_count": 210,
     "metadata": {},
     "output_type": "execute_result"
    }
   ],
   "source": [
    "pred_set"
   ]
  },
  {
   "cell_type": "code",
   "execution_count": 211,
   "id": "9825b4e4",
   "metadata": {},
   "outputs": [
    {
     "data": {
      "text/plain": [
       "[]"
      ]
     },
     "execution_count": 211,
     "metadata": {},
     "output_type": "execute_result"
    }
   ],
   "source": [
    "# getting the common articles from the actual articles read by the user and predicted through model\n",
    "list(set(relevant_set) & set(pred_set)) "
   ]
  },
  {
   "cell_type": "code",
   "execution_count": 212,
   "id": "02b3f541",
   "metadata": {},
   "outputs": [],
   "source": [
    "precision_at_10 = len(list(set(relevant_set) & set(pred_set)))/10"
   ]
  },
  {
   "cell_type": "code",
   "execution_count": 213,
   "id": "90953d89",
   "metadata": {},
   "outputs": [
    {
     "data": {
      "text/plain": [
       "0.0"
      ]
     },
     "execution_count": 213,
     "metadata": {},
     "output_type": "execute_result"
    }
   ],
   "source": [
    "precision_at_10"
   ]
  },
  {
   "cell_type": "markdown",
   "id": "6e0ef9eb",
   "metadata": {},
   "source": [
    "### Global Average Precision@K"
   ]
  },
  {
   "cell_type": "code",
   "execution_count": 214,
   "id": "cd37850a",
   "metadata": {},
   "outputs": [],
   "source": [
    "user_index=-1032019229384696495"
   ]
  },
  {
   "cell_type": "code",
   "execution_count": 215,
   "id": "88ea15b7",
   "metadata": {},
   "outputs": [],
   "source": [
    "user_relevant_set = ratings_df[(ratings_df['consumer_id']==-1032019229384696495) & (ratings_df['ratings']>3)].sort_values(by='ratings',ascending=False)['item_id'].tolist()"
   ]
  },
  {
   "cell_type": "code",
   "execution_count": 216,
   "id": "dfa4eddb",
   "metadata": {},
   "outputs": [
    {
     "data": {
      "text/plain": [
       "[-377975173223377441,\n",
       " -860751600992244121,\n",
       " -6727357771678896471,\n",
       " 882422233694040097,\n",
       " 3269302169678465882,\n",
       " 1590841424376000970,\n",
       " 3779434447835779494,\n",
       " -4262964715347041233,\n",
       " -3662111110237135231,\n",
       " -6980020268309524947,\n",
       " 7526364197140419661,\n",
       " -3700095596785790870,\n",
       " 5314107418764884230,\n",
       " -5027816744653977347,\n",
       " 7155061818771055780,\n",
       " 6340108943344143104,\n",
       " 621816023396605502,\n",
       " 7395435905985567130,\n",
       " -7463305179076477879,\n",
       " 8890720798209849691,\n",
       " 7813943820850065086,\n",
       " 3320201327008235211,\n",
       " 6519443272707698315,\n",
       " 6783622248311192269,\n",
       " -3716447017462787559,\n",
       " 8962537427807366481,\n",
       " 2731915238980099593,\n",
       " -4770861947600256785,\n",
       " -7399665664688732365,\n",
       " 7400903238402587728,\n",
       " -9222795471790223670,\n",
       " -3161714324304758767,\n",
       " -4216050818952952471,\n",
       " 2822049545552366036,\n",
       " -8854146354650101086,\n",
       " -1556169727291354289,\n",
       " 1005751836898964351,\n",
       " -4228415104574264137,\n",
       " 4117174730087083056,\n",
       " -5255285107284514595,\n",
       " 1881534532776527237,\n",
       " -4205346868684833897,\n",
       " 8413971365124666862,\n",
       " -6467708104873171151,\n",
       " 7804826445069770894,\n",
       " -8771338872124599367,\n",
       " -8377626164558006982,\n",
       " 5237574390644778994,\n",
       " 5533752987392101383,\n",
       " 3566197569262766169,\n",
       " 7459726589306441015,\n",
       " -4293262855938209141,\n",
       " -3870325027932266414,\n",
       " 2857117417189640073,\n",
       " 4671890082953295903,\n",
       " -4483059513836093676,\n",
       " 1580124381109623727,\n",
       " 6847460841437230342,\n",
       " -401664538366009049,\n",
       " 6389624212149850449,\n",
       " -8190931845319543363,\n",
       " -3751249597609107201,\n",
       " 310515487419366995,\n",
       " -8615008595949058842,\n",
       " 8786528563105605644,\n",
       " 3306277069425849869,\n",
       " 8289311442635691404,\n",
       " -2948321821574578861,\n",
       " 2384931701643938149,\n",
       " 7277161137091492767,\n",
       " -2683134512107439488,\n",
       " -8800029253812071912,\n",
       " -5658245291907121574,\n",
       " -8900113512825364282,\n",
       " 1881534532776527237,\n",
       " 1580124381109623727,\n",
       " -8900113512825364282,\n",
       " 1005751836898964351,\n",
       " -3870325027932266414,\n",
       " -4770861947600256785,\n",
       " 8413971365124666862,\n",
       " 1881534532776527237,\n",
       " -4262964715347041233,\n",
       " -1453783314552286835,\n",
       " 6847460841437230342,\n",
       " -4216050818952952471,\n",
       " -7399665664688732365,\n",
       " -4228415104574264137,\n",
       " 5827857898404399503,\n",
       " -3954182109690207118,\n",
       " 6847460841437230342,\n",
       " 1005751836898964351,\n",
       " 8962537427807366481,\n",
       " -3161714324304758767,\n",
       " 2822049545552366036,\n",
       " -8900113512825364282,\n",
       " 3566197569262766169,\n",
       " -8900113512825364282,\n",
       " 8962537427807366481,\n",
       " 2857117417189640073,\n",
       " 1881534532776527237,\n",
       " -860751600992244121,\n",
       " -3700095596785790870,\n",
       " 5237574390644778994,\n",
       " 5533752987392101383,\n",
       " -5027816744653977347,\n",
       " 7155061818771055780,\n",
       " -8615008595949058842,\n",
       " 8289311442635691404,\n",
       " 6340108943344143104,\n",
       " 621816023396605502,\n",
       " 5237574390644778994,\n",
       " -5658245291907121574,\n",
       " 7813943820850065086,\n",
       " -8800029253812071912,\n",
       " -8377626164558006982,\n",
       " 2857117417189640073,\n",
       " -3751249597609107201,\n",
       " 7526364197140419661,\n",
       " 1005751836898964351,\n",
       " -4262964715347041233,\n",
       " 8786528563105605644,\n",
       " 1005751836898964351,\n",
       " -4293262855938209141,\n",
       " -3716447017462787559,\n",
       " -4262964715347041233,\n",
       " -3870325027932266414,\n",
       " 4671890082953295903,\n",
       " 6519443272707698315,\n",
       " 882422233694040097,\n",
       " -4483059513836093676,\n",
       " 1590841424376000970,\n",
       " 6389624212149850449,\n",
       " 3779434447835779494,\n",
       " -3662111110237135231,\n",
       " -8190931845319543363,\n",
       " 5314107418764884230,\n",
       " -4205346868684833897,\n",
       " 2731915238980099593,\n",
       " -5181489804915739633,\n",
       " 2602738827388230683,\n",
       " 310515487419366995,\n",
       " 2841458704671711663,\n",
       " -3820497466351868775,\n",
       " -3820497466351868775,\n",
       " -7714713652743527644,\n",
       " 4118743389464105405,\n",
       " -2948321821574578861,\n",
       " -2683134512107439488,\n",
       " 5979676385148714519,\n",
       " 511891900317865118,\n",
       " 3149164017776669829,\n",
       " -6467708104873171151,\n",
       " -3206777048078326150,\n",
       " -6347212504547574224,\n",
       " -158184760257182670,\n",
       " 9217155070834564627,\n",
       " 3320201327008235211,\n",
       " 8890720798209849691,\n",
       " -7463305179076477879,\n",
       " 7395435905985567130,\n",
       " 7620697593009487898,\n",
       " -1901742495252324928,\n",
       " 3149164017776669829,\n",
       " -4233177915193302509,\n",
       " 4153717385931831462,\n",
       " -1453783314552286835,\n",
       " 5979676385148714519,\n",
       " -1114438937697017987,\n",
       " 3306277069425849869,\n",
       " 7277161137091492767,\n",
       " 7277161137091492767,\n",
       " 7938100642081250873,\n",
       " 2072448887839540892,\n",
       " 7277161137091492767,\n",
       " -401664538366009049,\n",
       " -1453783314552286835,\n",
       " -4754223659064624252,\n",
       " 2857117417189640073,\n",
       " 5684817723169964056,\n",
       " 8878031598946138458,\n",
       " 7459726589306441015,\n",
       " -6644942243927487010,\n",
       " 9207286802575546269,\n",
       " 7767869406844505704,\n",
       " -2038869595290705317,\n",
       " -5924996404988010,\n",
       " -2516726696296387544,\n",
       " 7229629480273331039,\n",
       " 2072448887839540892,\n",
       " -8279505492976427918,\n",
       " -6484638837208285334,\n",
       " -4571929941432664145,\n",
       " -538948733779286129,\n",
       " -8819557474068526071,\n",
       " -6192959589652486637,\n",
       " 7804826445069770894,\n",
       " -1453783314552286835,\n",
       " 8871666435351703640,\n",
       " -4205346868684833897,\n",
       " 4328888515190573663,\n",
       " -5255285107284514595,\n",
       " 4117174730087083056,\n",
       " -1556169727291354289,\n",
       " -6347212504547574224,\n",
       " 2271793263120018251,\n",
       " 1137471872769164371,\n",
       " 408569329455206654,\n",
       " -1313614305945895108,\n",
       " -8854146354650101086,\n",
       " -6980020268309524947,\n",
       " -377975173223377441,\n",
       " 2916072977192006313,\n",
       " 1179017557429431126,\n",
       " -7331393944609614247,\n",
       " -8618420761918493321,\n",
       " -9222795471790223670,\n",
       " 7400903238402587728,\n",
       " -5515204090203464377,\n",
       " -8771338872124599367,\n",
       " -7463305179076477879,\n",
       " 6783622248311192269,\n",
       " 4118743389464105405,\n",
       " 4118743389464105405,\n",
       " 1318981494172475806,\n",
       " 1318981494172475806,\n",
       " -8099145207792678586,\n",
       " -3750879736572068916,\n",
       " -7331393944609614247,\n",
       " 7024819429467163565,\n",
       " -6980020268309524947,\n",
       " 1595230810451459837,\n",
       " -538948733779286129,\n",
       " 7124632953201847659,\n",
       " -6347212504547574224,\n",
       " 8596997246990922861,\n",
       " 5688279681867464747,\n",
       " 3269302169678465882,\n",
       " 5688279681867464747,\n",
       " -7891960098457323262,\n",
       " -6727357771678896471,\n",
       " 2917561522815946740,\n",
       " 1954074927376897165,\n",
       " -724699218170106849,\n",
       " 910894669274456978,\n",
       " 2384931701643938149]"
      ]
     },
     "execution_count": 216,
     "metadata": {},
     "output_type": "execute_result"
    }
   ],
   "source": [
    "user_relevant_set"
   ]
  },
  {
   "cell_type": "code",
   "execution_count": 217,
   "id": "7d224ad4",
   "metadata": {},
   "outputs": [],
   "source": [
    "# sorting the predictions/recommendations on the basis of above scores\n",
    "user_predicted_set = prediction_df.loc[user_index].sort_values(ascending=False)[:10].index.tolist()"
   ]
  },
  {
   "cell_type": "code",
   "execution_count": 218,
   "id": "753c0c0c",
   "metadata": {},
   "outputs": [
    {
     "data": {
      "text/plain": [
       "[1356221992133852808,\n",
       " -8208801367848627943,\n",
       " 882422233694040097,\n",
       " -4029704725707465084,\n",
       " 8224860111193157980,\n",
       " -6783772548752091658,\n",
       " -3716447017462787559,\n",
       " 8890720798209849691,\n",
       " 2072448887839540892,\n",
       " 6044362651232258738]"
      ]
     },
     "execution_count": 218,
     "metadata": {},
     "output_type": "execute_result"
    }
   ],
   "source": [
    "user_predicted_set"
   ]
  },
  {
   "cell_type": "code",
   "execution_count": 219,
   "id": "bab9a716",
   "metadata": {},
   "outputs": [
    {
     "data": {
      "text/plain": [
       "4"
      ]
     },
     "execution_count": 219,
     "metadata": {},
     "output_type": "execute_result"
    }
   ],
   "source": [
    "# number of common articles for the user and predicted by the model \n",
    "len(list(set(user_relevant_set) & set(user_predicted_set)))"
   ]
  },
  {
   "cell_type": "markdown",
   "id": "a36fb85c",
   "metadata": {},
   "source": [
    "### Modularize the code"
   ]
  },
  {
   "cell_type": "code",
   "execution_count": 220,
   "id": "6976a4ba",
   "metadata": {},
   "outputs": [],
   "source": [
    "# initializing the global precision value\n",
    "global_precision = 0"
   ]
  },
  {
   "cell_type": "code",
   "execution_count": 221,
   "id": "bce4c71a",
   "metadata": {},
   "outputs": [],
   "source": [
    "# creating list of all the consumer_ids\n",
    "user_index = list(ratings_df['consumer_id'].unique())"
   ]
  },
  {
   "cell_type": "code",
   "execution_count": 222,
   "id": "dc193e7d",
   "metadata": {},
   "outputs": [
    {
     "name": "stdout",
     "output_type": "stream",
     "text": [
      "0.6\n",
      "0.4\n",
      "0.2\n",
      "0.2\n",
      "0.0\n",
      "0.0\n",
      "0.1\n",
      "0.0\n",
      "0.4\n",
      "0.0\n",
      "0.0\n",
      "0.0\n",
      "0.4\n",
      "0.1\n",
      "0.1\n",
      "0.1\n",
      "0.0\n",
      "0.1\n",
      "0.1\n",
      "0.0\n",
      "0.1\n",
      "0.1\n",
      "0.1\n",
      "0.0\n",
      "0.0\n",
      "0.1\n",
      "0.2\n",
      "0.4\n",
      "0.0\n",
      "0.1\n",
      "0.0\n",
      "0.0\n",
      "0.0\n",
      "0.2\n",
      "0.0\n",
      "0.4\n",
      "0.1\n",
      "0.0\n",
      "0.3\n",
      "0.0\n",
      "0.0\n",
      "0.2\n",
      "0.0\n",
      "0.0\n",
      "0.0\n",
      "0.5\n",
      "0.1\n",
      "0.0\n",
      "0.2\n",
      "0.0\n",
      "0.0\n",
      "0.3\n",
      "0.1\n",
      "0.1\n",
      "0.1\n",
      "0.1\n",
      "0.0\n",
      "0.0\n",
      "0.0\n",
      "0.0\n",
      "0.1\n",
      "0.0\n",
      "0.4\n",
      "0.0\n",
      "0.0\n",
      "0.1\n",
      "0.0\n",
      "0.1\n",
      "0.6\n",
      "0.0\n",
      "0.0\n",
      "0.0\n",
      "0.0\n",
      "0.6\n",
      "0.5\n",
      "0.0\n",
      "0.0\n",
      "0.0\n",
      "0.0\n",
      "0.0\n",
      "0.1\n",
      "0.2\n",
      "0.0\n",
      "0.9\n",
      "0.3\n",
      "0.1\n",
      "0.0\n",
      "0.0\n",
      "0.1\n",
      "0.1\n",
      "0.2\n",
      "0.0\n",
      "0.0\n",
      "0.0\n",
      "0.0\n",
      "0.0\n",
      "0.6\n",
      "0.3\n",
      "0.1\n",
      "0.0\n",
      "0.0\n",
      "0.1\n",
      "0.4\n",
      "0.0\n",
      "0.0\n",
      "0.0\n",
      "0.0\n",
      "0.1\n",
      "0.0\n",
      "0.4\n",
      "0.2\n",
      "0.0\n",
      "0.4\n",
      "0.1\n",
      "0.1\n",
      "0.0\n",
      "0.1\n",
      "0.0\n",
      "0.2\n",
      "0.0\n",
      "0.0\n",
      "0.0\n",
      "0.0\n",
      "0.0\n",
      "0.1\n",
      "0.5\n",
      "0.1\n",
      "0.2\n",
      "0.0\n",
      "0.3\n",
      "0.0\n",
      "0.0\n",
      "0.1\n",
      "0.0\n",
      "0.0\n",
      "0.0\n",
      "0.1\n",
      "0.0\n",
      "0.0\n",
      "0.0\n",
      "0.0\n",
      "0.1\n",
      "0.1\n",
      "0.0\n",
      "0.3\n",
      "0.0\n",
      "0.0\n",
      "0.0\n",
      "0.0\n",
      "0.1\n",
      "0.3\n",
      "0.0\n",
      "0.0\n",
      "0.1\n",
      "0.2\n",
      "0.1\n",
      "0.1\n",
      "0.0\n",
      "0.0\n",
      "0.0\n",
      "0.0\n",
      "0.0\n",
      "0.0\n",
      "0.0\n",
      "0.0\n",
      "0.0\n",
      "0.0\n",
      "0.1\n",
      "0.0\n",
      "0.1\n",
      "0.2\n",
      "0.1\n",
      "0.0\n",
      "0.0\n",
      "0.0\n",
      "0.0\n",
      "0.2\n",
      "0.0\n",
      "0.0\n",
      "0.0\n",
      "0.0\n",
      "0.0\n",
      "0.0\n",
      "0.0\n",
      "0.0\n",
      "0.1\n",
      "0.0\n",
      "0.0\n",
      "0.0\n",
      "0.4\n",
      "0.0\n",
      "0.0\n",
      "0.1\n",
      "0.0\n",
      "0.0\n",
      "0.5\n",
      "0.0\n",
      "0.2\n",
      "0.1\n",
      "0.0\n",
      "0.0\n",
      "0.0\n",
      "0.0\n",
      "0.0\n",
      "0.0\n",
      "0.2\n",
      "0.0\n",
      "0.0\n",
      "0.3\n",
      "0.0\n"
     ]
    },
    {
     "ename": "KeyError",
     "evalue": "8814360237760288963",
     "output_type": "error",
     "traceback": [
      "\u001b[1;31m---------------------------------------------------------------------------\u001b[0m",
      "\u001b[1;31mKeyError\u001b[0m                                  Traceback (most recent call last)",
      "File \u001b[1;32m~\\anaconda3\\envs\\nlp\\lib\\site-packages\\pandas\\core\\indexes\\base.py:3629\u001b[0m, in \u001b[0;36mIndex.get_loc\u001b[1;34m(self, key, method, tolerance)\u001b[0m\n\u001b[0;32m   3628\u001b[0m \u001b[38;5;28;01mtry\u001b[39;00m:\n\u001b[1;32m-> 3629\u001b[0m     \u001b[38;5;28;01mreturn\u001b[39;00m \u001b[38;5;28;43mself\u001b[39;49m\u001b[38;5;241;43m.\u001b[39;49m\u001b[43m_engine\u001b[49m\u001b[38;5;241;43m.\u001b[39;49m\u001b[43mget_loc\u001b[49m\u001b[43m(\u001b[49m\u001b[43mcasted_key\u001b[49m\u001b[43m)\u001b[49m\n\u001b[0;32m   3630\u001b[0m \u001b[38;5;28;01mexcept\u001b[39;00m \u001b[38;5;167;01mKeyError\u001b[39;00m \u001b[38;5;28;01mas\u001b[39;00m err:\n",
      "File \u001b[1;32m~\\anaconda3\\envs\\nlp\\lib\\site-packages\\pandas\\_libs\\index.pyx:136\u001b[0m, in \u001b[0;36mpandas._libs.index.IndexEngine.get_loc\u001b[1;34m()\u001b[0m\n",
      "File \u001b[1;32m~\\anaconda3\\envs\\nlp\\lib\\site-packages\\pandas\\_libs\\index.pyx:163\u001b[0m, in \u001b[0;36mpandas._libs.index.IndexEngine.get_loc\u001b[1;34m()\u001b[0m\n",
      "File \u001b[1;32mpandas\\_libs\\hashtable_class_helper.pxi:2131\u001b[0m, in \u001b[0;36mpandas._libs.hashtable.Int64HashTable.get_item\u001b[1;34m()\u001b[0m\n",
      "File \u001b[1;32mpandas\\_libs\\hashtable_class_helper.pxi:2140\u001b[0m, in \u001b[0;36mpandas._libs.hashtable.Int64HashTable.get_item\u001b[1;34m()\u001b[0m\n",
      "\u001b[1;31mKeyError\u001b[0m: 8814360237760288963",
      "\nThe above exception was the direct cause of the following exception:\n",
      "\u001b[1;31mKeyError\u001b[0m                                  Traceback (most recent call last)",
      "Input \u001b[1;32mIn [222]\u001b[0m, in \u001b[0;36m<cell line: 2>\u001b[1;34m()\u001b[0m\n\u001b[0;32m      2\u001b[0m \u001b[38;5;28;01mfor\u001b[39;00m user_index \u001b[38;5;129;01min\u001b[39;00m user_index:\n\u001b[0;32m      3\u001b[0m     user_relevant_set \u001b[38;5;241m=\u001b[39m ratings_df[(ratings_df[\u001b[38;5;124m'\u001b[39m\u001b[38;5;124mconsumer_id\u001b[39m\u001b[38;5;124m'\u001b[39m]\u001b[38;5;241m==\u001b[39muser_index) \u001b[38;5;241m&\u001b[39m (ratings_df[\u001b[38;5;124m'\u001b[39m\u001b[38;5;124mratings\u001b[39m\u001b[38;5;124m'\u001b[39m]\u001b[38;5;241m>\u001b[39m\u001b[38;5;241m3\u001b[39m)]\u001b[38;5;241m.\u001b[39msort_values(by\u001b[38;5;241m=\u001b[39m\u001b[38;5;124m'\u001b[39m\u001b[38;5;124mratings\u001b[39m\u001b[38;5;124m'\u001b[39m,ascending\u001b[38;5;241m=\u001b[39m\u001b[38;5;28;01mFalse\u001b[39;00m)[\u001b[38;5;124m'\u001b[39m\u001b[38;5;124mitem_id\u001b[39m\u001b[38;5;124m'\u001b[39m]\u001b[38;5;241m.\u001b[39mtolist()\n\u001b[1;32m----> 4\u001b[0m     user_predicted_set \u001b[38;5;241m=\u001b[39m \u001b[43mprediction_df\u001b[49m\u001b[38;5;241;43m.\u001b[39;49m\u001b[43mloc\u001b[49m\u001b[43m[\u001b[49m\u001b[43muser_index\u001b[49m\u001b[43m]\u001b[49m\u001b[38;5;241m.\u001b[39msort_values(ascending\u001b[38;5;241m=\u001b[39m\u001b[38;5;28;01mFalse\u001b[39;00m)[:\u001b[38;5;241m10\u001b[39m]\u001b[38;5;241m.\u001b[39mindex\u001b[38;5;241m.\u001b[39mtolist()\n\u001b[0;32m      5\u001b[0m     precision_at_10 \u001b[38;5;241m=\u001b[39m (\u001b[38;5;28mlen\u001b[39m(\u001b[38;5;28mlist\u001b[39m(\u001b[38;5;28mset\u001b[39m(user_relevant_set) \u001b[38;5;241m&\u001b[39m \u001b[38;5;28mset\u001b[39m(user_predicted_set))))\u001b[38;5;241m/\u001b[39m\u001b[38;5;241m10\u001b[39m\n\u001b[0;32m      6\u001b[0m     \u001b[38;5;28mprint\u001b[39m(precision_at_10)\n",
      "File \u001b[1;32m~\\anaconda3\\envs\\nlp\\lib\\site-packages\\pandas\\core\\indexing.py:967\u001b[0m, in \u001b[0;36m_LocationIndexer.__getitem__\u001b[1;34m(self, key)\u001b[0m\n\u001b[0;32m    964\u001b[0m axis \u001b[38;5;241m=\u001b[39m \u001b[38;5;28mself\u001b[39m\u001b[38;5;241m.\u001b[39maxis \u001b[38;5;129;01mor\u001b[39;00m \u001b[38;5;241m0\u001b[39m\n\u001b[0;32m    966\u001b[0m maybe_callable \u001b[38;5;241m=\u001b[39m com\u001b[38;5;241m.\u001b[39mapply_if_callable(key, \u001b[38;5;28mself\u001b[39m\u001b[38;5;241m.\u001b[39mobj)\n\u001b[1;32m--> 967\u001b[0m \u001b[38;5;28;01mreturn\u001b[39;00m \u001b[38;5;28;43mself\u001b[39;49m\u001b[38;5;241;43m.\u001b[39;49m\u001b[43m_getitem_axis\u001b[49m\u001b[43m(\u001b[49m\u001b[43mmaybe_callable\u001b[49m\u001b[43m,\u001b[49m\u001b[43m \u001b[49m\u001b[43maxis\u001b[49m\u001b[38;5;241;43m=\u001b[39;49m\u001b[43maxis\u001b[49m\u001b[43m)\u001b[49m\n",
      "File \u001b[1;32m~\\anaconda3\\envs\\nlp\\lib\\site-packages\\pandas\\core\\indexing.py:1205\u001b[0m, in \u001b[0;36m_LocIndexer._getitem_axis\u001b[1;34m(self, key, axis)\u001b[0m\n\u001b[0;32m   1203\u001b[0m \u001b[38;5;66;03m# fall thru to straight lookup\u001b[39;00m\n\u001b[0;32m   1204\u001b[0m \u001b[38;5;28mself\u001b[39m\u001b[38;5;241m.\u001b[39m_validate_key(key, axis)\n\u001b[1;32m-> 1205\u001b[0m \u001b[38;5;28;01mreturn\u001b[39;00m \u001b[38;5;28;43mself\u001b[39;49m\u001b[38;5;241;43m.\u001b[39;49m\u001b[43m_get_label\u001b[49m\u001b[43m(\u001b[49m\u001b[43mkey\u001b[49m\u001b[43m,\u001b[49m\u001b[43m \u001b[49m\u001b[43maxis\u001b[49m\u001b[38;5;241;43m=\u001b[39;49m\u001b[43maxis\u001b[49m\u001b[43m)\u001b[49m\n",
      "File \u001b[1;32m~\\anaconda3\\envs\\nlp\\lib\\site-packages\\pandas\\core\\indexing.py:1153\u001b[0m, in \u001b[0;36m_LocIndexer._get_label\u001b[1;34m(self, label, axis)\u001b[0m\n\u001b[0;32m   1151\u001b[0m \u001b[38;5;28;01mdef\u001b[39;00m \u001b[38;5;21m_get_label\u001b[39m(\u001b[38;5;28mself\u001b[39m, label, axis: \u001b[38;5;28mint\u001b[39m):\n\u001b[0;32m   1152\u001b[0m     \u001b[38;5;66;03m# GH#5667 this will fail if the label is not present in the axis.\u001b[39;00m\n\u001b[1;32m-> 1153\u001b[0m     \u001b[38;5;28;01mreturn\u001b[39;00m \u001b[38;5;28;43mself\u001b[39;49m\u001b[38;5;241;43m.\u001b[39;49m\u001b[43mobj\u001b[49m\u001b[38;5;241;43m.\u001b[39;49m\u001b[43mxs\u001b[49m\u001b[43m(\u001b[49m\u001b[43mlabel\u001b[49m\u001b[43m,\u001b[49m\u001b[43m \u001b[49m\u001b[43maxis\u001b[49m\u001b[38;5;241;43m=\u001b[39;49m\u001b[43maxis\u001b[49m\u001b[43m)\u001b[49m\n",
      "File \u001b[1;32m~\\anaconda3\\envs\\nlp\\lib\\site-packages\\pandas\\core\\generic.py:3864\u001b[0m, in \u001b[0;36mNDFrame.xs\u001b[1;34m(self, key, axis, level, drop_level)\u001b[0m\n\u001b[0;32m   3862\u001b[0m             new_index \u001b[38;5;241m=\u001b[39m index[loc]\n\u001b[0;32m   3863\u001b[0m \u001b[38;5;28;01melse\u001b[39;00m:\n\u001b[1;32m-> 3864\u001b[0m     loc \u001b[38;5;241m=\u001b[39m \u001b[43mindex\u001b[49m\u001b[38;5;241;43m.\u001b[39;49m\u001b[43mget_loc\u001b[49m\u001b[43m(\u001b[49m\u001b[43mkey\u001b[49m\u001b[43m)\u001b[49m\n\u001b[0;32m   3866\u001b[0m     \u001b[38;5;28;01mif\u001b[39;00m \u001b[38;5;28misinstance\u001b[39m(loc, np\u001b[38;5;241m.\u001b[39mndarray):\n\u001b[0;32m   3867\u001b[0m         \u001b[38;5;28;01mif\u001b[39;00m loc\u001b[38;5;241m.\u001b[39mdtype \u001b[38;5;241m==\u001b[39m np\u001b[38;5;241m.\u001b[39mbool_:\n",
      "File \u001b[1;32m~\\anaconda3\\envs\\nlp\\lib\\site-packages\\pandas\\core\\indexes\\base.py:3631\u001b[0m, in \u001b[0;36mIndex.get_loc\u001b[1;34m(self, key, method, tolerance)\u001b[0m\n\u001b[0;32m   3629\u001b[0m     \u001b[38;5;28;01mreturn\u001b[39;00m \u001b[38;5;28mself\u001b[39m\u001b[38;5;241m.\u001b[39m_engine\u001b[38;5;241m.\u001b[39mget_loc(casted_key)\n\u001b[0;32m   3630\u001b[0m \u001b[38;5;28;01mexcept\u001b[39;00m \u001b[38;5;167;01mKeyError\u001b[39;00m \u001b[38;5;28;01mas\u001b[39;00m err:\n\u001b[1;32m-> 3631\u001b[0m     \u001b[38;5;28;01mraise\u001b[39;00m \u001b[38;5;167;01mKeyError\u001b[39;00m(key) \u001b[38;5;28;01mfrom\u001b[39;00m \u001b[38;5;21;01merr\u001b[39;00m\n\u001b[0;32m   3632\u001b[0m \u001b[38;5;28;01mexcept\u001b[39;00m \u001b[38;5;167;01mTypeError\u001b[39;00m:\n\u001b[0;32m   3633\u001b[0m     \u001b[38;5;66;03m# If we have a listlike key, _check_indexing_error will raise\u001b[39;00m\n\u001b[0;32m   3634\u001b[0m     \u001b[38;5;66;03m#  InvalidIndexError. Otherwise we fall through and re-raise\u001b[39;00m\n\u001b[0;32m   3635\u001b[0m     \u001b[38;5;66;03m#  the TypeError.\u001b[39;00m\n\u001b[0;32m   3636\u001b[0m     \u001b[38;5;28mself\u001b[39m\u001b[38;5;241m.\u001b[39m_check_indexing_error(key)\n",
      "\u001b[1;31mKeyError\u001b[0m: 8814360237760288963"
     ]
    }
   ],
   "source": [
    "# calculating global precision values for all the consumers at the platform\n",
    "for user_index in user_index:\n",
    "    user_relevant_set = ratings_df[(ratings_df['consumer_id']==user_index) & (ratings_df['ratings']>3)].sort_values(by='ratings',ascending=False)['item_id'].tolist()\n",
    "    user_predicted_set = prediction_df.loc[user_index].sort_values(ascending=False)[:10].index.tolist()\n",
    "    precision_at_10 = (len(list(set(user_relevant_set) & set(user_predicted_set))))/10\n",
    "    print(precision_at_10)\n",
    "    global_precision = global_precision + precision_at_10\n"
   ]
  },
  {
   "cell_type": "code",
   "execution_count": 223,
   "id": "d24f96ed",
   "metadata": {},
   "outputs": [
    {
     "data": {
      "text/plain": [
       "19.500000000000004"
      ]
     },
     "execution_count": 223,
     "metadata": {},
     "output_type": "execute_result"
    }
   ],
   "source": [
    "global_precision"
   ]
  },
  {
   "cell_type": "code",
   "execution_count": 224,
   "id": "66392c21",
   "metadata": {},
   "outputs": [],
   "source": [
    "global_average_precision = global_precision/ratings_df['consumer_id'].nunique()"
   ]
  },
  {
   "cell_type": "code",
   "execution_count": 225,
   "id": "91b968bd",
   "metadata": {},
   "outputs": [
    {
     "data": {
      "text/plain": [
       "0.010290237467018471"
      ]
     },
     "execution_count": 225,
     "metadata": {},
     "output_type": "execute_result"
    }
   ],
   "source": [
    "global_average_precision"
   ]
  },
  {
   "cell_type": "markdown",
   "id": "9d914ea6",
   "metadata": {},
   "source": [
    "### Don't recommend articles which user has already read"
   ]
  },
  {
   "cell_type": "code",
   "execution_count": 226,
   "id": "42c204ed",
   "metadata": {},
   "outputs": [],
   "source": [
    "# for any random user create a datframe with the list of item_ids and the respective ratings\n",
    "df_user = pd.DataFrame(data_matrix_full.columns, data_matrix_full.to_numpy()[2], columns=['item_id'])"
   ]
  },
  {
   "cell_type": "code",
   "execution_count": 227,
   "id": "44f7fad7",
   "metadata": {},
   "outputs": [
    {
     "data": {
      "text/html": [
       "<div>\n",
       "<style scoped>\n",
       "    .dataframe tbody tr th:only-of-type {\n",
       "        vertical-align: middle;\n",
       "    }\n",
       "\n",
       "    .dataframe tbody tr th {\n",
       "        vertical-align: top;\n",
       "    }\n",
       "\n",
       "    .dataframe thead th {\n",
       "        text-align: right;\n",
       "    }\n",
       "</style>\n",
       "<table border=\"1\" class=\"dataframe\">\n",
       "  <thead>\n",
       "    <tr style=\"text-align: right;\">\n",
       "      <th></th>\n",
       "      <th>item_id</th>\n",
       "    </tr>\n",
       "  </thead>\n",
       "  <tbody>\n",
       "    <tr>\n",
       "      <th>0.0</th>\n",
       "      <td>-9222795471790223670</td>\n",
       "    </tr>\n",
       "    <tr>\n",
       "      <th>1.5</th>\n",
       "      <td>-9216926795620865886</td>\n",
       "    </tr>\n",
       "    <tr>\n",
       "      <th>0.0</th>\n",
       "      <td>-9194572880052200111</td>\n",
       "    </tr>\n",
       "    <tr>\n",
       "      <th>0.0</th>\n",
       "      <td>-9192549002213406534</td>\n",
       "    </tr>\n",
       "    <tr>\n",
       "      <th>0.0</th>\n",
       "      <td>-9190737901804729417</td>\n",
       "    </tr>\n",
       "    <tr>\n",
       "      <th>0.0</th>\n",
       "      <td>-9189659052158407108</td>\n",
       "    </tr>\n",
       "    <tr>\n",
       "      <th>0.0</th>\n",
       "      <td>-9184137057748005562</td>\n",
       "    </tr>\n",
       "    <tr>\n",
       "      <th>0.0</th>\n",
       "      <td>-9176143510534135851</td>\n",
       "    </tr>\n",
       "    <tr>\n",
       "      <th>0.0</th>\n",
       "      <td>-9172673334835262304</td>\n",
       "    </tr>\n",
       "    <tr>\n",
       "      <th>0.0</th>\n",
       "      <td>-9171475473795142532</td>\n",
       "    </tr>\n",
       "  </tbody>\n",
       "</table>\n",
       "</div>"
      ],
      "text/plain": [
       "                 item_id\n",
       "0.0 -9222795471790223670\n",
       "1.5 -9216926795620865886\n",
       "0.0 -9194572880052200111\n",
       "0.0 -9192549002213406534\n",
       "0.0 -9190737901804729417\n",
       "0.0 -9189659052158407108\n",
       "0.0 -9184137057748005562\n",
       "0.0 -9176143510534135851\n",
       "0.0 -9172673334835262304\n",
       "0.0 -9171475473795142532"
      ]
     },
     "execution_count": 227,
     "metadata": {},
     "output_type": "execute_result"
    }
   ],
   "source": [
    "df_user.head(10)"
   ]
  },
  {
   "cell_type": "code",
   "execution_count": 228,
   "id": "e00e6b95",
   "metadata": {},
   "outputs": [],
   "source": [
    "# resetting the index\n",
    "df_user = df_user.reset_index()"
   ]
  },
  {
   "cell_type": "code",
   "execution_count": 229,
   "id": "2edbd394",
   "metadata": {},
   "outputs": [
    {
     "data": {
      "text/html": [
       "<div>\n",
       "<style scoped>\n",
       "    .dataframe tbody tr th:only-of-type {\n",
       "        vertical-align: middle;\n",
       "    }\n",
       "\n",
       "    .dataframe tbody tr th {\n",
       "        vertical-align: top;\n",
       "    }\n",
       "\n",
       "    .dataframe thead th {\n",
       "        text-align: right;\n",
       "    }\n",
       "</style>\n",
       "<table border=\"1\" class=\"dataframe\">\n",
       "  <thead>\n",
       "    <tr style=\"text-align: right;\">\n",
       "      <th></th>\n",
       "      <th>index</th>\n",
       "      <th>item_id</th>\n",
       "    </tr>\n",
       "  </thead>\n",
       "  <tbody>\n",
       "    <tr>\n",
       "      <th>0</th>\n",
       "      <td>0.0</td>\n",
       "      <td>-9222795471790223670</td>\n",
       "    </tr>\n",
       "    <tr>\n",
       "      <th>1</th>\n",
       "      <td>1.5</td>\n",
       "      <td>-9216926795620865886</td>\n",
       "    </tr>\n",
       "    <tr>\n",
       "      <th>2</th>\n",
       "      <td>0.0</td>\n",
       "      <td>-9194572880052200111</td>\n",
       "    </tr>\n",
       "    <tr>\n",
       "      <th>3</th>\n",
       "      <td>0.0</td>\n",
       "      <td>-9192549002213406534</td>\n",
       "    </tr>\n",
       "    <tr>\n",
       "      <th>4</th>\n",
       "      <td>0.0</td>\n",
       "      <td>-9190737901804729417</td>\n",
       "    </tr>\n",
       "  </tbody>\n",
       "</table>\n",
       "</div>"
      ],
      "text/plain": [
       "   index              item_id\n",
       "0    0.0 -9222795471790223670\n",
       "1    1.5 -9216926795620865886\n",
       "2    0.0 -9194572880052200111\n",
       "3    0.0 -9192549002213406534\n",
       "4    0.0 -9190737901804729417"
      ]
     },
     "execution_count": 229,
     "metadata": {},
     "output_type": "execute_result"
    }
   ],
   "source": [
    "df_user.head()"
   ]
  },
  {
   "cell_type": "code",
   "execution_count": 230,
   "id": "21bd10b8",
   "metadata": {},
   "outputs": [],
   "source": [
    "# changing the column names and rearranging the columns\n",
    "df_user.columns = ['ratings', 'item_id']\n",
    "df_user = df_user[['item_id', 'ratings']]"
   ]
  },
  {
   "cell_type": "code",
   "execution_count": 231,
   "id": "2532b273",
   "metadata": {},
   "outputs": [
    {
     "data": {
      "text/plain": [
       "0.000000    2980\n",
       "1.500000       3\n",
       "1.000000       2\n",
       "2.000000       1\n",
       "1.333333       1\n",
       "Name: ratings, dtype: int64"
      ]
     },
     "execution_count": 231,
     "metadata": {},
     "output_type": "execute_result"
    }
   ],
   "source": [
    "df_user['ratings'].value_counts()"
   ]
  },
  {
   "cell_type": "code",
   "execution_count": 232,
   "id": "f4c5924d",
   "metadata": {},
   "outputs": [
    {
     "data": {
      "text/plain": [
       "(2987, 2)"
      ]
     },
     "execution_count": 232,
     "metadata": {},
     "output_type": "execute_result"
    }
   ],
   "source": [
    "df_user.shape"
   ]
  },
  {
   "cell_type": "code",
   "execution_count": 233,
   "id": "ecfc0415",
   "metadata": {},
   "outputs": [],
   "source": [
    "# merging the two dataframes on item_ids to generate titles as well\n",
    "merged_collab = pd.merge(merged_user, df_user, on='item_id', how='left')"
   ]
  },
  {
   "cell_type": "code",
   "execution_count": 234,
   "id": "b8a53772",
   "metadata": {},
   "outputs": [
    {
     "data": {
      "text/html": [
       "<div>\n",
       "<style scoped>\n",
       "    .dataframe tbody tr th:only-of-type {\n",
       "        vertical-align: middle;\n",
       "    }\n",
       "\n",
       "    .dataframe tbody tr th {\n",
       "        vertical-align: top;\n",
       "    }\n",
       "\n",
       "    .dataframe thead th {\n",
       "        text-align: right;\n",
       "    }\n",
       "</style>\n",
       "<table border=\"1\" class=\"dataframe\">\n",
       "  <thead>\n",
       "    <tr style=\"text-align: right;\">\n",
       "      <th></th>\n",
       "      <th>item_id</th>\n",
       "      <th>score</th>\n",
       "      <th>title</th>\n",
       "      <th>ratings</th>\n",
       "    </tr>\n",
       "  </thead>\n",
       "  <tbody>\n",
       "    <tr>\n",
       "      <th>0</th>\n",
       "      <td>-6843047699859121724</td>\n",
       "      <td>14.648443</td>\n",
       "      <td>Ganhe 6 meses de acesso ao Pluralsight, maior plataforma de treinamento online</td>\n",
       "      <td>0.0</td>\n",
       "    </tr>\n",
       "    <tr>\n",
       "      <th>1</th>\n",
       "      <td>-8208801367848627943</td>\n",
       "      <td>10.762224</td>\n",
       "      <td>Ray Kurzweil: The world isn't getting worse - our information is getting better</td>\n",
       "      <td>0.0</td>\n",
       "    </tr>\n",
       "    <tr>\n",
       "      <th>2</th>\n",
       "      <td>-4333957157636611418</td>\n",
       "      <td>10.448007</td>\n",
       "      <td>Why Programmers Want Private Offices</td>\n",
       "      <td>0.0</td>\n",
       "    </tr>\n",
       "    <tr>\n",
       "      <th>3</th>\n",
       "      <td>8901449108040307914</td>\n",
       "      <td>8.795220</td>\n",
       "      <td>Monitoramento em tempo real com Elasticsearch e Kibana</td>\n",
       "      <td>0.0</td>\n",
       "    </tr>\n",
       "    <tr>\n",
       "      <th>4</th>\n",
       "      <td>9175693555063886126</td>\n",
       "      <td>8.316572</td>\n",
       "      <td>15 minutos sobre Docker</td>\n",
       "      <td>0.0</td>\n",
       "    </tr>\n",
       "  </tbody>\n",
       "</table>\n",
       "</div>"
      ],
      "text/plain": [
       "               item_id      score  \\\n",
       "0 -6843047699859121724  14.648443   \n",
       "1 -8208801367848627943  10.762224   \n",
       "2 -4333957157636611418  10.448007   \n",
       "3  8901449108040307914   8.795220   \n",
       "4  9175693555063886126   8.316572   \n",
       "\n",
       "                                                                             title  \\\n",
       "0   Ganhe 6 meses de acesso ao Pluralsight, maior plataforma de treinamento online   \n",
       "1  Ray Kurzweil: The world isn't getting worse - our information is getting better   \n",
       "2                                             Why Programmers Want Private Offices   \n",
       "3                           Monitoramento em tempo real com Elasticsearch e Kibana   \n",
       "4                                                          15 minutos sobre Docker   \n",
       "\n",
       "   ratings  \n",
       "0      0.0  \n",
       "1      0.0  \n",
       "2      0.0  \n",
       "3      0.0  \n",
       "4      0.0  "
      ]
     },
     "execution_count": 234,
     "metadata": {},
     "output_type": "execute_result"
    }
   ],
   "source": [
    "merged_collab.head()"
   ]
  },
  {
   "cell_type": "code",
   "execution_count": 235,
   "id": "64ba1599",
   "metadata": {},
   "outputs": [
    {
     "data": {
      "text/plain": [
       "(3001, 4)"
      ]
     },
     "execution_count": 235,
     "metadata": {},
     "output_type": "execute_result"
    }
   ],
   "source": [
    "merged_collab.shape"
   ]
  },
  {
   "cell_type": "code",
   "execution_count": 236,
   "id": "b3727271",
   "metadata": {},
   "outputs": [],
   "source": [
    "merged_collab = merged_collab.drop(merged_collab[merged_collab['ratings']>0.0].index)"
   ]
  },
  {
   "cell_type": "code",
   "execution_count": 237,
   "id": "bbf4fde3",
   "metadata": {},
   "outputs": [
    {
     "data": {
      "text/html": [
       "<div>\n",
       "<style scoped>\n",
       "    .dataframe tbody tr th:only-of-type {\n",
       "        vertical-align: middle;\n",
       "    }\n",
       "\n",
       "    .dataframe tbody tr th {\n",
       "        vertical-align: top;\n",
       "    }\n",
       "\n",
       "    .dataframe thead th {\n",
       "        text-align: right;\n",
       "    }\n",
       "</style>\n",
       "<table border=\"1\" class=\"dataframe\">\n",
       "  <thead>\n",
       "    <tr style=\"text-align: right;\">\n",
       "      <th></th>\n",
       "      <th>item_id</th>\n",
       "      <th>score</th>\n",
       "      <th>title</th>\n",
       "      <th>ratings</th>\n",
       "    </tr>\n",
       "  </thead>\n",
       "  <tbody>\n",
       "    <tr>\n",
       "      <th>0</th>\n",
       "      <td>-6843047699859121724</td>\n",
       "      <td>14.648443</td>\n",
       "      <td>Ganhe 6 meses de acesso ao Pluralsight, maior plataforma de treinamento online</td>\n",
       "      <td>0.0</td>\n",
       "    </tr>\n",
       "    <tr>\n",
       "      <th>1</th>\n",
       "      <td>-8208801367848627943</td>\n",
       "      <td>10.762224</td>\n",
       "      <td>Ray Kurzweil: The world isn't getting worse - our information is getting better</td>\n",
       "      <td>0.0</td>\n",
       "    </tr>\n",
       "    <tr>\n",
       "      <th>2</th>\n",
       "      <td>-4333957157636611418</td>\n",
       "      <td>10.448007</td>\n",
       "      <td>Why Programmers Want Private Offices</td>\n",
       "      <td>0.0</td>\n",
       "    </tr>\n",
       "    <tr>\n",
       "      <th>3</th>\n",
       "      <td>8901449108040307914</td>\n",
       "      <td>8.795220</td>\n",
       "      <td>Monitoramento em tempo real com Elasticsearch e Kibana</td>\n",
       "      <td>0.0</td>\n",
       "    </tr>\n",
       "    <tr>\n",
       "      <th>4</th>\n",
       "      <td>9175693555063886126</td>\n",
       "      <td>8.316572</td>\n",
       "      <td>15 minutos sobre Docker</td>\n",
       "      <td>0.0</td>\n",
       "    </tr>\n",
       "  </tbody>\n",
       "</table>\n",
       "</div>"
      ],
      "text/plain": [
       "               item_id      score  \\\n",
       "0 -6843047699859121724  14.648443   \n",
       "1 -8208801367848627943  10.762224   \n",
       "2 -4333957157636611418  10.448007   \n",
       "3  8901449108040307914   8.795220   \n",
       "4  9175693555063886126   8.316572   \n",
       "\n",
       "                                                                             title  \\\n",
       "0   Ganhe 6 meses de acesso ao Pluralsight, maior plataforma de treinamento online   \n",
       "1  Ray Kurzweil: The world isn't getting worse - our information is getting better   \n",
       "2                                             Why Programmers Want Private Offices   \n",
       "3                           Monitoramento em tempo real com Elasticsearch e Kibana   \n",
       "4                                                          15 minutos sobre Docker   \n",
       "\n",
       "   ratings  \n",
       "0      0.0  \n",
       "1      0.0  \n",
       "2      0.0  \n",
       "3      0.0  \n",
       "4      0.0  "
      ]
     },
     "execution_count": 237,
     "metadata": {},
     "output_type": "execute_result"
    }
   ],
   "source": [
    "merged_collab.head()"
   ]
  },
  {
   "cell_type": "code",
   "execution_count": 238,
   "id": "878a19d6",
   "metadata": {},
   "outputs": [
    {
     "data": {
      "text/plain": [
       "0     Ganhe 6 meses de acesso ao Pluralsight, maior plataforma de treinamento online\n",
       "1    Ray Kurzweil: The world isn't getting worse - our information is getting better\n",
       "2                                               Why Programmers Want Private Offices\n",
       "3                             Monitoramento em tempo real com Elasticsearch e Kibana\n",
       "4                                                            15 minutos sobre Docker\n",
       "5                         Robô acha de almoço de 12 kg a cervejas pagas pelo cidadão\n",
       "6                                               The technology behind preview photos\n",
       "7          Google vai reduzir em 50% consumo de memória do Chrome | Google Discovery\n",
       "8                                              The hardest thing in computer science\n",
       "9                                                                   Front in BH 2016\n",
       "Name: title, dtype: object"
      ]
     },
     "execution_count": 238,
     "metadata": {},
     "output_type": "execute_result"
    }
   ],
   "source": [
    "# Getting the top recommended articles for the particular user\n",
    "merged_collab['title'][:10]"
   ]
  },
  {
   "cell_type": "markdown",
   "id": "f81d1be1",
   "metadata": {},
   "source": [
    "## Summary :\n",
    "\n",
    "#### Exploratory data analysis is performed\n",
    "Exploring the various features present in the data set for their distribution and any meaningful inferences.\n",
    "Check the distribution of interaction type, consumer location/country, producer country/location, item type and so on.\n",
    "Check the most common language and most popular country that consumes the articles on the platform.\n",
    "\n",
    "### Recommendation Techniques used are:\n",
    "#### Content-based filtering\n",
    "* Used various text processing techniques to analyse the ‘keywords’ feature in the data set.\n",
    "* Recommended similar items based on the TF-IDF scores.\n",
    "\n",
    "#### User-based collaborative filtering\n",
    "* Created user-item matrix using the rating values.\n",
    "* Found user-similarity matrix based on a similarity measure.\n",
    "* Generated predicted ratings for all the user-item pairs.\n",
    "\n",
    "#### Item-based collaborative filtering\n",
    "* Found the item-similarity matrix based on a similarity measure.\n",
    "* Generated the top 10 similar and relevant items based on the similarity scores.\n",
    "\n",
    "#### Hybrid recommendation system\n",
    "* Normalised the scores for content and collaborative filtering and combine them with an appropriate weightage to build a hybrid model.\n",
    "* Tried out hybrids of different types of models that can help recommend items similar to a particular item.\n",
    "\n",
    "#### ALS\n",
    "* Created Compressed Sparse user-item and item-user matrices. \n",
    "* Trained the ALS model and generate recommendations for a user.\n",
    "\n",
    "### Model evaluation\n",
    "Used appropriate evaluation metrics, such as RMSE, MAE and precision@k, to evaluate the recommendations generated for a user as mentioned in the first part of the problem statement and used global precision@k to assess the overall performance of the recommendation system.\n",
    "\n",
    "At last, made recommendation for the users and recommended the news articles which were not initially read by the user."
   ]
  }
 ],
 "metadata": {
  "kernelspec": {
   "display_name": "nlp",
   "language": "python",
   "name": "nlp"
  },
  "language_info": {
   "codemirror_mode": {
    "name": "ipython",
    "version": 3
   },
   "file_extension": ".py",
   "mimetype": "text/x-python",
   "name": "python",
   "nbconvert_exporter": "python",
   "pygments_lexer": "ipython3",
   "version": "3.9.13"
  }
 },
 "nbformat": 4,
 "nbformat_minor": 5
}
